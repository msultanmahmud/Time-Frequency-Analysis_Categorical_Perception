{
 "cells": [
  {
   "cell_type": "code",
   "execution_count": 1,
   "metadata": {},
   "outputs": [],
   "source": [
    "import pandas as pd\n",
    "import numpy as np\n",
    "import math\n",
    "import matplotlib.pyplot as plt\n",
    "import pywt"
   ]
  },
  {
   "cell_type": "markdown",
   "metadata": {},
   "source": [
    "## This is for without baseline corretion data"
   ]
  },
  {
   "cell_type": "code",
   "execution_count": 2,
   "metadata": {},
   "outputs": [],
   "source": [
    "# # data=\"/home/sultan/EEG_CP/CP_Extracted_CSV_Source_Dk_data/S1/Trig_1\"\n",
    "# dpath=\"/home/sultan/EEG_CP/CP_Extracted_CSV_Source_Dk_data/S1/Trig_1/S1Trig1_t1.csv\"\n",
    "# # dpath=\"/home/sultan/EEG_CP/CP_Extracted_CSV_Source_Dk_data/S1/Trig_1/S1Trig1_t99.csv\"\n",
    "# # dpath=\"/home/sultan/EEG_CP/Baseline_Corrected_Source_CP_Data/S1/Trig_1/BC_S1Trig1_t1.csv\"\n",
    "# df1=pd.read_csv(dpath)\n",
    "# tmp = df1.copy()\n",
    "# tmp = tmp.drop(columns=['cc1'] )\n",
    "# ## base line correction\n",
    "# orgd=np.asmatrix(tmp)\n",
    "# blm=np.mean(tmp.iloc[:,0:100],axis=1)\n",
    "# bsm=np.asmatrix(blm).T\n",
    "# ablc=orgd-bsm\n",
    "# df2=np.asarray(ablc)\n",
    "# # df2[1]\n",
    "# df2.shape"
   ]
  },
  {
   "cell_type": "markdown",
   "metadata": {},
   "source": [
    "## This is for baseline correction data"
   ]
  },
  {
   "cell_type": "code",
   "execution_count": 3,
   "metadata": {},
   "outputs": [],
   "source": [
    "# # data=\"/home/sultan/EEG_CP/CP_Extracted_CSV_Source_Dk_data/S1/Trig_1\"\n",
    "# # dpath=\"/home/sultan/EEG_CP/Baseline_Corrected_Source_CP_Data/S1/Trig_1/BC_S1Trig1_t1.csv\"\n",
    "# df1=pd.read_csv(dpath)\n",
    "# tmp = df1.copy()\n",
    "# tmp = tmp.drop(columns=['cc1'] )\n",
    "# # orgd=np.asmatrix(tmp)\n",
    "# # df2=orgd\n",
    "# # df2.shape\n",
    "# df2=tmp.iloc[:,1:]\n",
    "# df2=np.asarray(df2)\n",
    "# df2\n",
    "# data=df2"
   ]
  },
  {
   "cell_type": "code",
   "execution_count": 4,
   "metadata": {},
   "outputs": [],
   "source": [
    "# # # data=\"/home/sultan/EEG_CP/CP_Extracted_CSV_Source_Dk_data/S1/Trig_1\"\n",
    "# dpath=\"/home/sultan/EEG_CP/Baseline_Corrected_Source_CP_Data/S1/Trig_1/BC_S1Trig1_t1.csv\"\n",
    "# df1=pd.read_csv(dpath)\n",
    "# tmp = df1.copy()\n",
    "# tmp = tmp.drop(columns=['cc1'] )\n",
    "# # orgd=np.asmatrix(tmp)\n",
    "# # df2=orgd\n",
    "# # df2.shape\n",
    "# df2=tmp.iloc[:,1:]\n",
    "# df2=np.asarray(df2)\n",
    "# df2\n",
    "# data=df2"
   ]
  },
  {
   "cell_type": "markdown",
   "metadata": {},
   "source": [
    "### Frequency with scale\n",
    "## theta=5-8, alpha=9-13, Beta=14-29,gamma=30> "
   ]
  },
  {
   "cell_type": "code",
   "execution_count": 5,
   "metadata": {},
   "outputs": [],
   "source": [
    "dt =1/500.0  # 100 Hz sample\n",
    "frequencies = pywt.scale2frequency('morl', np.arange(1,101))/dt\n",
    "thein=np.logical_and(frequencies>=5, frequencies<=8)\n",
    "theindex=np.where(thein)\n",
    "alpin=np.logical_and(frequencies>=9, frequencies<=13)\n",
    "alpindex=np.where(alpin)\n",
    "betin=np.logical_and(frequencies>=14, frequencies<=29)\n",
    "betindex=np.where(betin)\n",
    "gamin=np.logical_and(frequencies>=30, frequencies<=100)\n",
    "gamindex=np.where(gamin)"
   ]
  },
  {
   "cell_type": "markdown",
   "metadata": {},
   "source": [
    "## Spectral_single trial"
   ]
  },
  {
   "cell_type": "code",
   "execution_count": 6,
   "metadata": {},
   "outputs": [],
   "source": [
    "# plt.figure(8,10)\n",
    "# f, ax = plt.subplots(8,10,figsize=(20,15))\n",
    "def spectral_single(theindex,alpindex,betindex,gamindex,df2):\n",
    "    t=np.linspace(-200,800, 500, endpoint=False)\n",
    "    widths = np.arange(1,100)\n",
    "    te=[];al=[];be=[];ga=[];\n",
    "    for i in range(0,68):\n",
    "        cwtmatr, freqs = pywt.cwt(df2[i], widths, 'morl')\n",
    "        theta=np.mean(cwtmatr[theindex,:][0],axis=0)\n",
    "        alpha=np.mean(cwtmatr[alpindex,:][0],axis=0)\n",
    "        beta=np.mean(cwtmatr[betindex,:][0],axis=0)\n",
    "        gamma=np.mean(cwtmatr[gamindex,:][0],axis=0)\n",
    "        te.append(theta);al.append(alpha);be.append(beta);ga.append(gamma)\n",
    "    #     ax=plt.subplot(8,9,i+1)\n",
    "    #     ax.imshow(cwtmatr, extent=[-200, 800, 1, 100], cmap='jet', aspect='auto',vmax=abs(cwtmatr).max(), vmin=-abs(cwtmatr).max()) # doctest:\n",
    "    #     plt.title(i)\n",
    "    # plt.show() # doctest: +SKIP\n",
    "    return te,al,be,ga"
   ]
  },
  {
   "cell_type": "code",
   "execution_count": 7,
   "metadata": {},
   "outputs": [],
   "source": [
    "def evoked_induced(mychunk):\n",
    "    alld=tz=az=bz=gz= np.zeros((68, 500))\n",
    "    cl=len(mychunk)\n",
    "    for c in range(0,cl):\n",
    "    #     print mychunk[c]\n",
    "        df1=pd.read_csv(mychunk[c])\n",
    "        tmp = df1.copy()\n",
    "        tmp = tmp.drop(columns=['cc1'] )\n",
    "        # orgd=np.asmatrix(tmp)\n",
    "        # df2=orgd\n",
    "        # df2.shape\n",
    "        df2=tmp.iloc[:,1:]\n",
    "        df2=np.asarray(df2);\n",
    "        alld=alld+df2\n",
    "        t,a,b,g=spectral_single(theindex,alpindex,betindex,gamindex,df2)\n",
    "        tz=tz+abs(np.asarray(t));az=az+abs(np.asarray(a));bz=bz+abs(np.asarray(b));gz=gz+abs(np.asarray(g));\n",
    "    alld=alld/cl    \n",
    "    ert,era,erb,erg=spectral_single(theindex,alpindex,betindex,gamindex,alld)\n",
    "    indt=tz/cl-ert;inda=az/cl-era;indb=bz/cl-erb;indg=gz/cl-erg \n",
    "    tevk=np.mean(ert,axis=1);aevk=np.mean(era,axis=1);bevk=np.mean(erb,axis=1); gevk=np.mean(erg,axis=1);\n",
    "    teind=np.mean(indt,axis=1);alind=np.mean(inda,axis=1); beind=np.mean(indb,axis=1);gaind=np.mean(indg,axis=1);\n",
    "    evkoed=np.concatenate((tevk,aevk,bevk,gevk),axis=0);\n",
    "    induced=np.concatenate((teind,alind,beind,gaind),axis=0);\n",
    "    return evkoed,induced; ## combined all frequency bands\n",
    "#     return tevk,aevk,bevk,gevk,teind,alind,beind,gaind\n",
    "#     return ert,era,erb,erg, indt,inda,indb,indg; ## This line for return wavelet transform value "
   ]
  },
  {
   "cell_type": "markdown",
   "metadata": {},
   "source": [
    "### Features extracting accrording to Frequency band "
   ]
  },
  {
   "cell_type": "code",
   "execution_count": 8,
   "metadata": {},
   "outputs": [
    {
     "name": "stdout",
     "output_type": "stream",
     "text": [
      "/home/sultan/EEG_CP/Baseline_Corrected_Source_CP_Data/S1/Trig_1/\n",
      "/home/sultan/EEG_CP/Baseline_Corrected_Source_CP_Data/S1/Trig_5/\n",
      "/home/sultan/EEG_CP/Baseline_Corrected_Source_CP_Data/S2/Trig_1/\n",
      "/home/sultan/EEG_CP/Baseline_Corrected_Source_CP_Data/S2/Trig_5/\n",
      "/home/sultan/EEG_CP/Baseline_Corrected_Source_CP_Data/S3/Trig_1/\n",
      "/home/sultan/EEG_CP/Baseline_Corrected_Source_CP_Data/S3/Trig_5/\n",
      "/home/sultan/EEG_CP/Baseline_Corrected_Source_CP_Data/S4/Trig_1/\n",
      "/home/sultan/EEG_CP/Baseline_Corrected_Source_CP_Data/S4/Trig_5/\n",
      "/home/sultan/EEG_CP/Baseline_Corrected_Source_CP_Data/S5/Trig_1/\n",
      "/home/sultan/EEG_CP/Baseline_Corrected_Source_CP_Data/S5/Trig_5/\n",
      "/home/sultan/EEG_CP/Baseline_Corrected_Source_CP_Data/S6/Trig_1/\n",
      "/home/sultan/EEG_CP/Baseline_Corrected_Source_CP_Data/S6/Trig_5/\n",
      "/home/sultan/EEG_CP/Baseline_Corrected_Source_CP_Data/S7/Trig_1/\n",
      "/home/sultan/EEG_CP/Baseline_Corrected_Source_CP_Data/S7/Trig_5/\n",
      "/home/sultan/EEG_CP/Baseline_Corrected_Source_CP_Data/S8/Trig_1/\n",
      "/home/sultan/EEG_CP/Baseline_Corrected_Source_CP_Data/S8/Trig_5/\n",
      "/home/sultan/EEG_CP/Baseline_Corrected_Source_CP_Data/S9/Trig_1/\n",
      "/home/sultan/EEG_CP/Baseline_Corrected_Source_CP_Data/S9/Trig_5/\n",
      "/home/sultan/EEG_CP/Baseline_Corrected_Source_CP_Data/S10/Trig_1/\n",
      "/home/sultan/EEG_CP/Baseline_Corrected_Source_CP_Data/S10/Trig_5/\n",
      "/home/sultan/EEG_CP/Baseline_Corrected_Source_CP_Data/S11/Trig_1/\n",
      "/home/sultan/EEG_CP/Baseline_Corrected_Source_CP_Data/S11/Trig_5/\n",
      "/home/sultan/EEG_CP/Baseline_Corrected_Source_CP_Data/S12/Trig_1/\n",
      "/home/sultan/EEG_CP/Baseline_Corrected_Source_CP_Data/S12/Trig_5/\n",
      "/home/sultan/EEG_CP/Baseline_Corrected_Source_CP_Data/S13/Trig_1/\n",
      "/home/sultan/EEG_CP/Baseline_Corrected_Source_CP_Data/S13/Trig_5/\n",
      "/home/sultan/EEG_CP/Baseline_Corrected_Source_CP_Data/S14/Trig_1/\n",
      "/home/sultan/EEG_CP/Baseline_Corrected_Source_CP_Data/S14/Trig_5/\n",
      "/home/sultan/EEG_CP/Baseline_Corrected_Source_CP_Data/S15/Trig_1/\n",
      "/home/sultan/EEG_CP/Baseline_Corrected_Source_CP_Data/S15/Trig_5/\n",
      "/home/sultan/EEG_CP/Baseline_Corrected_Source_CP_Data/S16/Trig_1/\n",
      "/home/sultan/EEG_CP/Baseline_Corrected_Source_CP_Data/S16/Trig_5/\n",
      "/home/sultan/EEG_CP/Baseline_Corrected_Source_CP_Data/S17/Trig_1/\n",
      "/home/sultan/EEG_CP/Baseline_Corrected_Source_CP_Data/S17/Trig_5/\n",
      "/home/sultan/EEG_CP/Baseline_Corrected_Source_CP_Data/S18/Trig_1/\n",
      "/home/sultan/EEG_CP/Baseline_Corrected_Source_CP_Data/S18/Trig_5/\n",
      "/home/sultan/EEG_CP/Baseline_Corrected_Source_CP_Data/S19/Trig_1/\n",
      "/home/sultan/EEG_CP/Baseline_Corrected_Source_CP_Data/S19/Trig_5/\n",
      "/home/sultan/EEG_CP/Baseline_Corrected_Source_CP_Data/S20/Trig_1/\n",
      "/home/sultan/EEG_CP/Baseline_Corrected_Source_CP_Data/S20/Trig_5/\n",
      "/home/sultan/EEG_CP/Baseline_Corrected_Source_CP_Data/S21/Trig_1/\n",
      "/home/sultan/EEG_CP/Baseline_Corrected_Source_CP_Data/S21/Trig_5/\n",
      "/home/sultan/EEG_CP/Baseline_Corrected_Source_CP_Data/S22/Trig_1/\n",
      "/home/sultan/EEG_CP/Baseline_Corrected_Source_CP_Data/S22/Trig_5/\n",
      "/home/sultan/EEG_CP/Baseline_Corrected_Source_CP_Data/S23/Trig_1/\n",
      "/home/sultan/EEG_CP/Baseline_Corrected_Source_CP_Data/S23/Trig_5/\n",
      "/home/sultan/EEG_CP/Baseline_Corrected_Source_CP_Data/S24/Trig_1/\n",
      "/home/sultan/EEG_CP/Baseline_Corrected_Source_CP_Data/S24/Trig_5/\n",
      "/home/sultan/EEG_CP/Baseline_Corrected_Source_CP_Data/S25/Trig_1/\n",
      "/home/sultan/EEG_CP/Baseline_Corrected_Source_CP_Data/S25/Trig_5/\n",
      "/home/sultan/EEG_CP/Baseline_Corrected_Source_CP_Data/S26/Trig_1/\n",
      "/home/sultan/EEG_CP/Baseline_Corrected_Source_CP_Data/S26/Trig_5/\n",
      "/home/sultan/EEG_CP/Baseline_Corrected_Source_CP_Data/S27/Trig_1/\n",
      "/home/sultan/EEG_CP/Baseline_Corrected_Source_CP_Data/S27/Trig_5/\n",
      "/home/sultan/EEG_CP/Baseline_Corrected_Source_CP_Data/S28/Trig_1/\n",
      "/home/sultan/EEG_CP/Baseline_Corrected_Source_CP_Data/S28/Trig_5/\n",
      "/home/sultan/EEG_CP/Baseline_Corrected_Source_CP_Data/S29/Trig_1/\n",
      "/home/sultan/EEG_CP/Baseline_Corrected_Source_CP_Data/S29/Trig_5/\n",
      "/home/sultan/EEG_CP/Baseline_Corrected_Source_CP_Data/S30/Trig_1/\n",
      "/home/sultan/EEG_CP/Baseline_Corrected_Source_CP_Data/S30/Trig_5/\n",
      "/home/sultan/EEG_CP/Baseline_Corrected_Source_CP_Data/S31/Trig_1/\n",
      "/home/sultan/EEG_CP/Baseline_Corrected_Source_CP_Data/S31/Trig_5/\n",
      "/home/sultan/EEG_CP/Baseline_Corrected_Source_CP_Data/S32/Trig_1/\n",
      "/home/sultan/EEG_CP/Baseline_Corrected_Source_CP_Data/S32/Trig_5/\n",
      "/home/sultan/EEG_CP/Baseline_Corrected_Source_CP_Data/S33/Trig_1/\n",
      "/home/sultan/EEG_CP/Baseline_Corrected_Source_CP_Data/S33/Trig_5/\n",
      "/home/sultan/EEG_CP/Baseline_Corrected_Source_CP_Data/S34/Trig_1/\n",
      "/home/sultan/EEG_CP/Baseline_Corrected_Source_CP_Data/S34/Trig_5/\n",
      "/home/sultan/EEG_CP/Baseline_Corrected_Source_CP_Data/S35/Trig_1/\n",
      "/home/sultan/EEG_CP/Baseline_Corrected_Source_CP_Data/S35/Trig_5/\n",
      "/home/sultan/EEG_CP/Baseline_Corrected_Source_CP_Data/S36/Trig_1/\n",
      "/home/sultan/EEG_CP/Baseline_Corrected_Source_CP_Data/S36/Trig_5/\n",
      "/home/sultan/EEG_CP/Baseline_Corrected_Source_CP_Data/S37/Trig_1/\n",
      "/home/sultan/EEG_CP/Baseline_Corrected_Source_CP_Data/S37/Trig_5/\n",
      "/home/sultan/EEG_CP/Baseline_Corrected_Source_CP_Data/S38/Trig_1/\n",
      "/home/sultan/EEG_CP/Baseline_Corrected_Source_CP_Data/S38/Trig_5/\n",
      "/home/sultan/EEG_CP/Baseline_Corrected_Source_CP_Data/S39/Trig_1/\n",
      "/home/sultan/EEG_CP/Baseline_Corrected_Source_CP_Data/S39/Trig_5/\n",
      "/home/sultan/EEG_CP/Baseline_Corrected_Source_CP_Data/S40/Trig_1/\n",
      "/home/sultan/EEG_CP/Baseline_Corrected_Source_CP_Data/S40/Trig_5/\n",
      "/home/sultan/EEG_CP/Baseline_Corrected_Source_CP_Data/S41/Trig_1/\n",
      "/home/sultan/EEG_CP/Baseline_Corrected_Source_CP_Data/S41/Trig_5/\n",
      "/home/sultan/EEG_CP/Baseline_Corrected_Source_CP_Data/S42/Trig_1/\n",
      "/home/sultan/EEG_CP/Baseline_Corrected_Source_CP_Data/S42/Trig_5/\n",
      "/home/sultan/EEG_CP/Baseline_Corrected_Source_CP_Data/S43/Trig_1/\n",
      "/home/sultan/EEG_CP/Baseline_Corrected_Source_CP_Data/S43/Trig_5/\n",
      "/home/sultan/EEG_CP/Baseline_Corrected_Source_CP_Data/S44/Trig_1/\n",
      "/home/sultan/EEG_CP/Baseline_Corrected_Source_CP_Data/S44/Trig_5/\n",
      "/home/sultan/EEG_CP/Baseline_Corrected_Source_CP_Data/S45/Trig_1/\n",
      "/home/sultan/EEG_CP/Baseline_Corrected_Source_CP_Data/S45/Trig_5/\n",
      "/home/sultan/EEG_CP/Baseline_Corrected_Source_CP_Data/S46/Trig_1/\n",
      "/home/sultan/EEG_CP/Baseline_Corrected_Source_CP_Data/S46/Trig_5/\n",
      "/home/sultan/EEG_CP/Baseline_Corrected_Source_CP_Data/S47/Trig_1/\n",
      "/home/sultan/EEG_CP/Baseline_Corrected_Source_CP_Data/S47/Trig_5/\n",
      "/home/sultan/EEG_CP/Baseline_Corrected_Source_CP_Data/S48/Trig_1/\n",
      "/home/sultan/EEG_CP/Baseline_Corrected_Source_CP_Data/S48/Trig_5/\n",
      "/home/sultan/EEG_CP/Baseline_Corrected_Source_CP_Data/S49/Trig_1/\n",
      "/home/sultan/EEG_CP/Baseline_Corrected_Source_CP_Data/S49/Trig_5/\n",
      "/home/sultan/EEG_CP/Baseline_Corrected_Source_CP_Data/S50/Trig_1/\n",
      "/home/sultan/EEG_CP/Baseline_Corrected_Source_CP_Data/S50/Trig_5/\n"
     ]
    }
   ],
   "source": [
    "## number of sample and repeated trials:\n",
    "sample=100; ntr=30;\n",
    "dirpath=\"/home/sultan/EEG_CP/Baseline_Corrected_Source_CP_Data/\"\n",
    "# # Remove the existence folder with files \n",
    "# shutil.rmtree(despath)\n",
    "# # subject and Triger\n",
    "# sub=3;# subject+1\n",
    "# Ev=6;#event+1\n",
    "evkalls=[];\n",
    "indalls=[];\n",
    "c=0;\n",
    "sub=range(1,51); ##sub+1\n",
    "Ev=[1,5];\n",
    "for k in range(0,len(sub)):\n",
    "    for j in range(0,len(Ev)):\n",
    "        b=dirpath+'S'+str(sub[k])+'/'+'Trig_'+str(Ev[j])+'/'\n",
    "        dpin=b\n",
    "        print dpin\n",
    "        from os import walk\n",
    "        from os.path import isfile, join\n",
    "        f = []\n",
    "        for (dpin, dirnames, filenames) in walk(dpin):\n",
    "            f.extend(join(dpin, x) for x in filenames if x.endswith(\".csv\"))\n",
    "            break\n",
    "#         print f\n",
    "#         sample=100;# How many samples need to average out\n",
    "#         totalck =len(f)*1.0 / sample \n",
    "#         totalchunk=int(math.ceil(totalck))\n",
    "#         totalchunk = len(f)/sample \n",
    "#         print (totalchunk)\n",
    "#         descr=despath+'S'+str(sub[k])+'/'+'Trig_'+str(Ev[j]); # Make directory \n",
    "#         os.makedirs(descr)\n",
    "#         import numpy as np\n",
    "        for i in range(ntr): # we will generate two at a time\n",
    "            mychunk = np.random.choice(f,size=sample,replace=False)\n",
    "            #print mychunk\n",
    "            # make sure the chunk element does not exist in the original list \n",
    "#             f = list(set(f) - set(mychunk))\n",
    "            #print f\n",
    "            #fname=descr+'Av'+str(i)\n",
    "            #fname='S'+str(k)+'event'+str(j)+'av'+str(i)\n",
    "#             fname=despath+'S'+str(sub[k])+'/'+'Trig_'+str(Ev[j])+'/'+'S'+str(sub[k])+'Trig'+str(Ev[j])+'_'+str(sample)+'av'+str(i)\n",
    "#             print i\n",
    "#             print('S'+str(sub[k])+':',c)\n",
    "#             c=c+1\n",
    "            a,b=evoked_induced(mychunk);\n",
    "            a1=pd.DataFrame(a)\n",
    "            a2=a1.T\n",
    "            b1=pd.DataFrame(b)\n",
    "            b2=b1.T\n",
    "            evkalls.append(a2.values[0])\n",
    "            indalls.append(b2.values[0])\n",
    "# print (evkalls)\n",
    "aevoked=pd.DataFrame(evkalls)  \n",
    "ainducd=pd.DataFrame(indalls) "
   ]
  },
  {
   "cell_type": "markdown",
   "metadata": {},
   "source": [
    "## only Tk3"
   ]
  },
  {
   "cell_type": "code",
   "execution_count": 9,
   "metadata": {},
   "outputs": [
    {
     "name": "stdout",
     "output_type": "stream",
     "text": [
      "/home/sultan/EEG_CP/Baseline_Corrected_Source_CP_Data/S1/Trig_3/\n",
      "/home/sultan/EEG_CP/Baseline_Corrected_Source_CP_Data/S2/Trig_3/\n",
      "/home/sultan/EEG_CP/Baseline_Corrected_Source_CP_Data/S3/Trig_3/\n",
      "/home/sultan/EEG_CP/Baseline_Corrected_Source_CP_Data/S4/Trig_3/\n",
      "/home/sultan/EEG_CP/Baseline_Corrected_Source_CP_Data/S5/Trig_3/\n",
      "/home/sultan/EEG_CP/Baseline_Corrected_Source_CP_Data/S6/Trig_3/\n",
      "/home/sultan/EEG_CP/Baseline_Corrected_Source_CP_Data/S7/Trig_3/\n",
      "/home/sultan/EEG_CP/Baseline_Corrected_Source_CP_Data/S8/Trig_3/\n",
      "/home/sultan/EEG_CP/Baseline_Corrected_Source_CP_Data/S9/Trig_3/\n",
      "/home/sultan/EEG_CP/Baseline_Corrected_Source_CP_Data/S10/Trig_3/\n",
      "/home/sultan/EEG_CP/Baseline_Corrected_Source_CP_Data/S11/Trig_3/\n",
      "/home/sultan/EEG_CP/Baseline_Corrected_Source_CP_Data/S12/Trig_3/\n",
      "/home/sultan/EEG_CP/Baseline_Corrected_Source_CP_Data/S13/Trig_3/\n",
      "/home/sultan/EEG_CP/Baseline_Corrected_Source_CP_Data/S14/Trig_3/\n",
      "/home/sultan/EEG_CP/Baseline_Corrected_Source_CP_Data/S15/Trig_3/\n",
      "/home/sultan/EEG_CP/Baseline_Corrected_Source_CP_Data/S16/Trig_3/\n",
      "/home/sultan/EEG_CP/Baseline_Corrected_Source_CP_Data/S17/Trig_3/\n",
      "/home/sultan/EEG_CP/Baseline_Corrected_Source_CP_Data/S18/Trig_3/\n",
      "/home/sultan/EEG_CP/Baseline_Corrected_Source_CP_Data/S19/Trig_3/\n",
      "/home/sultan/EEG_CP/Baseline_Corrected_Source_CP_Data/S20/Trig_3/\n",
      "/home/sultan/EEG_CP/Baseline_Corrected_Source_CP_Data/S21/Trig_3/\n",
      "/home/sultan/EEG_CP/Baseline_Corrected_Source_CP_Data/S22/Trig_3/\n",
      "/home/sultan/EEG_CP/Baseline_Corrected_Source_CP_Data/S23/Trig_3/\n",
      "/home/sultan/EEG_CP/Baseline_Corrected_Source_CP_Data/S24/Trig_3/\n",
      "/home/sultan/EEG_CP/Baseline_Corrected_Source_CP_Data/S25/Trig_3/\n",
      "/home/sultan/EEG_CP/Baseline_Corrected_Source_CP_Data/S26/Trig_3/\n",
      "/home/sultan/EEG_CP/Baseline_Corrected_Source_CP_Data/S27/Trig_3/\n",
      "/home/sultan/EEG_CP/Baseline_Corrected_Source_CP_Data/S28/Trig_3/\n",
      "/home/sultan/EEG_CP/Baseline_Corrected_Source_CP_Data/S29/Trig_3/\n",
      "/home/sultan/EEG_CP/Baseline_Corrected_Source_CP_Data/S30/Trig_3/\n",
      "/home/sultan/EEG_CP/Baseline_Corrected_Source_CP_Data/S31/Trig_3/\n",
      "/home/sultan/EEG_CP/Baseline_Corrected_Source_CP_Data/S32/Trig_3/\n",
      "/home/sultan/EEG_CP/Baseline_Corrected_Source_CP_Data/S33/Trig_3/\n",
      "/home/sultan/EEG_CP/Baseline_Corrected_Source_CP_Data/S34/Trig_3/\n",
      "/home/sultan/EEG_CP/Baseline_Corrected_Source_CP_Data/S35/Trig_3/\n",
      "/home/sultan/EEG_CP/Baseline_Corrected_Source_CP_Data/S36/Trig_3/\n",
      "/home/sultan/EEG_CP/Baseline_Corrected_Source_CP_Data/S37/Trig_3/\n",
      "/home/sultan/EEG_CP/Baseline_Corrected_Source_CP_Data/S38/Trig_3/\n",
      "/home/sultan/EEG_CP/Baseline_Corrected_Source_CP_Data/S39/Trig_3/\n",
      "/home/sultan/EEG_CP/Baseline_Corrected_Source_CP_Data/S40/Trig_3/\n",
      "/home/sultan/EEG_CP/Baseline_Corrected_Source_CP_Data/S41/Trig_3/\n",
      "/home/sultan/EEG_CP/Baseline_Corrected_Source_CP_Data/S42/Trig_3/\n",
      "/home/sultan/EEG_CP/Baseline_Corrected_Source_CP_Data/S43/Trig_3/\n",
      "/home/sultan/EEG_CP/Baseline_Corrected_Source_CP_Data/S44/Trig_3/\n",
      "/home/sultan/EEG_CP/Baseline_Corrected_Source_CP_Data/S45/Trig_3/\n",
      "/home/sultan/EEG_CP/Baseline_Corrected_Source_CP_Data/S46/Trig_3/\n",
      "/home/sultan/EEG_CP/Baseline_Corrected_Source_CP_Data/S47/Trig_3/\n",
      "/home/sultan/EEG_CP/Baseline_Corrected_Source_CP_Data/S48/Trig_3/\n",
      "/home/sultan/EEG_CP/Baseline_Corrected_Source_CP_Data/S49/Trig_3/\n",
      "/home/sultan/EEG_CP/Baseline_Corrected_Source_CP_Data/S50/Trig_3/\n"
     ]
    }
   ],
   "source": [
    "dirpath=\"/home/sultan/EEG_CP/Baseline_Corrected_Source_CP_Data/\"\n",
    "# # Remove the existence folder with files \n",
    "# shutil.rmtree(despath)\n",
    "# # subject and Triger\n",
    "# sub=3;# subject+1\n",
    "# Ev=6;#event+1\n",
    "# sample=75;\n",
    "evkallstk3=[];\n",
    "indallstk3=[];\n",
    "c=0;\n",
    "sub=range(1,51); ##sub+1\n",
    "Ev=[3];\n",
    "for k in range(0,len(sub)):\n",
    "    for j in range(0,len(Ev)):\n",
    "        b=dirpath+'S'+str(sub[k])+'/'+'Trig_'+str(Ev[j])+'/'\n",
    "        dpin=b\n",
    "        print dpin\n",
    "        from os import walk\n",
    "        from os.path import isfile, join\n",
    "        f = []\n",
    "        for (dpin, dirnames, filenames) in walk(dpin):\n",
    "            f.extend(join(dpin, x) for x in filenames if x.endswith(\".csv\"))\n",
    "            break\n",
    "#         print f\n",
    "#         sample=100;# How many samples need to average out\n",
    "#         totalck =len(f)*1.0 / sample \n",
    "#         totalchunk=int(math.ceil(totalck))\n",
    "#         totalchunk = len(f)/sample \n",
    "#         print (totalchunk)\n",
    "#         descr=despath+'S'+str(sub[k])+'/'+'Trig_'+str(Ev[j]); # Make directory \n",
    "#         os.makedirs(descr)\n",
    "#         import numpy as np\n",
    "        for i in range(ntr): # we will generate two at a time\n",
    "            mychunk = np.random.choice(f,size=sample,replace=False)\n",
    "            #print mychunk\n",
    "            # make sure the chunk element does not exist in the original list \n",
    "#             f = list(set(f) - set(mychunk))\n",
    "            #print f\n",
    "            #fname=descr+'Av'+str(i)\n",
    "            #fname='S'+str(k)+'event'+str(j)+'av'+str(i)\n",
    "#             fname=despath+'S'+str(sub[k])+'/'+'Trig_'+str(Ev[j])+'/'+'S'+str(sub[k])+'Trig'+str(Ev[j])+'_'+str(sample)+'av'+str(i)\n",
    "#             print len(f)\n",
    "#             print('S'+str(sub[k])+':',c)\n",
    "#             c=c+1\n",
    "            a,b=evoked_induced(mychunk);\n",
    "            a1=pd.DataFrame(a)\n",
    "            a2=a1.T\n",
    "            b1=pd.DataFrame(b)\n",
    "            b2=b1.T\n",
    "            evkallstk3.append(a2.values[0])\n",
    "            indallstk3.append(b2.values[0])\n",
    "# print (evkalls)\n",
    "aevokedtk3=pd.DataFrame(evkallstk3)  \n",
    "ainducdtk3=pd.DataFrame(indallstk3) "
   ]
  },
  {
   "cell_type": "code",
   "execution_count": 10,
   "metadata": {},
   "outputs": [],
   "source": [
    "# aevoked[:100]"
   ]
  },
  {
   "cell_type": "markdown",
   "metadata": {},
   "source": [
    "# Stop for writing"
   ]
  },
  {
   "cell_type": "code",
   "execution_count": 11,
   "metadata": {},
   "outputs": [],
   "source": [
    "# stop check "
   ]
  },
  {
   "cell_type": "markdown",
   "metadata": {},
   "source": [
    "## Writing label and csv"
   ]
  },
  {
   "cell_type": "code",
   "execution_count": 12,
   "metadata": {},
   "outputs": [],
   "source": [
    "# aevoked.to_csv('Evoked_tk15_all.csv')\n",
    "# ainducd.to_csv('Induced_tk15_all.csv')\n",
    "# ainducdtk3.to_csv('Induceded_tk3_all.csv')\n",
    "# aevokedtk3.to_csv('Evoked_tk3_all.csv')"
   ]
  },
  {
   "cell_type": "markdown",
   "metadata": {},
   "source": [
    "## Evoked"
   ]
  },
  {
   "cell_type": "code",
   "execution_count": 13,
   "metadata": {},
   "outputs": [],
   "source": [
    "# wrpath=\"/\""
   ]
  },
  {
   "cell_type": "code",
   "execution_count": 14,
   "metadata": {},
   "outputs": [],
   "source": [
    "aevoked.insert(0,'label',np.ones(len(aevoked)), True)\n",
    "aevokedtk3.insert(0,'label',np.zeros(len(aevokedtk3)), True)"
   ]
  },
  {
   "cell_type": "code",
   "execution_count": 15,
   "metadata": {},
   "outputs": [],
   "source": [
    "dallevoked=pd.concat([aevoked,aevokedtk3])\n",
    "dallevoked.to_csv('Evoked_'+str(sample)+'_Tk153.csv')"
   ]
  },
  {
   "cell_type": "markdown",
   "metadata": {},
   "source": [
    "### Induced "
   ]
  },
  {
   "cell_type": "code",
   "execution_count": 16,
   "metadata": {},
   "outputs": [],
   "source": [
    "ainducd.insert(0,'label',np.ones(len(ainducd)), True)\n",
    "ainducdtk3.insert(0,'label',np.zeros(len(ainducdtk3)), True)"
   ]
  },
  {
   "cell_type": "code",
   "execution_count": 17,
   "metadata": {},
   "outputs": [],
   "source": [
    "dallinduced=pd.concat([ainducd,ainducdtk3])\n",
    "dallinduced.to_csv('Induced_'+str(sample)+'_Tk153.csv')"
   ]
  },
  {
   "cell_type": "code",
   "execution_count": 18,
   "metadata": {},
   "outputs": [],
   "source": [
    "# dallinduced.head(3)"
   ]
  },
  {
   "cell_type": "code",
   "execution_count": 19,
   "metadata": {},
   "outputs": [],
   "source": [
    "# tt,a,b,g=spectral_single(theindex,alpindex,betindex,gamindex,data)"
   ]
  },
  {
   "cell_type": "code",
   "execution_count": null,
   "metadata": {},
   "outputs": [],
   "source": []
  }
 ],
 "metadata": {
  "kernelspec": {
   "display_name": "Python 2",
   "language": "python",
   "name": "python2"
  },
  "language_info": {
   "codemirror_mode": {
    "name": "ipython",
    "version": 2
   },
   "file_extension": ".py",
   "mimetype": "text/x-python",
   "name": "python",
   "nbconvert_exporter": "python",
   "pygments_lexer": "ipython2",
   "version": "2.7.6"
  }
 },
 "nbformat": 4,
 "nbformat_minor": 2
}
