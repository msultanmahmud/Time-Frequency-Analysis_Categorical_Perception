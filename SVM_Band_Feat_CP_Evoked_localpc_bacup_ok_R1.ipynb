{
 "cells": [
  {
   "cell_type": "code",
   "execution_count": 1,
   "metadata": {},
   "outputs": [],
   "source": [
    "import numpy as np\n",
    "import pandas as pd\n",
    "from sklearn import svm, metrics,preprocessing\n",
    "from sklearn.metrics import classification_report\n",
    "#from sklearn import datasets\n",
    "from sklearn.model_selection import train_test_split, GridSearchCV\n",
    "from sklearn.metrics import accuracy_score,confusion_matrix,roc_curve, auc\n",
    "from matplotlib import pyplot as plt\n",
    "from collections import Counter\n",
    "from scipy.stats import norm\n",
    "# import seaborn as sns; sns.set(font_scale=1.2)\n",
    "%matplotlib inline"
   ]
  },
  {
   "cell_type": "code",
   "execution_count": 2,
   "metadata": {},
   "outputs": [],
   "source": [
    "### sultan-gpu-pc\n",
    "path=\"/home/sultan/EEG_CP/WAVELET_SPECTROGRAM/Features_data/Evoked_100sam_all.csv\"\n",
    "#sultan localpc\n",
    "# path=\"C:/Users/mmahmud/Documents/CP_ALL_DATA/Final_Features_induced_evoked/Evoked_100sam_all.csv\"\n",
    "# path=\"C:/Users/sultan/Documents/CP_ALL_DATA/Final_Features_induced_evoked/CP_Ind_evk_final_data_with_labels/Evoked_100_Tk153_ex_16_25_localpc.csv\"\n",
    "dataset1 =pd.read_csv(path)"
   ]
  },
  {
   "cell_type": "code",
   "execution_count": 3,
   "metadata": {},
   "outputs": [],
   "source": [
    "# an=np.arange(0,100,2)\n",
    "# bn=np.arange(100,202,2)\n",
    "# rndr=np.concatenate([an,bn])\n",
    "# # dataset2=dataset1.drop([60,61,62,63,232,233],axis=0)\n",
    "# dataset2=dataset1.drop([61,63,232,233],axis=0)\n",
    "# # dataset=dataset1.drop(range(0,10),axis=0)\n",
    "# dataset=dataset2.drop(rndr,axis=0)"
   ]
  },
  {
   "cell_type": "code",
   "execution_count": 4,
   "metadata": {},
   "outputs": [],
   "source": [
    "# an=np.arange(0,100,2)\n",
    "# bn=np.arange(100,198,2)\n",
    "# rndr=np.concatenate([an,bn])\n",
    "# len(rndr)"
   ]
  },
  {
   "cell_type": "markdown",
   "metadata": {},
   "source": [
    "### HPC format"
   ]
  },
  {
   "cell_type": "code",
   "execution_count": 5,
   "metadata": {},
   "outputs": [],
   "source": [
    "dataset=dataset1\n",
    "Xc=dataset.iloc[:,3:].values\n",
    "y=dataset.iloc[:,2].values\n",
    "scaler = preprocessing.StandardScaler()\n",
    "X = scaler.fit_transform(Xc)"
   ]
  },
  {
   "cell_type": "markdown",
   "metadata": {},
   "source": [
    "## Local pc format"
   ]
  },
  {
   "cell_type": "code",
   "execution_count": 6,
   "metadata": {},
   "outputs": [],
   "source": [
    "# dataset=dataset1\n",
    "# Xc=dataset.iloc[:,2:].values\n",
    "# y=dataset.iloc[:,1].values\n",
    "# scaler = preprocessing.StandardScaler()\n",
    "# X = scaler.fit_transform(Xc)"
   ]
  },
  {
   "cell_type": "code",
   "execution_count": 7,
   "metadata": {},
   "outputs": [
    {
     "data": {
      "text/plain": [
       "array([1., 1., 1., ..., 0., 0., 0.])"
      ]
     },
     "execution_count": 7,
     "metadata": {},
     "output_type": "execute_result"
    }
   ],
   "source": [
    "# y.shape\n",
    "y"
   ]
  },
  {
   "cell_type": "code",
   "execution_count": 8,
   "metadata": {},
   "outputs": [],
   "source": [
    "rs=21"
   ]
  },
  {
   "cell_type": "code",
   "execution_count": 9,
   "metadata": {},
   "outputs": [
    {
     "data": {
      "text/plain": [
       "(array([0., 1.]), array([1440, 1440]))"
      ]
     },
     "execution_count": 9,
     "metadata": {},
     "output_type": "execute_result"
    }
   ],
   "source": [
    "np.unique(y,return_counts=True)"
   ]
  },
  {
   "cell_type": "code",
   "execution_count": 10,
   "metadata": {},
   "outputs": [],
   "source": [
    "X_train, X_test, y_train, y_test = train_test_split(X,y, test_size=.20, random_state=rs) "
   ]
  },
  {
   "cell_type": "code",
   "execution_count": 11,
   "metadata": {},
   "outputs": [
    {
     "data": {
      "text/plain": [
       "((576, 272), (576,))"
      ]
     },
     "execution_count": 11,
     "metadata": {},
     "output_type": "execute_result"
    }
   ],
   "source": [
    "X_test.shape, y_test.shape"
   ]
  },
  {
   "cell_type": "code",
   "execution_count": 12,
   "metadata": {},
   "outputs": [
    {
     "data": {
      "text/plain": [
       "(array([0., 1.]), array([292, 284]))"
      ]
     },
     "execution_count": 12,
     "metadata": {},
     "output_type": "execute_result"
    }
   ],
   "source": [
    "np.unique(y_test)\n",
    "np.unique(y_test,return_counts=True)"
   ]
  },
  {
   "cell_type": "markdown",
   "metadata": {},
   "source": [
    "# Grid search"
   ]
  },
  {
   "cell_type": "code",
   "execution_count": 13,
   "metadata": {},
   "outputs": [],
   "source": [
    "# cv=5\n",
    "# from sklearn.model_selection import GridSearchCV\n",
    "# # parameters = {'kernel':['rbf'], 'C':[1, 6.5, 10,20,100,1000],'gamma':[0.01,2/1428.0,1/1428.0]}\n",
    "# parameters = {'kernel':['rbf'], 'C':[1, 6.5, 10,20,100,1000],'gamma':[0.01,0.002,0.00069,0.0007,0.0005]}\n",
    "# svc = svm.SVC()\n",
    "# clf = GridSearchCV(svc, parameters,cv=cv)\n",
    "# clf.fit(X_train, y_train)"
   ]
  },
  {
   "cell_type": "code",
   "execution_count": 14,
   "metadata": {},
   "outputs": [],
   "source": [
    "# cv=5\n",
    "# from sklearn.model_selection import GridSearchCV\n",
    "# parameters = {'kernel':['rbf'], 'C':[0.90,1.00,1.25],'gamma':[3.0,3.25,3.25 ]}\n",
    "# svc = svm.SVC()\n",
    "# clf = GridSearchCV(svc, parameters,cv=cv)\n",
    "# clf.fit(X_train, y_train)"
   ]
  },
  {
   "cell_type": "code",
   "execution_count": 15,
   "metadata": {},
   "outputs": [],
   "source": [
    "# # Average Scores\n",
    "# #  print clf.cv_results_\n",
    "# # clf.best_estimator_\n",
    "# # np.mean\n",
    "# scores=clf.cv_results_['mean_test_score']\n",
    "# print(\"Accuracy:%0.3f (+/-%0.3f)\" %(scores.mean(), scores.std()*2))"
   ]
  },
  {
   "cell_type": "code",
   "execution_count": 16,
   "metadata": {},
   "outputs": [],
   "source": [
    "# clf.best_estimator_"
   ]
  },
  {
   "cell_type": "markdown",
   "metadata": {},
   "source": [
    "### Whole brain accuracy and AUC"
   ]
  },
  {
   "cell_type": "code",
   "execution_count": 17,
   "metadata": {},
   "outputs": [],
   "source": [
    "# whc=pd.DataFrame([acc,roc_auc])\n",
    "# whc"
   ]
  },
  {
   "cell_type": "code",
   "execution_count": 18,
   "metadata": {},
   "outputs": [],
   "source": [
    "# cv=5\n",
    "# from sklearn.model_selection import GridSearchCV\n",
    "# parameters = {'kernel':['rbf'], 'C':[1],'gamma':[0.01 ]}\n",
    "# svc = svm.SVC()\n",
    "# clf = GridSearchCV(svc, parameters,cv=cv)\n",
    "# clf.fit(X_train, y_train)"
   ]
  },
  {
   "cell_type": "code",
   "execution_count": 19,
   "metadata": {},
   "outputs": [
    {
     "name": "stdout",
     "output_type": "stream",
     "text": [
      "Accuracy:0.6225 (+/-0.0204)\n",
      "0.6753472222222222\n",
      "(0, 68)\n",
      "             precision    recall  f1-score   support\n",
      "\n",
      "        0.0       0.70      0.63      0.66       292\n",
      "        1.0       0.66      0.72      0.69       284\n",
      "\n",
      "avg / total       0.68      0.68      0.67       576\n",
      "\n",
      "('AUC:', 0.6759357514952731)\n",
      "Accuracy:0.6413 (+/-0.0177)\n",
      "0.6788194444444444\n",
      "(68, 136)\n",
      "             precision    recall  f1-score   support\n",
      "\n",
      "        0.0       0.70      0.65      0.67       292\n",
      "        1.0       0.66      0.71      0.68       284\n",
      "\n",
      "avg / total       0.68      0.68      0.68       576\n",
      "\n",
      "('AUC:', 0.6792157051900444)\n",
      "Accuracy:0.6196 (+/-0.0149)\n",
      "0.6961805555555556\n",
      "(136, 204)\n",
      "             precision    recall  f1-score   support\n",
      "\n",
      "        0.0       0.71      0.68      0.69       292\n",
      "        1.0       0.68      0.71      0.70       284\n",
      "\n",
      "avg / total       0.70      0.70      0.70       576\n",
      "\n",
      "('AUC:', 0.6964354620875941)\n",
      "Accuracy:0.6120 (+/-0.0161)\n",
      "0.6666666666666666\n",
      "(204, 272)\n",
      "             precision    recall  f1-score   support\n",
      "\n",
      "        0.0       0.67      0.67      0.67       292\n",
      "        1.0       0.66      0.66      0.66       284\n",
      "\n",
      "avg / total       0.67      0.67      0.67       576\n",
      "\n",
      "('AUC:', 0.6665541192359636)\n"
     ]
    }
   ],
   "source": [
    "k=0;j=68; acgw=[];\n",
    "for i in range(0,4):\n",
    "    cv=5\n",
    "    from sklearn.model_selection import GridSearchCV\n",
    "#     parameters = {'kernel':['rbf'], 'C':[10],'gamma':[0.01]}\n",
    "    parameters = {'kernel':['rbf'], 'C':[1, 10,20,30, 40, 50, 60, 70, 90,100,1000],'gamma':[0.01,0.0147, 0.016, 0.019, 0.021, 2/1428.0,1/1428.0]}\n",
    "    svc = svm.SVC()\n",
    "    clf = GridSearchCV(svc, parameters,cv=cv)\n",
    "    clf.fit(X_train[:,k:j], y_train)\n",
    "    pred=clf.best_estimator_.predict(X_test[:,k:j])\n",
    "    acc=clf.score(X_test[:,k:j], y_test)\n",
    "    acgw=np.append(acgw,acc)\n",
    "    scores=clf.cv_results_['mean_test_score']\n",
    "    print(\"Accuracy:%0.4f (+/-%0.4f)\" %(scores.mean(), scores.std()))\n",
    "    print (acc)\n",
    "    print (k,j)\n",
    "    print(classification_report(y_test, pred))\n",
    "#     Sve=float(len(clf.best_estimator_.support_vectors_)/X_train.shape[0])\n",
    "#     print('Support:',Sve)\n",
    "    false_positive_rate, true_positive_rate, thresholds = roc_curve(y_test,pred)\n",
    "    roc_auc = auc(false_positive_rate, true_positive_rate)\n",
    "    print('AUC:',roc_auc)\n",
    "    k=k+68;j=j+68;"
   ]
  },
  {
   "cell_type": "code",
   "execution_count": 20,
   "metadata": {},
   "outputs": [],
   "source": [
    "###This is the for last data only\n",
    "# false_positive_rate, true_positive_rate, thresholds = roc_curve(y_test,pred)\n",
    "# roc_auc_rh = auc(false_positive_rate, true_positive_rate)\n",
    "# roc_auc_rh"
   ]
  },
  {
   "cell_type": "code",
   "execution_count": 21,
   "metadata": {},
   "outputs": [
    {
     "data": {
      "text/plain": [
       "SVC(C=1000, cache_size=200, class_weight=None, coef0=0.0,\n",
       "  decision_function_shape='ovr', degree=3, gamma=0.000700280112045,\n",
       "  kernel='rbf', max_iter=-1, probability=False, random_state=None,\n",
       "  shrinking=True, tol=0.001, verbose=False)"
      ]
     },
     "execution_count": 21,
     "metadata": {},
     "output_type": "execute_result"
    }
   ],
   "source": [
    "clf.best_estimator_"
   ]
  },
  {
   "cell_type": "code",
   "execution_count": 22,
   "metadata": {},
   "outputs": [
    {
     "data": {
      "text/plain": [
       "(576, 68)"
      ]
     },
     "execution_count": 22,
     "metadata": {},
     "output_type": "execute_result"
    }
   ],
   "source": [
    "yr=X_test[:,0:68]\n",
    "yr.shape"
   ]
  },
  {
   "cell_type": "markdown",
   "metadata": {},
   "source": [
    "# Hemisphere"
   ]
  },
  {
   "cell_type": "markdown",
   "metadata": {},
   "source": [
    "### LH"
   ]
  },
  {
   "cell_type": "code",
   "execution_count": 23,
   "metadata": {},
   "outputs": [
    {
     "name": "stdout",
     "output_type": "stream",
     "text": [
      "Accuracy:0.6013 (+/-0.0130)\n",
      "0.6458333333333334\n",
      "(0, 34)\n",
      "             precision    recall  f1-score   support\n",
      "\n",
      "        0.0       0.62      0.65      0.63       271\n",
      "        1.0       0.67      0.65      0.66       305\n",
      "\n",
      "avg / total       0.65      0.65      0.65       576\n",
      "\n",
      "('AUC:', 0.6458290484544189)\n",
      "Accuracy:0.6028 (+/-0.0139)\n",
      "0.6319444444444444\n",
      "(34, 68)\n",
      "             precision    recall  f1-score   support\n",
      "\n",
      "        0.0       0.60      0.63      0.62       271\n",
      "        1.0       0.66      0.63      0.64       305\n",
      "\n",
      "avg / total       0.63      0.63      0.63       576\n",
      "\n",
      "('AUC:', 0.6320972717923901)\n",
      "Accuracy:0.5748 (+/-0.0146)\n",
      "0.6475694444444444\n",
      "(68, 102)\n",
      "             precision    recall  f1-score   support\n",
      "\n",
      "        0.0       0.61      0.69      0.65       271\n",
      "        1.0       0.69      0.61      0.65       305\n",
      "\n",
      "avg / total       0.65      0.65      0.65       576\n",
      "\n",
      "('AUC:', 0.6501421571592765)\n",
      "Accuracy:0.5719 (+/-0.0083)\n",
      "0.6076388888888888\n",
      "(102, 136)\n",
      "             precision    recall  f1-score   support\n",
      "\n",
      "        0.0       0.57      0.66      0.61       271\n",
      "        1.0       0.65      0.56      0.60       305\n",
      "\n",
      "avg / total       0.61      0.61      0.61       576\n",
      "\n",
      "('AUC:', 0.6103804972475955)\n"
     ]
    }
   ],
   "source": [
    "rs=17\n",
    "b=range(0,(X.shape[1]),2)\n",
    "d22=X[:,b];\n",
    "X_train, X_test, y_train, y_test = train_test_split(d22,y, test_size=.20, random_state=rs) \n",
    "k=0;j=34; acgl=[];\n",
    "for i in range(0,4):\n",
    "    cv=5\n",
    "    from sklearn.model_selection import GridSearchCV\n",
    "#     parameters = {'kernel':['rbf'], 'C':[1, 10,100,1000],'gamma':[0.01,2/1428.0,1/1428.0]}\n",
    "    parameters = {'kernel':['rbf'], 'C':[1, 10,20,30, 40, 50, 60, 70, 90,100,1000],'gamma':[0.015,0.025, 0.029, 0.030,0.035]}\n",
    "    svc = svm.SVC()\n",
    "    clf = GridSearchCV(svc, parameters,cv=cv)\n",
    "    clf.fit(X_train[:,k:j], y_train)\n",
    "    pred=clf.best_estimator_.predict(X_test[:,k:j])\n",
    "    acc=clf.score(X_test[:,k:j], y_test)\n",
    "    acgl=np.append(acgl,acc)\n",
    "    scores=clf.cv_results_['mean_test_score']\n",
    "#     print scores\n",
    "    print(\"Accuracy:%0.4f (+/-%0.4f)\" %(scores.mean(), scores.std()))\n",
    "    print (acc)\n",
    "    print (k,j)\n",
    "    print(classification_report(y_test, pred))\n",
    "#     Sve=float(len(clf.best_estimator_.support_vectors_)/X_train.shape[0])\n",
    "#     print('Support:',Sve)\n",
    "    false_positive_rate, true_positive_rate, thresholds = roc_curve(y_test,pred)\n",
    "    roc_auc = auc(false_positive_rate, true_positive_rate)\n",
    "    print('AUC:',roc_auc)\n",
    "    k=k+34;j=j+34;"
   ]
  },
  {
   "cell_type": "markdown",
   "metadata": {},
   "source": [
    "## RH"
   ]
  },
  {
   "cell_type": "code",
   "execution_count": 24,
   "metadata": {},
   "outputs": [
    {
     "name": "stdout",
     "output_type": "stream",
     "text": [
      "Accuracy:0.5858 (+/-0.0132)\n",
      "0.6111111111111112\n",
      "(0, 34)\n",
      "             precision    recall  f1-score   support\n",
      "\n",
      "        0.0       0.61      0.61      0.61       287\n",
      "        1.0       0.61      0.61      0.61       289\n",
      "\n",
      "avg / total       0.61      0.61      0.61       576\n",
      "\n",
      "('AUC:', 0.6111064224829099)\n",
      "Accuracy:0.6098 (+/-0.0223)\n",
      "0.6267361111111112\n",
      "(34, 68)\n",
      "             precision    recall  f1-score   support\n",
      "\n",
      "        0.0       0.62      0.63      0.63       287\n",
      "        1.0       0.63      0.63      0.63       289\n",
      "\n",
      "avg / total       0.63      0.63      0.63       576\n",
      "\n",
      "('AUC:', 0.6267376391015516)\n",
      "Accuracy:0.5854 (+/-0.0155)\n",
      "0.5798611111111112\n",
      "(68, 102)\n",
      "             precision    recall  f1-score   support\n",
      "\n",
      "        0.0       0.58      0.59      0.58       287\n",
      "        1.0       0.58      0.57      0.58       289\n",
      "\n",
      "avg / total       0.58      0.58      0.58       576\n",
      "\n",
      "('AUC:', 0.5798801586631783)\n",
      "Accuracy:0.5892 (+/-0.0117)\n",
      "0.5798611111111112\n",
      "(102, 136)\n",
      "             precision    recall  f1-score   support\n",
      "\n",
      "        0.0       0.58      0.57      0.58       287\n",
      "        1.0       0.58      0.59      0.58       289\n",
      "\n",
      "avg / total       0.58      0.58      0.58       576\n",
      "\n",
      "('AUC:', 0.5798319327731092)\n"
     ]
    }
   ],
   "source": [
    "# only 34 features \n",
    "rs=14\n",
    "a=range(1,(X.shape[1]),2)\n",
    "d11=X[:,a];\n",
    "X_train, X_test, y_train, y_test = train_test_split(d11,y, test_size=.20, random_state=rs) \n",
    "parameters = {'kernel':['rbf'], 'C':[1, 10,20,30, 40, 50, 60, 70, 90,100,1000],'gamma':[0.015,0.025, 0.029, 0.030,0.035]}\n",
    "svc = svm.SVC()\n",
    "k=0;j=34; acgr=[];\n",
    "for i in range(0,4):\n",
    "    cv=5\n",
    "    from sklearn.model_selection import GridSearchCV\n",
    "#     parameters = {'kernel':['rbf'], 'C':[1, 10,100,1000],'gamma':[0.01,2/1428.0,1/1428.0]}\n",
    "    svc = svm.SVC()\n",
    "    clf = GridSearchCV(svc, parameters,cv=cv)\n",
    "    clf.fit(X_train[:,k:j], y_train)\n",
    "    pred=clf.best_estimator_.predict(X_test[:,k:j])\n",
    "    acc=clf.score(X_test[:,k:j], y_test)\n",
    "    acgr=np.append(acgr,acc)\n",
    "    scores=clf.cv_results_['mean_test_score']\n",
    "    print(\"Accuracy:%0.4f (+/-%0.4f)\" %(scores.mean(), scores.std()))\n",
    "    print (acc)\n",
    "    print (k,j)\n",
    "    print(classification_report(y_test, pred))\n",
    "#     Sve=float(len(clf.best_estimator_.support_vectors_)/X_train.shape[0])\n",
    "#     print('Support:',Sve)\n",
    "    false_positive_rate, true_positive_rate, thresholds = roc_curve(y_test,pred)\n",
    "    roc_auc = auc(false_positive_rate, true_positive_rate)\n",
    "    print('AUC:',roc_auc)\n",
    "    k=k+34;j=j+34;"
   ]
  },
  {
   "cell_type": "code",
   "execution_count": 25,
   "metadata": {},
   "outputs": [
    {
     "data": {
      "text/plain": [
       "0.5798319327731092"
      ]
     },
     "execution_count": 25,
     "metadata": {},
     "output_type": "execute_result"
    }
   ],
   "source": [
    "###This is the for last data only\n",
    "false_positive_rate, true_positive_rate, thresholds = roc_curve(y_test,pred)\n",
    "roc_auc_rh = auc(false_positive_rate, true_positive_rate)\n",
    "roc_auc_rh"
   ]
  },
  {
   "cell_type": "code",
   "execution_count": 26,
   "metadata": {},
   "outputs": [],
   "source": [
    "t=np.linspace(0,3,4, endpoint=True)\n",
    "time=pd.DataFrame(t)\n",
    "# a=pd.concat([time,pd.DataFrame(acgw),pd.DataFrame(acgl),pd.DataFrame(acgr)],axis=1, keys=[ 'time',\"Whole\", \"LH\", \"RH\"])\n",
    "a=pd.concat([time,pd.DataFrame(acgw),pd.DataFrame(acgl),pd.DataFrame(acgr)],axis=1, keys=[ 'time',\"Whole\", \"LH\", \"RH\"])"
   ]
  },
  {
   "cell_type": "code",
   "execution_count": 27,
   "metadata": {},
   "outputs": [
    {
     "data": {
      "text/plain": [
       "0.6267361111111112"
      ]
     },
     "execution_count": 27,
     "metadata": {},
     "output_type": "execute_result"
    }
   ],
   "source": [
    "np.max(acgl)\n",
    "np.max(a.iloc[:,3])"
   ]
  },
  {
   "cell_type": "code",
   "execution_count": 28,
   "metadata": {},
   "outputs": [],
   "source": [
    "# wpath=\"/home/sultan/EEG/Source_level_frequency_analysis/Results/\"\n",
    "# dall=a\n",
    "# # dall.to_csv(wpath+'svm_res_100sam_10ms_clear_v1.csv')\n",
    "# dall.to_csv(wpath+'svm_res_band_100sam_clear_v1.csv')"
   ]
  },
  {
   "cell_type": "code",
   "execution_count": 29,
   "metadata": {},
   "outputs": [
    {
     "data": {
      "image/png": "[encoded data removed]",
      "text/plain": [
       "<Figure size 432x288 with 1 Axes>"
      ]
     },
     "metadata": {
      "needs_background": "light"
     },
     "output_type": "display_data"
    }
   ],
   "source": [
    "axis_font = {'fontname':'Arial', 'size':'15'}\n",
    "#tw1=tad.iloc[1:,0];Acdw1=tad.iloc[1:,1];\n",
    "tw1=a.iloc[0:,0];Acdw=a.iloc[0:,1];Acdlh=a.iloc[0:,2];Acdrh=a.iloc[0:,3]\n",
    "# plt.plot(tw1,Acdw1,c='g')\n",
    "plt.plot(tw1,Acdw,'g',linewidth=2,marker='*')\n",
    "plt.plot(tw1, Acdlh,'--r',linewidth=2,marker='o')\n",
    "plt.plot(tw1, Acdrh,'--b',linewidth=2,marker='x')\n",
    "plt.title('Evoked_Rs:'+str(rs))\n",
    "plt.xlim(0,4)\n",
    "plt.ylim(0.5,1)\n",
    "plt.grid(True)\n",
    "plt.tight_layout()\n",
    "plt.gca().legend(('Whole','LH','RH'),fontsize=16,loc='best')\n",
    "# plt.savefig('whole_acc_timem.eps')\n",
    "# plt.savefig('whole_acc_timem.tif')\n",
    "plt.show()"
   ]
  },
  {
   "cell_type": "code",
   "execution_count": 30,
   "metadata": {},
   "outputs": [
    {
     "data": {
      "text/plain": [
       "14"
      ]
     },
     "execution_count": 30,
     "metadata": {},
     "output_type": "execute_result"
    }
   ],
   "source": [
    "# len(clf.best_estimator_.support_vectors_)*100.0/(X_train.shape[0])\n",
    "rs"
   ]
  },
  {
   "cell_type": "code",
   "execution_count": 31,
   "metadata": {},
   "outputs": [
    {
     "data": {
      "text/html": [
       "<div>\n",
       "<style scoped>\n",
       "    .dataframe tbody tr th:only-of-type {\n",
       "        vertical-align: middle;\n",
       "    }\n",
       "\n",
       "    .dataframe tbody tr th {\n",
       "        vertical-align: top;\n",
       "    }\n",
       "\n",
       "    .dataframe thead tr th {\n",
       "        text-align: left;\n",
       "    }\n",
       "</style>\n",
       "<table border=\"1\" class=\"dataframe\">\n",
       "  <thead>\n",
       "    <tr>\n",
       "      <th></th>\n",
       "      <th>time</th>\n",
       "      <th>Whole</th>\n",
       "      <th>LH</th>\n",
       "      <th>RH</th>\n",
       "    </tr>\n",
       "    <tr>\n",
       "      <th></th>\n",
       "      <th>0</th>\n",
       "      <th>0</th>\n",
       "      <th>0</th>\n",
       "      <th>0</th>\n",
       "    </tr>\n",
       "  </thead>\n",
       "  <tbody>\n",
       "    <tr>\n",
       "      <th>0</th>\n",
       "      <td>0.0</td>\n",
       "      <td>0.675347</td>\n",
       "      <td>0.645833</td>\n",
       "      <td>0.611111</td>\n",
       "    </tr>\n",
       "    <tr>\n",
       "      <th>1</th>\n",
       "      <td>1.0</td>\n",
       "      <td>0.678819</td>\n",
       "      <td>0.631944</td>\n",
       "      <td>0.626736</td>\n",
       "    </tr>\n",
       "    <tr>\n",
       "      <th>2</th>\n",
       "      <td>2.0</td>\n",
       "      <td>0.696181</td>\n",
       "      <td>0.647569</td>\n",
       "      <td>0.579861</td>\n",
       "    </tr>\n",
       "    <tr>\n",
       "      <th>3</th>\n",
       "      <td>3.0</td>\n",
       "      <td>0.666667</td>\n",
       "      <td>0.607639</td>\n",
       "      <td>0.579861</td>\n",
       "    </tr>\n",
       "  </tbody>\n",
       "</table>\n",
       "</div>"
      ],
      "text/plain": [
       "  time     Whole        LH        RH\n",
       "     0         0         0         0\n",
       "0  0.0  0.675347  0.645833  0.611111\n",
       "1  1.0  0.678819  0.631944  0.626736\n",
       "2  2.0  0.696181  0.647569  0.579861\n",
       "3  3.0  0.666667  0.607639  0.579861"
      ]
     },
     "execution_count": 31,
     "metadata": {},
     "output_type": "execute_result"
    }
   ],
   "source": [
    "a"
   ]
  },
  {
   "cell_type": "markdown",
   "metadata": {},
   "source": [
    "# STOP"
   ]
  }
 ],
 "metadata": {
  "kernelspec": {
   "display_name": "Python 2",
   "language": "python",
   "name": "python2"
  },
  "language_info": {
   "codemirror_mode": {
    "name": "ipython",
    "version": 2
   },
   "file_extension": ".py",
   "mimetype": "text/x-python",
   "name": "python",
   "nbconvert_exporter": "python",
   "pygments_lexer": "ipython2",
   "version": "2.7.6"
  }
 },
 "nbformat": 4,
 "nbformat_minor": 2
}
