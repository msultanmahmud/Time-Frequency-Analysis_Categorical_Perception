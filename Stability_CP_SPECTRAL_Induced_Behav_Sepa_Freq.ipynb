{
 "cells": [
  {
   "cell_type": "code",
   "execution_count": 1,
   "metadata": {},
   "outputs": [],
   "source": [
    "# Import library\n",
    "import pandas as pd\n",
    "import numpy as np\n",
    "from sklearn.model_selection import train_test_split,ShuffleSplit\n",
    "from sklearn import svm\n",
    "import sys\n",
    "# sys.path.append('/home/ralfahad/PythonUtility/PTE')\n",
    "# from PhaseTE_MF import PhaseTE_MF\n",
    "from scipy import stats\n",
    "import seaborn as sns\n",
    "from matplotlib import pyplot as plt\n",
    "from collections import Counter\n",
    "import warnings\n",
    "from sklearn import svm, metrics,preprocessing\n",
    "from sklearn.model_selection import train_test_split, GridSearchCV\n",
    "from sklearn.metrics import accuracy_score,confusion_matrix,roc_curve, auc,classification_report\n",
    "from matplotlib import pyplot as plt\n",
    "from collections import Counter\n",
    "from scipy.stats import norm\n",
    "# from sklearn import metrics\n",
    "# import seaborn as sns; sns.set(font_scale=1.2)\n",
    "%matplotlib inline\n",
    "warnings.filterwarnings('ignore')"
   ]
  },
  {
   "cell_type": "code",
   "execution_count": 2,
   "metadata": {},
   "outputs": [
    {
     "data": {
      "text/html": [
       "<div>\n",
       "<style scoped>\n",
       "    .dataframe tbody tr th:only-of-type {\n",
       "        vertical-align: middle;\n",
       "    }\n",
       "\n",
       "    .dataframe tbody tr th {\n",
       "        vertical-align: top;\n",
       "    }\n",
       "\n",
       "    .dataframe thead th {\n",
       "        text-align: right;\n",
       "    }\n",
       "</style>\n",
       "<table border=\"1\" class=\"dataframe\">\n",
       "  <thead>\n",
       "    <tr style=\"text-align: right;\">\n",
       "      <th></th>\n",
       "      <th>Unnamed: 0</th>\n",
       "      <th>Unnamed: 0.1</th>\n",
       "      <th>label</th>\n",
       "      <th>0</th>\n",
       "      <th>1</th>\n",
       "      <th>2</th>\n",
       "      <th>3</th>\n",
       "      <th>4</th>\n",
       "      <th>5</th>\n",
       "      <th>6</th>\n",
       "      <th>...</th>\n",
       "      <th>262</th>\n",
       "      <th>263</th>\n",
       "      <th>264</th>\n",
       "      <th>265</th>\n",
       "      <th>266</th>\n",
       "      <th>267</th>\n",
       "      <th>268</th>\n",
       "      <th>269</th>\n",
       "      <th>270</th>\n",
       "      <th>271</th>\n",
       "    </tr>\n",
       "  </thead>\n",
       "  <tbody>\n",
       "    <tr>\n",
       "      <th>0</th>\n",
       "      <td>0</td>\n",
       "      <td>0</td>\n",
       "      <td>1.0</td>\n",
       "      <td>1.964936e-09</td>\n",
       "      <td>1.928388e-09</td>\n",
       "      <td>1.701437e-09</td>\n",
       "      <td>1.656722e-09</td>\n",
       "      <td>1.109889e-09</td>\n",
       "      <td>1.170539e-09</td>\n",
       "      <td>1.176241e-09</td>\n",
       "      <td>...</td>\n",
       "      <td>1.074466e-10</td>\n",
       "      <td>1.000316e-10</td>\n",
       "      <td>2.955365e-10</td>\n",
       "      <td>4.385043e-10</td>\n",
       "      <td>1.270773e-10</td>\n",
       "      <td>1.796374e-10</td>\n",
       "      <td>6.200673e-10</td>\n",
       "      <td>6.660438e-10</td>\n",
       "      <td>2.558787e-10</td>\n",
       "      <td>4.117513e-10</td>\n",
       "    </tr>\n",
       "    <tr>\n",
       "      <th>1</th>\n",
       "      <td>1</td>\n",
       "      <td>1</td>\n",
       "      <td>1.0</td>\n",
       "      <td>1.200782e-09</td>\n",
       "      <td>1.496507e-09</td>\n",
       "      <td>1.582692e-09</td>\n",
       "      <td>1.542738e-09</td>\n",
       "      <td>9.867382e-10</td>\n",
       "      <td>9.453885e-10</td>\n",
       "      <td>9.544713e-10</td>\n",
       "      <td>...</td>\n",
       "      <td>9.584748e-11</td>\n",
       "      <td>9.307005e-11</td>\n",
       "      <td>3.271358e-10</td>\n",
       "      <td>3.893210e-10</td>\n",
       "      <td>1.344969e-10</td>\n",
       "      <td>1.535037e-10</td>\n",
       "      <td>6.268894e-10</td>\n",
       "      <td>6.351566e-10</td>\n",
       "      <td>2.779621e-10</td>\n",
       "      <td>3.527328e-10</td>\n",
       "    </tr>\n",
       "  </tbody>\n",
       "</table>\n",
       "<p>2 rows × 275 columns</p>\n",
       "</div>"
      ],
      "text/plain": [
       "   Unnamed: 0  Unnamed: 0.1  label             0             1             2  \\\n",
       "0           0             0    1.0  1.964936e-09  1.928388e-09  1.701437e-09   \n",
       "1           1             1    1.0  1.200782e-09  1.496507e-09  1.582692e-09   \n",
       "\n",
       "              3             4             5             6      ...       \\\n",
       "0  1.656722e-09  1.109889e-09  1.170539e-09  1.176241e-09      ...        \n",
       "1  1.542738e-09  9.867382e-10  9.453885e-10  9.544713e-10      ...        \n",
       "\n",
       "            262           263           264           265           266  \\\n",
       "0  1.074466e-10  1.000316e-10  2.955365e-10  4.385043e-10  1.270773e-10   \n",
       "1  9.584748e-11  9.307005e-11  3.271358e-10  3.893210e-10  1.344969e-10   \n",
       "\n",
       "            267           268           269           270           271  \n",
       "0  1.796374e-10  6.200673e-10  6.660438e-10  2.558787e-10  4.117513e-10  \n",
       "1  1.535037e-10  6.268894e-10  6.351566e-10  2.779621e-10  3.527328e-10  \n",
       "\n",
       "[2 rows x 275 columns]"
      ]
     },
     "execution_count": 2,
     "metadata": {},
     "output_type": "execute_result"
    }
   ],
   "source": [
    "#Load the metadata\n",
    "path=\"/home/sultan/EEG_CP/WAVELET_SPECTROGRAM/Features_data/Induced_100sam_all.csv\"\n",
    "# path=\"/home/sultan/EEG_CP/WAVELET_SPECTROGRAM/Features_data/Induced_100sam_percep_300msall.csv\"\n",
    "# path=\"/home/sultan/EEG_CP/WAVELET_SPECTROGRAM/Evoked_75_Tk153.csv\"\n",
    "# path=\"/home/sultan/EEG/Source_level_frequency_analysis/100_base_corr_sam_NHIerp_band_features_clear.csv\"\n",
    "Metadata=pd.read_csv(path)\n",
    "Metadata.head(2)"
   ]
  },
  {
   "cell_type": "code",
   "execution_count": 3,
   "metadata": {},
   "outputs": [],
   "source": [
    "# random state; \n",
    "rs=18"
   ]
  },
  {
   "cell_type": "markdown",
   "metadata": {},
   "source": [
    "### For aging data "
   ]
  },
  {
   "cell_type": "code",
   "execution_count": 4,
   "metadata": {},
   "outputs": [],
   "source": [
    "X=Metadata.iloc[:,3:]\n",
    "y=Metadata.iloc[:,2].values\n",
    "# y=Metadata['label']\n",
    "# X.shape,y.shape"
   ]
  },
  {
   "cell_type": "code",
   "execution_count": 5,
   "metadata": {},
   "outputs": [],
   "source": [
    "# X.head(5)\n",
    "# y"
   ]
  },
  {
   "cell_type": "markdown",
   "metadata": {},
   "source": [
    "### For CP data"
   ]
  },
  {
   "cell_type": "code",
   "execution_count": 6,
   "metadata": {},
   "outputs": [],
   "source": [
    "# Metadata=Metadata1.rename(columns={'0':'label'})\n",
    "# X=Metadata.iloc[:,2:]; ## here we take it out the basebline zero values, which is upto 70 index\n",
    "# y=Metadata['label']\n",
    "# X.shape,y.shape"
   ]
  },
  {
   "cell_type": "markdown",
   "metadata": {},
   "source": [
    "# Apply SVM on Data"
   ]
  },
  {
   "cell_type": "code",
   "execution_count": 7,
   "metadata": {},
   "outputs": [
    {
     "data": {
      "text/plain": [
       "array([1.e-02, 1.e-01, 1.e+00, 1.e+01, 1.e+02])"
      ]
     },
     "execution_count": 7,
     "metadata": {},
     "output_type": "execute_result"
    }
   ],
   "source": [
    "gamma_range = np.logspace(-2, 2, 5)\n",
    "gamma_range"
   ]
  },
  {
   "cell_type": "code",
   "execution_count": 8,
   "metadata": {},
   "outputs": [
    {
     "name": "stdout",
     "output_type": "stream",
     "text": [
      "(2880, 272) (2880,)\n",
      "[1.e-02 1.e-01 1.e+00 1.e+01 1.e+02] [0.01, 0.002, 0.00069, 0.0007, 0.0005]\n"
     ]
    }
   ],
   "source": [
    "from sklearn import preprocessing\n",
    "# X=preprocessing.scale(X)\n",
    "scaler = preprocessing.StandardScaler()\n",
    "X = scaler.fit_transform(X)\n",
    "print X.shape,y.shape\n",
    "from sklearn.preprocessing import label_binarize\n",
    "y=label_binarize(np.asarray(y),[0,1])\n",
    "\n",
    "#C_range = np.logspace(-2, 10, 13)\n",
    "# gamma_range = np.logspace(-2, 2, 5)\n",
    "gamma_range = [0.01,0.002,0.00069,0.0007,0.0005]\n",
    "C_range = np.logspace(-2, 2, 5)\n",
    "#gamma_range = np.logspace(-2, 2, 5)\n",
    "\n",
    "print C_range,gamma_range\n"
   ]
  },
  {
   "cell_type": "code",
   "execution_count": null,
   "metadata": {},
   "outputs": [],
   "source": []
  },
  {
   "cell_type": "markdown",
   "metadata": {},
   "source": [
    "## here I disable the l-15 clf_tune....."
   ]
  },
  {
   "cell_type": "code",
   "execution_count": 9,
   "metadata": {},
   "outputs": [],
   "source": [
    "#Classifiaction:\n",
    "# #Splitting\n",
    "from sklearn import preprocessing\n",
    "X_train, X_test, y_train, y_test = train_test_split(X, y, test_size=0.20,random_state=rs)\n",
    "cv = ShuffleSplit(X_train.shape[0], test_size=0.20, random_state=rs)\n",
    "\n",
    "# Define Classifier\n",
    "svr = svm.SVC(kernel='rbf')\n",
    "\n",
    "# Deffine tuning parameter\n",
    "C_range = np.logspace(-2, 2, 5)\n",
    "# gamma_range = np.logspace(-2, 2, 5)\n",
    "gamma_range = [0.01,0.002,0.00069,0.0007,0.0005]\n",
    "param_grid = dict(gamma=gamma_range, C=C_range)\n",
    "# clf_Tune = GridSearchCV(estimator=svr, cv=5, param_grid=param_grid,n_jobs=-1, verbose=True)\n",
    "# clf_Tune.fit(X_train,y_train)\n",
    "# print 'Finish tuning'      "
   ]
  },
  {
   "cell_type": "markdown",
   "metadata": {},
   "source": [
    "# Find Significant correlation with stability selections "
   ]
  },
  {
   "cell_type": "markdown",
   "metadata": {},
   "source": [
    "### Preprocessing of dataset with binarize the label"
   ]
  },
  {
   "cell_type": "code",
   "execution_count": 10,
   "metadata": {},
   "outputs": [
    {
     "data": {
      "text/plain": [
       "array([4.40012983, 1.0227934 , 0.85987283, 0.62346286, 0.83781663,\n",
       "       1.00384048, 1.17929494, 0.47137853, 0.54280598, 1.4201062 ])"
      ]
     },
     "execution_count": 10,
     "metadata": {},
     "output_type": "execute_result"
    }
   ],
   "source": [
    "# Pre Processing \n",
    "X[0,:10]"
   ]
  },
  {
   "cell_type": "code",
   "execution_count": 11,
   "metadata": {},
   "outputs": [
    {
     "name": "stdout",
     "output_type": "stream",
     "text": [
      "(2880, 272) (2880, 1)\n"
     ]
    }
   ],
   "source": [
    "from sklearn import preprocessing\n",
    "X=preprocessing.scale(X)\n",
    "# scaler = preprocessing.StandardScaler()\n",
    "# X = scaler.fit_transform(X)\n",
    "print X.shape,y.shape\n",
    "from sklearn.preprocessing import label_binarize\n",
    "y=label_binarize(np.asarray(y),[0,1])"
   ]
  },
  {
   "cell_type": "code",
   "execution_count": 12,
   "metadata": {},
   "outputs": [],
   "source": [
    "# np.var(X[:,1])"
   ]
  },
  {
   "cell_type": "markdown",
   "metadata": {},
   "source": [
    "### Randomized Logistic Regression "
   ]
  },
  {
   "cell_type": "code",
   "execution_count": 13,
   "metadata": {},
   "outputs": [],
   "source": [
    "from sklearn.linear_model import (RandomizedLasso, lasso_stability_path,LassoLarsCV)\n",
    "from sklearn.exceptions import ConvergenceWarning\n",
    "\n",
    "#Model Library\n",
    "from sklearn.linear_model import (RandomizedLasso, lasso_stability_path, LassoLarsCV)\n",
    "from sklearn.model_selection import GridSearchCV\n",
    "from sklearn.linear_model import LogisticRegression, RandomizedLogisticRegression\n",
    "from sklearn import svm\n",
    "\n",
    "# Performance analysis library \n",
    "from sklearn.model_selection import KFold, cross_val_score, LeaveOneOut, cross_val_predict\n",
    "from sklearn.metrics import precision_recall_curve\n",
    "from sklearn.metrics import average_precision_score\n",
    "from sklearn.metrics import accuracy_score\n",
    "from sklearn.metrics import roc_curve,auc\n",
    "from sklearn.metrics import classification_report\n",
    "from sklearn.metrics import confusion_matrix\n",
    "\n",
    "\n",
    "# preprocessing\n",
    "from sklearn.preprocessing import Imputer\n",
    "from sklearn.model_selection import train_test_split # test train split\n",
    "from sklearn.model_selection import ShuffleSplit"
   ]
  },
  {
   "cell_type": "code",
   "execution_count": 14,
   "metadata": {},
   "outputs": [],
   "source": [
    "with warnings.catch_warnings():\n",
    "    #warnings.simplefilter('ignore', UserWarning)\n",
    "    warnings.simplefilter('ignore', ConvergenceWarning)\n",
    "    lars_cv = LassoLarsCV(cv=5).fit(X, y)\n",
    "# print lars_cv.alpha_\n",
    "# lars_cv.alphas_"
   ]
  },
  {
   "cell_type": "code",
   "execution_count": 15,
   "metadata": {},
   "outputs": [
    {
     "name": "stdout",
     "output_type": "stream",
     "text": [
      "[0.00276769 0.00249092 0.00221415 0.00193738 0.00166061 0.00138384\n",
      " 0.00110708 0.00083031 0.00055354 0.00027677]\n"
     ]
    }
   ],
   "source": [
    "# Run the RandomizedLasso: we use a paths going down to .1*alpha_max\n",
    "# to avoid exploring the regime in which very noisy variables enter\n",
    "# the model\n",
    "alphas = np.linspace(lars_cv.alphas_[0], .1 * lars_cv.alphas_[0], 10)\n",
    "print alphas\n",
    "clf = RandomizedLasso(alpha=alphas,random_state=rs,max_iter=1000).fit(X, y)"
   ]
  },
  {
   "cell_type": "code",
   "execution_count": 16,
   "metadata": {},
   "outputs": [],
   "source": [
    "# clf.scores_"
   ]
  },
  {
   "cell_type": "code",
   "execution_count": 17,
   "metadata": {},
   "outputs": [
    {
     "data": {
      "image/png": "[encoded data removed]",
      "text/plain": [
       "<Figure size 432x288 with 1 Axes>"
      ]
     },
     "metadata": {
      "needs_background": "light"
     },
     "output_type": "display_data"
    }
   ],
   "source": [
    "from matplotlib.ticker import FormatStrFormatter\n",
    "data=clf.scores_\n",
    "fig, ax = plt.subplots()\n",
    "counts, bins, patches = ax.hist(data,bins=np.round(0.1*np.arange(0,10),2) ,edgecolor='gray')\n",
    "\n",
    "# Set the ticks to be at the edges of the bins.\n",
    "ax.set_xticks(bins)\n",
    "\n",
    "# Set the xaxis's tick labels to be formatted with 1 decimal place...\n",
    "ax.xaxis.set_major_formatter(FormatStrFormatter('%0.1f'))\n",
    "\n",
    "\n",
    "# Label the raw counts and the percentages below the x-axis...\n",
    "bin_centers = 0.5 * np.diff(bins) + bins[:-1]\n",
    "for count, x in zip(counts, bin_centers):\n",
    "    # Label the raw counts\n",
    "    ax.annotate(str(count), xy=(x, 0), xycoords=('data', 'axes fraction'),\n",
    "        xytext=(0, -18), textcoords='offset points', va='top', ha='center')\n",
    "\n",
    "    # Label the percentages\n",
    "    percent = '%0.0f%%' % (100 * float(count) / counts.sum())\n",
    "    ax.annotate(percent, xy=(x, 0), xycoords=('data', 'axes fraction'),\n",
    "        xytext=(0, -32), textcoords='offset points', va='top', ha='center')\n",
    "\n",
    "\n",
    "# Give ourselves some more room at the bottom of the plot\n",
    "plt.subplots_adjust(bottom=0.15)\n",
    "plt.grid(True)\n",
    "plt.show()"
   ]
  },
  {
   "cell_type": "markdown",
   "metadata": {},
   "source": [
    "### Find the optimal threshold"
   ]
  },
  {
   "cell_type": "code",
   "execution_count": 18,
   "metadata": {},
   "outputs": [
    {
     "data": {
      "text/plain": [
       "array([0. , 0.1, 0.2, 0.3, 0.4, 0.5, 0.6, 0.7, 0.8, 0.9])"
      ]
     },
     "execution_count": 18,
     "metadata": {},
     "output_type": "execute_result"
    }
   ],
   "source": [
    "bins"
   ]
  },
  {
   "cell_type": "code",
   "execution_count": 19,
   "metadata": {},
   "outputs": [
    {
     "name": "stdout",
     "output_type": "stream",
     "text": [
      "[0.  0.1 0.2 0.3 0.4 0.5 0.6 0.7 0.8 0.9]\n",
      "[0.  0.1 0.2 0.3 0.4 0.5 0.6 0.7 0.8 0.9]\n"
     ]
    }
   ],
   "source": [
    "Th_2_Bins_Index= np.where((bins<=1.0) & (bins>=0.0)) # take the bins within a range\n",
    "# print Th_2_Bins_Index\n",
    "print bins\n",
    "Th_2_Bins=bins[Th_2_Bins_Index]\n",
    "print Th_2_Bins"
   ]
  },
  {
   "cell_type": "code",
   "execution_count": 20,
   "metadata": {},
   "outputs": [
    {
     "name": "stdout",
     "output_type": "stream",
     "text": [
      "(2880, 272) (2880, 1)\n",
      "(2304, 272) (576, 272) (2304, 1) (576, 1)\n"
     ]
    }
   ],
   "source": [
    "from sklearn import preprocessing\n",
    "X=preprocessing.scale(X)\n",
    "print X.shape,y.shape\n",
    "from sklearn.preprocessing import label_binarize\n",
    "y=label_binarize(np.asarray(y),[0,1])\n",
    "\n",
    "X_train, X_test, y_train, y_test = train_test_split(X, y, test_size=0.2, random_state=rs)\n",
    "print X_train.shape, X_test.shape, y_train.shape, y_test.shape"
   ]
  },
  {
   "cell_type": "code",
   "execution_count": 21,
   "metadata": {},
   "outputs": [
    {
     "data": {
      "text/plain": [
       "array([[ 1.79434265,  2.13942648,  2.99925342, ...,  1.05168763,\n",
       "         1.68079726,  0.1368292 ],\n",
       "       [ 0.52560323,  1.49341718,  1.08851088, ...,  1.92389039,\n",
       "         0.72374052,  0.53842273],\n",
       "       [ 0.49621891,  0.37194101,  0.4360478 , ..., -0.17878066,\n",
       "        -0.32021022,  0.11657461],\n",
       "       ...,\n",
       "       [-0.16052078,  0.7571082 ,  0.85636375, ..., -0.49709495,\n",
       "        -0.55790828, -0.24700109],\n",
       "       [ 0.10358713,  0.42660746,  0.60002852, ...,  1.44443175,\n",
       "         0.24458388,  0.45214362],\n",
       "       [-0.81819083, -0.983479  , -0.77654309, ..., -0.47853981,\n",
       "        -0.62572392, -1.12484379]])"
      ]
     },
     "execution_count": 21,
     "metadata": {},
     "output_type": "execute_result"
    }
   ],
   "source": [
    "X_train[:,1:10]"
   ]
  },
  {
   "cell_type": "code",
   "execution_count": 22,
   "metadata": {},
   "outputs": [
    {
     "data": {
      "text/plain": [
       "numpy.ndarray"
      ]
     },
     "execution_count": 22,
     "metadata": {},
     "output_type": "execute_result"
    }
   ],
   "source": [
    "type(X_train)#[:,np.squeeze(np.asarray(np.where(clf.scores_>=0.16)))].shape#,y_train"
   ]
  },
  {
   "cell_type": "code",
   "execution_count": 23,
   "metadata": {},
   "outputs": [
    {
     "name": "stdout",
     "output_type": "stream",
     "text": [
      "Fitting 5 folds for each of 65 candidates, totalling 325 fits\n"
     ]
    },
    {
     "name": "stderr",
     "output_type": "stream",
     "text": [
      "[Parallel(n_jobs=-1)]: Done  42 tasks      | elapsed:   21.0s\n",
      "[Parallel(n_jobs=-1)]: Done 192 tasks      | elapsed:  1.2min\n",
      "[Parallel(n_jobs=-1)]: Done 325 out of 325 | elapsed:  1.9min finished\n"
     ]
    },
    {
     "data": {
      "text/plain": [
       "GridSearchCV(cv=5, error_score='raise',\n",
       "       estimator=SVC(C=1.0, cache_size=200, class_weight=None, coef0=0.0,\n",
       "  decision_function_shape='ovr', degree=3, gamma='auto', kernel='rbf',\n",
       "  max_iter=-1, probability=False, random_state=None, shrinking=True,\n",
       "  tol=0.001, verbose=False),\n",
       "       fit_params=None, iid=True, n_jobs=-1,\n",
       "       param_grid={'C': [1, 2, 4, 6, 8, 10, 12, 15, 16, 20, 30, 40, 100], 'gamma': [0.01, 0.002, 0.00069, 0.0007, 0.0005]},\n",
       "       pre_dispatch='2*n_jobs', refit=True, return_train_score='warn',\n",
       "       scoring=None, verbose=True)"
      ]
     },
     "execution_count": 23,
     "metadata": {},
     "output_type": "execute_result"
    }
   ],
   "source": [
    "# C_range = np.logspace(-2, 2, 5)\n",
    "C_range = [1,2,4,6,8,10,12,15,16,20,30,40,100]\n",
    "gamma_range = [0.01,0.002,0.00069,0.0007,0.0005]\n",
    "# gamma_range = np.logspace(-2, 2, 5)\n",
    "param_grid = dict(gamma=gamma_range, C=C_range)\n",
    "#clf_Tune = GridSearchCV(estimator=svr, cv=1, param_grid=param_grid,n_jobs=-1)\n",
    "clf_Tune = GridSearchCV(estimator=svr, cv=5, param_grid=param_grid,n_jobs=-1, verbose=True)\n",
    "clf_Tune.fit(X_train[:,np.squeeze(np.asarray(np.where(clf.scores_>=Th_2_Bins[0])))],y_train)"
   ]
  },
  {
   "cell_type": "code",
   "execution_count": 24,
   "metadata": {},
   "outputs": [
    {
     "name": "stdout",
     "output_type": "stream",
     "text": [
      "0.9809027777777778\n"
     ]
    }
   ],
   "source": [
    "# use tuned parameter on to get model\n",
    "y_p = clf_Tune.best_estimator_.predict(X_test[:,np.squeeze(np.asarray(np.where(clf.scores_>=Th_2_Bins[0])))])\n",
    "\n",
    "print accuracy_score(y_test, y_p)"
   ]
  },
  {
   "cell_type": "code",
   "execution_count": 25,
   "metadata": {},
   "outputs": [
    {
     "name": "stdout",
     "output_type": "stream",
     "text": [
      "0.0\n",
      "(2304, 272)\n",
      "Fitting 5 folds for each of 25 candidates, totalling 125 fits\n"
     ]
    },
    {
     "name": "stderr",
     "output_type": "stream",
     "text": [
      "[Parallel(n_jobs=-1)]: Done  42 tasks      | elapsed:   41.1s\n",
      "[Parallel(n_jobs=-1)]: Done 125 out of 125 | elapsed:  1.7min finished\n"
     ]
    },
    {
     "name": "stdout",
     "output_type": "stream",
     "text": [
      "(2304, 272) (2304, 1)\n",
      "Finish tuning\n",
      "SVC(C=10.0, cache_size=200, class_weight=None, coef0=0.0,\n",
      "  decision_function_shape='ovr', degree=3, gamma=0.002, kernel='rbf',\n",
      "  max_iter=-1, probability=False, random_state=None, shrinking=True,\n",
      "  tol=0.001, verbose=False)\n",
      "Shape (576, 272)\n",
      "ACC 0.9756944444444444 0.9757173860622137\n",
      "0.300347222222\n",
      "0.1\n",
      "(2304, 109)\n",
      "Fitting 5 folds for each of 25 candidates, totalling 125 fits\n"
     ]
    },
    {
     "name": "stderr",
     "output_type": "stream",
     "text": [
      "[Parallel(n_jobs=-1)]: Done  42 tasks      | elapsed:   16.9s\n",
      "[Parallel(n_jobs=-1)]: Done 125 out of 125 | elapsed:   41.7s finished\n"
     ]
    },
    {
     "name": "stdout",
     "output_type": "stream",
     "text": [
      "(2304, 109) (2304, 1)\n",
      "Finish tuning\n",
      "SVC(C=10.0, cache_size=200, class_weight=None, coef0=0.0,\n",
      "  decision_function_shape='ovr', degree=3, gamma=0.002, kernel='rbf',\n",
      "  max_iter=-1, probability=False, random_state=None, shrinking=True,\n",
      "  tol=0.001, verbose=False)\n",
      "Shape (576, 109)\n",
      "ACC 0.9722222222222222 0.97222088256571\n",
      "0.19140625\n",
      "0.2\n",
      "(2304, 86)\n",
      "Fitting 5 folds for each of 25 candidates, totalling 125 fits\n"
     ]
    },
    {
     "name": "stderr",
     "output_type": "stream",
     "text": [
      "[Parallel(n_jobs=-1)]: Done  42 tasks      | elapsed:   14.3s\n",
      "[Parallel(n_jobs=-1)]: Done 125 out of 125 | elapsed:   34.7s finished\n"
     ]
    },
    {
     "name": "stdout",
     "output_type": "stream",
     "text": [
      "(2304, 86) (2304, 1)\n",
      "Finish tuning\n",
      "SVC(C=10.0, cache_size=200, class_weight=None, coef0=0.0,\n",
      "  decision_function_shape='ovr', degree=3, gamma=0.002, kernel='rbf',\n",
      "  max_iter=-1, probability=False, random_state=None, shrinking=True,\n",
      "  tol=0.001, verbose=False)\n",
      "Shape (576, 86)\n",
      "ACC 0.96875 0.968748492886424\n",
      "0.185763888889\n",
      "0.3\n",
      "(2304, 65)\n",
      "Fitting 5 folds for each of 25 candidates, totalling 125 fits\n"
     ]
    },
    {
     "name": "stderr",
     "output_type": "stream",
     "text": [
      "[Parallel(n_jobs=-1)]: Done  42 tasks      | elapsed:   11.8s\n",
      "[Parallel(n_jobs=-1)]: Done 125 out of 125 | elapsed:   29.1s finished\n"
     ]
    },
    {
     "name": "stdout",
     "output_type": "stream",
     "text": [
      "(2304, 65) (2304, 1)\n",
      "Finish tuning\n",
      "SVC(C=10.0, cache_size=200, class_weight=None, coef0=0.0,\n",
      "  decision_function_shape='ovr', degree=3, gamma=0.002, kernel='rbf',\n",
      "  max_iter=-1, probability=False, random_state=None, shrinking=True,\n",
      "  tol=0.001, verbose=False)\n",
      "Shape (576, 65)\n",
      "ACC 0.9600694444444444 0.9601036894140342\n",
      "0.190538194444\n",
      "0.4\n",
      "(2304, 54)\n",
      "Fitting 5 folds for each of 25 candidates, totalling 125 fits\n"
     ]
    },
    {
     "name": "stderr",
     "output_type": "stream",
     "text": [
      "[Parallel(n_jobs=-1)]: Done  42 tasks      | elapsed:   10.2s\n",
      "[Parallel(n_jobs=-1)]: Done 125 out of 125 | elapsed:   25.3s finished\n"
     ]
    },
    {
     "name": "stdout",
     "output_type": "stream",
     "text": [
      "(2304, 54) (2304, 1)\n",
      "Finish tuning\n",
      "SVC(C=100.0, cache_size=200, class_weight=None, coef0=0.0,\n",
      "  decision_function_shape='ovr', degree=3, gamma=0.002, kernel='rbf',\n",
      "  max_iter=-1, probability=False, random_state=None, shrinking=True,\n",
      "  tol=0.001, verbose=False)\n",
      "Shape (576, 54)\n",
      "ACC 0.9565972222222222 0.9566071859175307\n",
      "0.138020833333\n",
      "0.5\n",
      "(2304, 25)\n",
      "Fitting 5 folds for each of 25 candidates, totalling 125 fits\n"
     ]
    },
    {
     "name": "stderr",
     "output_type": "stream",
     "text": [
      "[Parallel(n_jobs=-1)]: Done  42 tasks      | elapsed:    6.7s\n",
      "[Parallel(n_jobs=-1)]: Done 125 out of 125 | elapsed:   16.7s finished\n"
     ]
    },
    {
     "name": "stdout",
     "output_type": "stream",
     "text": [
      "(2304, 25) (2304, 1)\n",
      "Finish tuning\n",
      "SVC(C=10.0, cache_size=200, class_weight=None, coef0=0.0,\n",
      "  decision_function_shape='ovr', degree=3, gamma=0.01, kernel='rbf',\n",
      "  max_iter=-1, probability=False, random_state=None, shrinking=True,\n",
      "  tol=0.001, verbose=False)\n",
      "Shape (576, 25)\n",
      "ACC 0.9270833333333334 0.9271039305522065\n",
      "0.223090277778\n",
      "0.6\n",
      "(2304, 17)\n",
      "Fitting 5 folds for each of 25 candidates, totalling 125 fits\n"
     ]
    },
    {
     "name": "stderr",
     "output_type": "stream",
     "text": [
      "[Parallel(n_jobs=-1)]: Done  42 tasks      | elapsed:    6.5s\n",
      "[Parallel(n_jobs=-1)]: Done 125 out of 125 | elapsed:   15.6s finished\n"
     ]
    },
    {
     "name": "stdout",
     "output_type": "stream",
     "text": [
      "(2304, 17) (2304, 1)\n",
      "Finish tuning\n",
      "SVC(C=1.0, cache_size=200, class_weight=None, coef0=0.0,\n",
      "  decision_function_shape='ovr', degree=3, gamma=0.01, kernel='rbf',\n",
      "  max_iter=-1, probability=False, random_state=None, shrinking=True,\n",
      "  tol=0.001, verbose=False)\n",
      "Shape (576, 17)\n",
      "ACC 0.8645833333333334 0.864673257776706\n",
      "0.425347222222\n",
      "0.7\n",
      "(2304, 9)\n",
      "Fitting 5 folds for each of 25 candidates, totalling 125 fits\n"
     ]
    },
    {
     "name": "stderr",
     "output_type": "stream",
     "text": [
      "[Parallel(n_jobs=-1)]: Done  42 tasks      | elapsed:    4.8s\n",
      "[Parallel(n_jobs=-1)]: Done 125 out of 125 | elapsed:   13.7s finished\n"
     ]
    },
    {
     "name": "stdout",
     "output_type": "stream",
     "text": [
      "(2304, 9) (2304, 1)\n",
      "Finish tuning\n",
      "SVC(C=10.0, cache_size=200, class_weight=None, coef0=0.0,\n",
      "  decision_function_shape='ovr', degree=3, gamma=0.01, kernel='rbf',\n",
      "  max_iter=-1, probability=False, random_state=None, shrinking=True,\n",
      "  tol=0.001, verbose=False)\n",
      "Shape (576, 9)\n",
      "ACC 0.7725694444444444 0.7726428743670123\n",
      "0.561631944444\n",
      "0.8\n",
      "(2304, 2)\n",
      "Fitting 5 folds for each of 25 candidates, totalling 125 fits\n"
     ]
    },
    {
     "name": "stderr",
     "output_type": "stream",
     "text": [
      "[Parallel(n_jobs=-1)]: Done  42 tasks      | elapsed:    4.0s\n",
      "[Parallel(n_jobs=-1)]: Done 125 out of 125 | elapsed:   12.8s finished\n"
     ]
    },
    {
     "name": "stdout",
     "output_type": "stream",
     "text": [
      "(2304, 2) (2304, 1)\n",
      "Finish tuning\n",
      "SVC(C=100.0, cache_size=200, class_weight=None, coef0=0.0,\n",
      "  decision_function_shape='ovr', degree=3, gamma=0.002, kernel='rbf',\n",
      "  max_iter=-1, probability=False, random_state=None, shrinking=True,\n",
      "  tol=0.001, verbose=False)\n",
      "Shape (576, 2)\n",
      "ACC 0.6059027777777778 0.6063539908367495\n",
      "0.845052083333\n",
      "0.9\n",
      "(2304, 0)\n",
      "Fitting 5 folds for each of 25 candidates, totalling 125 fits\n",
      "error at: 0.9\n"
     ]
    }
   ],
   "source": [
    "# #Splitting\n",
    "X_train, X_test, y_train, y_test = train_test_split(X, y, test_size=0.2, random_state=rs)\n",
    "#cv = ShuffleSplit(X_train.shape[0], test_size=0.2, random_state=rs)\n",
    "\n",
    "# Define Classifier\n",
    "svr = svm.SVC(kernel='rbf')\n",
    "\n",
    "# Deffine tuning parameter\n",
    "# C_range = np.logspace(-2, 10, 13)\n",
    "# gamma_range = np.logspace(-9, 3, 13)\n",
    "\n",
    "C_range = np.logspace(-2, 2, 5)\n",
    "gamma_range = [1,0.5, 0.25,0.01,0.002]\n",
    "# gamma_range = [0.01,0.002,0.0006,0.0007]\n",
    "# gamma_range = [0.1,0.01,0.002,0.0005,0.0006,0.0007,]\n",
    "# C_range = [20, 30,50]\n",
    "# C_range=[1000,1500]\n",
    "# C_range = [1,2,4,6,8,10,12,15,16,20,30,40,100]\n",
    "# gamma_range = [0.01,0.015, 0.018, 0.002,0.003,0.0004, 0.0005,0.0006,0.0007]; # 0.0007=1/1428 1428 = no. of features\n",
    "# gamma_range = np.logspace(-2, 2, 5)\n",
    "param_grid = dict(gamma=gamma_range, C=C_range)\n",
    "#clf_Tune = GridSearchCV(estimator=svr, cv=1, param_grid=param_grid,n_jobs=-1)\n",
    "clf_Tune = GridSearchCV(estimator=svr, cv=5, param_grid=param_grid,n_jobs=-1, verbose=True)\n",
    "##  Define LeaveOneOutCrossValidation\n",
    "#loocv = LeaveOneOut()\n",
    "ACC_Th2=[]\n",
    "AUC_Th2=[]\n",
    "SV=[]\n",
    "Bins=[]\n",
    "Fsc=[]\n",
    "for i in Th_2_Bins:\n",
    "    print i\n",
    "    try:\n",
    "        print X_train[:,np.squeeze(np.asarray(np.where(clf.scores_>=i)))].shape\n",
    "        \n",
    "        #Hyper parameter Tuning \n",
    "        clf_Tune.fit(X_train[:,np.squeeze(np.asarray(np.where(clf.scores_>=i)))],y_train)\n",
    "        print X_train[:,np.squeeze(np.asarray(np.where(clf.scores_>=i)))].shape ,y_train.shape\n",
    "        print 'Finish tuning'\n",
    "        print clf_Tune.best_estimator_\n",
    "\n",
    "        # use tuned parameter on to get model\n",
    "        y_p = clf_Tune.best_estimator_.predict(X_test[:,np.squeeze(np.asarray(np.where(clf.scores_>=i)))])\n",
    "\n",
    "        ACC_Th2_T=accuracy_score(y_test, y_p)\n",
    "        fpr, tpr, thresholds = metrics.roc_curve(y_test,y_p)\n",
    "        AUC_Th2_T=metrics.auc(fpr, tpr)\n",
    "        perf=classification_report(y_test, y_p)\n",
    "        print 'Shape', X_test[:,np.squeeze(np.asarray(np.where(clf.scores_>=i)))].shape\n",
    "        print 'ACC',ACC_Th2_T,AUC_Th2_T\n",
    "        SVe=float(len(clf_Tune.best_estimator_.support_vectors_))/X_train[:,np.squeeze(np.asarray(np.where(clf.scores_>=i)))].shape[0]\n",
    "        print SVe\n",
    "        SV.append(SVe)\n",
    "#         print 'Report',classification_report(y_test, y_p)\n",
    "        ACC_Th2.append(ACC_Th2_T)\n",
    "        AUC_Th2.append(AUC_Th2_T)\n",
    "        Fsc.append(perf)\n",
    "        Bins.append(i)\n",
    "    except:\n",
    "        print 'error at:',i\n",
    "    # false_positive_rate, true_positive_rate, thresholds = roc_curve(y_test, y_p)\n",
    "    # roc_auc_T = auc(false_positive_rate, true_positive_rate)\n",
    "    # print 'AUC',roc_auc_T\n",
    "    # AUC_Th2.append(roc_auc_T)"
   ]
  },
  {
   "cell_type": "code",
   "execution_count": 26,
   "metadata": {},
   "outputs": [
    {
     "name": "stdout",
     "output_type": "stream",
     "text": [
      "0.9756944444444444\n",
      "0\n",
      "             precision    recall  f1-score   support\n",
      "\n",
      "          0       0.97      0.98      0.98       286\n",
      "          1       0.98      0.97      0.98       290\n",
      "\n",
      "avg / total       0.98      0.98      0.98       576\n",
      "\n",
      "0.9722222222222222\n",
      "1\n",
      "             precision    recall  f1-score   support\n",
      "\n",
      "          0       0.97      0.97      0.97       286\n",
      "          1       0.97      0.97      0.97       290\n",
      "\n",
      "avg / total       0.97      0.97      0.97       576\n",
      "\n",
      "0.96875\n",
      "2\n",
      "             precision    recall  f1-score   support\n",
      "\n",
      "          0       0.97      0.97      0.97       286\n",
      "          1       0.97      0.97      0.97       290\n",
      "\n",
      "avg / total       0.97      0.97      0.97       576\n",
      "\n",
      "0.9600694444444444\n",
      "3\n",
      "             precision    recall  f1-score   support\n",
      "\n",
      "          0       0.96      0.97      0.96       286\n",
      "          1       0.97      0.96      0.96       290\n",
      "\n",
      "avg / total       0.96      0.96      0.96       576\n",
      "\n",
      "0.9565972222222222\n",
      "4\n",
      "             precision    recall  f1-score   support\n",
      "\n",
      "          0       0.95      0.96      0.96       286\n",
      "          1       0.96      0.96      0.96       290\n",
      "\n",
      "avg / total       0.96      0.96      0.96       576\n",
      "\n",
      "0.9270833333333334\n",
      "5\n",
      "             precision    recall  f1-score   support\n",
      "\n",
      "          0       0.92      0.93      0.93       286\n",
      "          1       0.93      0.92      0.93       290\n",
      "\n",
      "avg / total       0.93      0.93      0.93       576\n",
      "\n",
      "0.8645833333333334\n",
      "6\n",
      "             precision    recall  f1-score   support\n",
      "\n",
      "          0       0.85      0.88      0.87       286\n",
      "          1       0.88      0.85      0.86       290\n",
      "\n",
      "avg / total       0.86      0.86      0.86       576\n",
      "\n"
     ]
    }
   ],
   "source": [
    "for i in range(0,7):\n",
    "    print ACC_Th2[i] \n",
    "    print i\n",
    "    print (Fsc[i])"
   ]
  },
  {
   "cell_type": "code",
   "execution_count": 27,
   "metadata": {},
   "outputs": [
    {
     "data": {
      "text/plain": [
       "[0.9756944444444444,\n",
       " 0.9722222222222222,\n",
       " 0.96875,\n",
       " 0.9600694444444444,\n",
       " 0.9565972222222222,\n",
       " 0.9270833333333334,\n",
       " 0.8645833333333334,\n",
       " 0.7725694444444444,\n",
       " 0.6059027777777778]"
      ]
     },
     "execution_count": 27,
     "metadata": {},
     "output_type": "execute_result"
    }
   ],
   "source": [
    "ACC_Th2 "
   ]
  },
  {
   "cell_type": "code",
   "execution_count": 28,
   "metadata": {},
   "outputs": [
    {
     "data": {
      "text/plain": [
       "0.4"
      ]
     },
     "execution_count": 28,
     "metadata": {},
     "output_type": "execute_result"
    }
   ],
   "source": [
    "Th_2_Bins[4]"
   ]
  },
  {
   "cell_type": "code",
   "execution_count": 29,
   "metadata": {},
   "outputs": [
    {
     "data": {
      "text/plain": [
       "array([  3,   5,  11,  20,  23,  31,  36,  46,  47,  53,  54,  56,  58,\n",
       "        65,  68,  71,  76,  79,  80,  82, 106, 116, 122, 128, 129, 134,\n",
       "       140, 141, 142, 150, 155, 161, 172, 184, 187, 188, 189, 199, 202,\n",
       "       203, 204, 209, 211, 218, 223, 224, 227, 228, 229, 236, 247, 248,\n",
       "       263, 267])"
      ]
     },
     "execution_count": 29,
     "metadata": {},
     "output_type": "execute_result"
    }
   ],
   "source": [
    "# Need to chage gamma range . It is selecting too many features\n",
    "# Let 0.34 is our best Thr. TO get the index numer with this thr\n",
    "fealoc=np.squeeze(np.asarray(np.where(clf.scores_>=Th_2_Bins[4])))\n",
    "fealoc\n",
    "# len(fealoc)\n",
    "# Do you get it? yes > How about number of support of the model?"
   ]
  },
  {
   "cell_type": "code",
   "execution_count": 30,
   "metadata": {},
   "outputs": [],
   "source": [
    "# ROI=fealoc%68\n",
    "# ROI\n",
    "# np.unique(ROI,return_counts=True)"
   ]
  },
  {
   "cell_type": "code",
   "execution_count": 31,
   "metadata": {},
   "outputs": [],
   "source": [
    "# len(np.unique(ROI))\n",
    "# np.unique(ROI,return_counts=True)"
   ]
  },
  {
   "cell_type": "code",
   "execution_count": 32,
   "metadata": {},
   "outputs": [],
   "source": [
    "# for th in Th_2_Bins:\n",
    "#     clf_Tune.fit(X_train[:,np.squeeze(np.asarray(np.where(clf.scores_>=th)))],y_train)\n",
    "#     print X_train[:,np.squeeze(np.asarray(np.where(clf.scores_>=th)))].shape ,y_train.shape\n",
    "#     print 'Finish tuning'\n",
    "#     print float(len(clf_Tune.best_estimator_.support_vectors_))/X_train[:,np.squeeze(np.asarray(np.where(clf.scores_>=th)))].shape[0]*100\n",
    "# # use tuned parameter on to get model\n",
    "# #y_p = clf_Tune.best_estimator_.predict(X_test[:,np.squeeze(np.asarray(np.where(clf.scores_>=i)))])"
   ]
  },
  {
   "cell_type": "code",
   "execution_count": 33,
   "metadata": {},
   "outputs": [],
   "source": [
    "# float(len(clf_Tune.best_estimator_.support_vectors_))/X_train[:,np.squeeze(np.asarray(np.where(clf.scores_>=0.25)))].shape[0]*100"
   ]
  },
  {
   "cell_type": "code",
   "execution_count": 34,
   "metadata": {},
   "outputs": [],
   "source": [
    "# result it overfitting need to be less or equal to 40%"
   ]
  },
  {
   "cell_type": "markdown",
   "metadata": {},
   "source": [
    "# Rank the Feature Vectors as their importance"
   ]
  },
  {
   "cell_type": "markdown",
   "metadata": {},
   "source": [
    "## *Here we need to change in \"rakfe=bb[bb[:,0]>=Th_2_Bins[5]];\"5 means 0.5*"
   ]
  },
  {
   "cell_type": "code",
   "execution_count": 35,
   "metadata": {},
   "outputs": [
    {
     "data": {
      "text/plain": [
       "272"
      ]
     },
     "execution_count": 35,
     "metadata": {},
     "output_type": "execute_result"
    }
   ],
   "source": [
    "X.shape[1]"
   ]
  },
  {
   "cell_type": "code",
   "execution_count": 36,
   "metadata": {},
   "outputs": [
    {
     "name": "stdout",
     "output_type": "stream",
     "text": [
      "[ 0. 23. 36. 46. 25. 59.  5. 14.  3.  7. 14.  5. 48. 24. 14. 67. 52. 32.\n",
      " 61. 11. 11.  8. 60. 63. 66.]\n",
      "25\n"
     ]
    }
   ],
   "source": [
    "# Rank the Features according to the importance\n",
    "names=range(0,X.shape[1]) # Feature names used as 1-1428 features\n",
    "cn=np.asarray(names) # converted as numpy.ndarray\n",
    "# print \"Features sorted by their score:\"\n",
    "b= sorted(zip(map(lambda x: round(x, 4), clf.scores_), cn), reverse=True)\n",
    "# print b\n",
    "bb=np.asarray(b)\n",
    "rakfe=bb[bb[:,0]>=Th_2_Bins[5]]\n",
    "# rakfe=bb[bb[:,0]>=.50]\n",
    "ROIs=rakfe[:,1]%68\n",
    "print ROIs\n",
    "print len(ROIs)"
   ]
  },
  {
   "cell_type": "code",
   "execution_count": 37,
   "metadata": {},
   "outputs": [
    {
     "data": {
      "text/plain": [
       "0.6"
      ]
     },
     "execution_count": 37,
     "metadata": {},
     "output_type": "execute_result"
    }
   ],
   "source": [
    "Th_2_Bins[6]"
   ]
  },
  {
   "cell_type": "code",
   "execution_count": 38,
   "metadata": {
    "scrolled": false
   },
   "outputs": [],
   "source": [
    "# # b\n",
    "# ROIstime=np.floor(rakfe[:,1]/68)\n",
    "# timeloc=ROIstime*10\n",
    "# plt.hist(timeloc, bins=20)"
   ]
  },
  {
   "cell_type": "code",
   "execution_count": 39,
   "metadata": {},
   "outputs": [],
   "source": [
    "# ROI\n",
    "# print np.unique(ROIs,return_counts=True)\n",
    "# print len(np.unique(ROIs))"
   ]
  },
  {
   "cell_type": "code",
   "execution_count": 40,
   "metadata": {},
   "outputs": [],
   "source": [
    "# ROIs"
   ]
  },
  {
   "cell_type": "code",
   "execution_count": 41,
   "metadata": {},
   "outputs": [],
   "source": [
    "Roiname=pd.read_csv(\"/home/sultan/EEG/Source_Level_Analysis/DK_atlas_Visualize_index_v1.csv\")"
   ]
  },
  {
   "cell_type": "code",
   "execution_count": 42,
   "metadata": {},
   "outputs": [],
   "source": [
    "nor=81\n",
    "shdkroi=Roiname['Desikan_Freesurfer_v5.1'] # \"Desikan_Freesurfer_v5.1\"  is the label of short name columns \n",
    "sdk=shdkroi[ROIs]# ROIs is the index of label\n",
    "# sdk.head(nor)"
   ]
  },
  {
   "cell_type": "code",
   "execution_count": 43,
   "metadata": {},
   "outputs": [
    {
     "name": "stdout",
     "output_type": "stream",
     "text": [
      "0.0                     bankssts L\n",
      "23.0            lateraloccipital R\n",
      "36.0             parsopercularis L\n",
      "46.0          posteriorcingulate L\n",
      "25.0        lateralorbitofrontal R\n",
      "59.0            superiorparietal R\n",
      "5.0          caudalmiddlefrontal R\n",
      "14.0            inferiorparietal L\n",
      "3.0      caudalanteriorcingulate R\n",
      "7.0                       cuneus R\n",
      "14.0            inferiorparietal L\n",
      "5.0          caudalmiddlefrontal R\n",
      "48.0                  precentral L\n",
      "24.0        lateralorbitofrontal L\n",
      "14.0            inferiorparietal L\n",
      "67.0          transversetemporal R\n",
      "52.0    rostralanteriorcingulate L\n",
      "32.0                 paracentral L\n",
      "61.0            superiortemporal R\n",
      "11.0                 frontalpole R\n",
      "11.0                 frontalpole R\n",
      "8.0                   entorhinal L\n",
      "60.0            superiortemporal L\n",
      "63.0               supramarginal R\n",
      "66.0          transversetemporal L\n",
      "Name: BrainMesh_ICBM152.nv, dtype: object\n"
     ]
    },
    {
     "data": {
      "text/plain": [
       "25"
      ]
     },
     "execution_count": 43,
     "metadata": {},
     "output_type": "execute_result"
    }
   ],
   "source": [
    "dkfull=Roiname['BrainMesh_ICBM152.nv']\n",
    "dk=dkfull[ROIs]\n",
    "print dk.head(nor)\n",
    "len(dk.head(nor))"
   ]
  },
  {
   "cell_type": "code",
   "execution_count": 44,
   "metadata": {},
   "outputs": [],
   "source": [
    "aa=pd.DataFrame(dk.values[0:nor])\n",
    "aa.columns=['ROIs']\n",
    "Toprois=pd.DataFrame(aa.values)\n",
    "# print Toprois"
   ]
  },
  {
   "cell_type": "code",
   "execution_count": 45,
   "metadata": {},
   "outputs": [],
   "source": [
    "saa=pd.DataFrame(sdk.values[0:nor])\n",
    "saa.columns=['short ROIs']\n",
    "sToprois=pd.DataFrame(saa.values)\n",
    "# print sToprois"
   ]
  },
  {
   "cell_type": "code",
   "execution_count": 46,
   "metadata": {},
   "outputs": [
    {
     "data": {
      "text/html": [
       "<div>\n",
       "<style scoped>\n",
       "    .dataframe tbody tr th:only-of-type {\n",
       "        vertical-align: middle;\n",
       "    }\n",
       "\n",
       "    .dataframe tbody tr th {\n",
       "        vertical-align: top;\n",
       "    }\n",
       "\n",
       "    .dataframe thead th {\n",
       "        text-align: right;\n",
       "    }\n",
       "</style>\n",
       "<table border=\"1\" class=\"dataframe\">\n",
       "  <thead>\n",
       "    <tr style=\"text-align: right;\">\n",
       "      <th></th>\n",
       "      <th>Fullname</th>\n",
       "      <th>ROIs short name</th>\n",
       "      <th>Feature score</th>\n",
       "    </tr>\n",
       "  </thead>\n",
       "  <tbody>\n",
       "    <tr>\n",
       "      <th>0</th>\n",
       "      <td>bankssts L</td>\n",
       "      <td>lBKS</td>\n",
       "      <td>0.865</td>\n",
       "    </tr>\n",
       "    <tr>\n",
       "      <th>1</th>\n",
       "      <td>lateraloccipital R</td>\n",
       "      <td>rLO</td>\n",
       "      <td>0.805</td>\n",
       "    </tr>\n",
       "    <tr>\n",
       "      <th>2</th>\n",
       "      <td>parsopercularis L</td>\n",
       "      <td>lPOP</td>\n",
       "      <td>0.785</td>\n",
       "    </tr>\n",
       "    <tr>\n",
       "      <th>3</th>\n",
       "      <td>posteriorcingulate L</td>\n",
       "      <td>lPCG</td>\n",
       "      <td>0.760</td>\n",
       "    </tr>\n",
       "    <tr>\n",
       "      <th>4</th>\n",
       "      <td>lateralorbitofrontal R</td>\n",
       "      <td>rLOF</td>\n",
       "      <td>0.755</td>\n",
       "    </tr>\n",
       "    <tr>\n",
       "      <th>5</th>\n",
       "      <td>superiorparietal R</td>\n",
       "      <td>rSP</td>\n",
       "      <td>0.740</td>\n",
       "    </tr>\n",
       "    <tr>\n",
       "      <th>6</th>\n",
       "      <td>caudalmiddlefrontal R</td>\n",
       "      <td>rCMF</td>\n",
       "      <td>0.740</td>\n",
       "    </tr>\n",
       "    <tr>\n",
       "      <th>7</th>\n",
       "      <td>inferiorparietal L</td>\n",
       "      <td>lIP</td>\n",
       "      <td>0.730</td>\n",
       "    </tr>\n",
       "    <tr>\n",
       "      <th>8</th>\n",
       "      <td>caudalanteriorcingulate R</td>\n",
       "      <td>rCAC</td>\n",
       "      <td>0.720</td>\n",
       "    </tr>\n",
       "    <tr>\n",
       "      <th>9</th>\n",
       "      <td>cuneus R</td>\n",
       "      <td>rCUN</td>\n",
       "      <td>0.675</td>\n",
       "    </tr>\n",
       "    <tr>\n",
       "      <th>10</th>\n",
       "      <td>inferiorparietal L</td>\n",
       "      <td>lIP</td>\n",
       "      <td>0.670</td>\n",
       "    </tr>\n",
       "    <tr>\n",
       "      <th>11</th>\n",
       "      <td>caudalmiddlefrontal R</td>\n",
       "      <td>rCMF</td>\n",
       "      <td>0.655</td>\n",
       "    </tr>\n",
       "    <tr>\n",
       "      <th>12</th>\n",
       "      <td>precentral L</td>\n",
       "      <td>lPRC</td>\n",
       "      <td>0.640</td>\n",
       "    </tr>\n",
       "    <tr>\n",
       "      <th>13</th>\n",
       "      <td>lateralorbitofrontal L</td>\n",
       "      <td>lLOF</td>\n",
       "      <td>0.625</td>\n",
       "    </tr>\n",
       "    <tr>\n",
       "      <th>14</th>\n",
       "      <td>inferiorparietal L</td>\n",
       "      <td>lIP</td>\n",
       "      <td>0.625</td>\n",
       "    </tr>\n",
       "    <tr>\n",
       "      <th>15</th>\n",
       "      <td>transversetemporal R</td>\n",
       "      <td>rTRANS</td>\n",
       "      <td>0.620</td>\n",
       "    </tr>\n",
       "    <tr>\n",
       "      <th>16</th>\n",
       "      <td>rostralanteriorcingulate L</td>\n",
       "      <td>lRAC</td>\n",
       "      <td>0.605</td>\n",
       "    </tr>\n",
       "    <tr>\n",
       "      <th>17</th>\n",
       "      <td>paracentral L</td>\n",
       "      <td>lPARA</td>\n",
       "      <td>0.590</td>\n",
       "    </tr>\n",
       "    <tr>\n",
       "      <th>18</th>\n",
       "      <td>superiortemporal R</td>\n",
       "      <td>rST</td>\n",
       "      <td>0.525</td>\n",
       "    </tr>\n",
       "    <tr>\n",
       "      <th>19</th>\n",
       "      <td>frontalpole R</td>\n",
       "      <td>rFP</td>\n",
       "      <td>0.525</td>\n",
       "    </tr>\n",
       "    <tr>\n",
       "      <th>20</th>\n",
       "      <td>frontalpole R</td>\n",
       "      <td>rFP</td>\n",
       "      <td>0.525</td>\n",
       "    </tr>\n",
       "    <tr>\n",
       "      <th>21</th>\n",
       "      <td>entorhinal L</td>\n",
       "      <td>lENT</td>\n",
       "      <td>0.515</td>\n",
       "    </tr>\n",
       "    <tr>\n",
       "      <th>22</th>\n",
       "      <td>superiortemporal L</td>\n",
       "      <td>lST</td>\n",
       "      <td>0.510</td>\n",
       "    </tr>\n",
       "    <tr>\n",
       "      <th>23</th>\n",
       "      <td>supramarginal R</td>\n",
       "      <td>rSUPRA</td>\n",
       "      <td>0.500</td>\n",
       "    </tr>\n",
       "    <tr>\n",
       "      <th>24</th>\n",
       "      <td>transversetemporal L</td>\n",
       "      <td>lTRANS</td>\n",
       "      <td>0.500</td>\n",
       "    </tr>\n",
       "    <tr>\n",
       "      <th>25</th>\n",
       "      <td>NaN</td>\n",
       "      <td>NaN</td>\n",
       "      <td>0.495</td>\n",
       "    </tr>\n",
       "    <tr>\n",
       "      <th>26</th>\n",
       "      <td>NaN</td>\n",
       "      <td>NaN</td>\n",
       "      <td>0.495</td>\n",
       "    </tr>\n",
       "    <tr>\n",
       "      <th>27</th>\n",
       "      <td>NaN</td>\n",
       "      <td>NaN</td>\n",
       "      <td>0.485</td>\n",
       "    </tr>\n",
       "    <tr>\n",
       "      <th>28</th>\n",
       "      <td>NaN</td>\n",
       "      <td>NaN</td>\n",
       "      <td>0.480</td>\n",
       "    </tr>\n",
       "    <tr>\n",
       "      <th>29</th>\n",
       "      <td>NaN</td>\n",
       "      <td>NaN</td>\n",
       "      <td>0.480</td>\n",
       "    </tr>\n",
       "    <tr>\n",
       "      <th>...</th>\n",
       "      <td>...</td>\n",
       "      <td>...</td>\n",
       "      <td>...</td>\n",
       "    </tr>\n",
       "    <tr>\n",
       "      <th>45</th>\n",
       "      <td>NaN</td>\n",
       "      <td>NaN</td>\n",
       "      <td>0.435</td>\n",
       "    </tr>\n",
       "    <tr>\n",
       "      <th>46</th>\n",
       "      <td>NaN</td>\n",
       "      <td>NaN</td>\n",
       "      <td>0.435</td>\n",
       "    </tr>\n",
       "    <tr>\n",
       "      <th>47</th>\n",
       "      <td>NaN</td>\n",
       "      <td>NaN</td>\n",
       "      <td>0.435</td>\n",
       "    </tr>\n",
       "    <tr>\n",
       "      <th>48</th>\n",
       "      <td>NaN</td>\n",
       "      <td>NaN</td>\n",
       "      <td>0.425</td>\n",
       "    </tr>\n",
       "    <tr>\n",
       "      <th>49</th>\n",
       "      <td>NaN</td>\n",
       "      <td>NaN</td>\n",
       "      <td>0.420</td>\n",
       "    </tr>\n",
       "    <tr>\n",
       "      <th>50</th>\n",
       "      <td>NaN</td>\n",
       "      <td>NaN</td>\n",
       "      <td>0.415</td>\n",
       "    </tr>\n",
       "    <tr>\n",
       "      <th>51</th>\n",
       "      <td>NaN</td>\n",
       "      <td>NaN</td>\n",
       "      <td>0.415</td>\n",
       "    </tr>\n",
       "    <tr>\n",
       "      <th>52</th>\n",
       "      <td>NaN</td>\n",
       "      <td>NaN</td>\n",
       "      <td>0.415</td>\n",
       "    </tr>\n",
       "    <tr>\n",
       "      <th>53</th>\n",
       "      <td>NaN</td>\n",
       "      <td>NaN</td>\n",
       "      <td>0.400</td>\n",
       "    </tr>\n",
       "    <tr>\n",
       "      <th>54</th>\n",
       "      <td>NaN</td>\n",
       "      <td>NaN</td>\n",
       "      <td>0.390</td>\n",
       "    </tr>\n",
       "    <tr>\n",
       "      <th>55</th>\n",
       "      <td>NaN</td>\n",
       "      <td>NaN</td>\n",
       "      <td>0.375</td>\n",
       "    </tr>\n",
       "    <tr>\n",
       "      <th>56</th>\n",
       "      <td>NaN</td>\n",
       "      <td>NaN</td>\n",
       "      <td>0.360</td>\n",
       "    </tr>\n",
       "    <tr>\n",
       "      <th>57</th>\n",
       "      <td>NaN</td>\n",
       "      <td>NaN</td>\n",
       "      <td>0.355</td>\n",
       "    </tr>\n",
       "    <tr>\n",
       "      <th>58</th>\n",
       "      <td>NaN</td>\n",
       "      <td>NaN</td>\n",
       "      <td>0.355</td>\n",
       "    </tr>\n",
       "    <tr>\n",
       "      <th>59</th>\n",
       "      <td>NaN</td>\n",
       "      <td>NaN</td>\n",
       "      <td>0.345</td>\n",
       "    </tr>\n",
       "    <tr>\n",
       "      <th>60</th>\n",
       "      <td>NaN</td>\n",
       "      <td>NaN</td>\n",
       "      <td>0.320</td>\n",
       "    </tr>\n",
       "    <tr>\n",
       "      <th>61</th>\n",
       "      <td>NaN</td>\n",
       "      <td>NaN</td>\n",
       "      <td>0.315</td>\n",
       "    </tr>\n",
       "    <tr>\n",
       "      <th>62</th>\n",
       "      <td>NaN</td>\n",
       "      <td>NaN</td>\n",
       "      <td>0.315</td>\n",
       "    </tr>\n",
       "    <tr>\n",
       "      <th>63</th>\n",
       "      <td>NaN</td>\n",
       "      <td>NaN</td>\n",
       "      <td>0.305</td>\n",
       "    </tr>\n",
       "    <tr>\n",
       "      <th>64</th>\n",
       "      <td>NaN</td>\n",
       "      <td>NaN</td>\n",
       "      <td>0.305</td>\n",
       "    </tr>\n",
       "    <tr>\n",
       "      <th>65</th>\n",
       "      <td>NaN</td>\n",
       "      <td>NaN</td>\n",
       "      <td>0.295</td>\n",
       "    </tr>\n",
       "    <tr>\n",
       "      <th>66</th>\n",
       "      <td>NaN</td>\n",
       "      <td>NaN</td>\n",
       "      <td>0.295</td>\n",
       "    </tr>\n",
       "    <tr>\n",
       "      <th>67</th>\n",
       "      <td>NaN</td>\n",
       "      <td>NaN</td>\n",
       "      <td>0.280</td>\n",
       "    </tr>\n",
       "    <tr>\n",
       "      <th>68</th>\n",
       "      <td>NaN</td>\n",
       "      <td>NaN</td>\n",
       "      <td>0.275</td>\n",
       "    </tr>\n",
       "    <tr>\n",
       "      <th>69</th>\n",
       "      <td>NaN</td>\n",
       "      <td>NaN</td>\n",
       "      <td>0.270</td>\n",
       "    </tr>\n",
       "    <tr>\n",
       "      <th>70</th>\n",
       "      <td>NaN</td>\n",
       "      <td>NaN</td>\n",
       "      <td>0.270</td>\n",
       "    </tr>\n",
       "    <tr>\n",
       "      <th>71</th>\n",
       "      <td>NaN</td>\n",
       "      <td>NaN</td>\n",
       "      <td>0.270</td>\n",
       "    </tr>\n",
       "    <tr>\n",
       "      <th>72</th>\n",
       "      <td>NaN</td>\n",
       "      <td>NaN</td>\n",
       "      <td>0.265</td>\n",
       "    </tr>\n",
       "    <tr>\n",
       "      <th>73</th>\n",
       "      <td>NaN</td>\n",
       "      <td>NaN</td>\n",
       "      <td>0.265</td>\n",
       "    </tr>\n",
       "    <tr>\n",
       "      <th>74</th>\n",
       "      <td>NaN</td>\n",
       "      <td>NaN</td>\n",
       "      <td>0.265</td>\n",
       "    </tr>\n",
       "  </tbody>\n",
       "</table>\n",
       "<p>75 rows × 3 columns</p>\n",
       "</div>"
      ],
      "text/plain": [
       "                      Fullname ROIs short name   Feature score\n",
       "0                   bankssts L            lBKS           0.865\n",
       "1           lateraloccipital R             rLO           0.805\n",
       "2            parsopercularis L            lPOP           0.785\n",
       "3         posteriorcingulate L            lPCG           0.760\n",
       "4       lateralorbitofrontal R            rLOF           0.755\n",
       "5           superiorparietal R             rSP           0.740\n",
       "6        caudalmiddlefrontal R            rCMF           0.740\n",
       "7           inferiorparietal L             lIP           0.730\n",
       "8    caudalanteriorcingulate R            rCAC           0.720\n",
       "9                     cuneus R            rCUN           0.675\n",
       "10          inferiorparietal L             lIP           0.670\n",
       "11       caudalmiddlefrontal R            rCMF           0.655\n",
       "12                precentral L            lPRC           0.640\n",
       "13      lateralorbitofrontal L            lLOF           0.625\n",
       "14          inferiorparietal L             lIP           0.625\n",
       "15        transversetemporal R          rTRANS           0.620\n",
       "16  rostralanteriorcingulate L            lRAC           0.605\n",
       "17               paracentral L           lPARA           0.590\n",
       "18          superiortemporal R             rST           0.525\n",
       "19               frontalpole R             rFP           0.525\n",
       "20               frontalpole R             rFP           0.525\n",
       "21                entorhinal L            lENT           0.515\n",
       "22          superiortemporal L             lST           0.510\n",
       "23             supramarginal R          rSUPRA           0.500\n",
       "24        transversetemporal L          lTRANS           0.500\n",
       "25                         NaN             NaN           0.495\n",
       "26                         NaN             NaN           0.495\n",
       "27                         NaN             NaN           0.485\n",
       "28                         NaN             NaN           0.480\n",
       "29                         NaN             NaN           0.480\n",
       "..                         ...             ...             ...\n",
       "45                         NaN             NaN           0.435\n",
       "46                         NaN             NaN           0.435\n",
       "47                         NaN             NaN           0.435\n",
       "48                         NaN             NaN           0.425\n",
       "49                         NaN             NaN           0.420\n",
       "50                         NaN             NaN           0.415\n",
       "51                         NaN             NaN           0.415\n",
       "52                         NaN             NaN           0.415\n",
       "53                         NaN             NaN           0.400\n",
       "54                         NaN             NaN           0.390\n",
       "55                         NaN             NaN           0.375\n",
       "56                         NaN             NaN           0.360\n",
       "57                         NaN             NaN           0.355\n",
       "58                         NaN             NaN           0.355\n",
       "59                         NaN             NaN           0.345\n",
       "60                         NaN             NaN           0.320\n",
       "61                         NaN             NaN           0.315\n",
       "62                         NaN             NaN           0.315\n",
       "63                         NaN             NaN           0.305\n",
       "64                         NaN             NaN           0.305\n",
       "65                         NaN             NaN           0.295\n",
       "66                         NaN             NaN           0.295\n",
       "67                         NaN             NaN           0.280\n",
       "68                         NaN             NaN           0.275\n",
       "69                         NaN             NaN           0.270\n",
       "70                         NaN             NaN           0.270\n",
       "71                         NaN             NaN           0.270\n",
       "72                         NaN             NaN           0.265\n",
       "73                         NaN             NaN           0.265\n",
       "74                         NaN             NaN           0.265\n",
       "\n",
       "[75 rows x 3 columns]"
      ]
     },
     "execution_count": 46,
     "metadata": {},
     "output_type": "execute_result"
    }
   ],
   "source": [
    "nor1=75\n",
    "sc=pd.DataFrame(bb[0:nor1,0])\n",
    "sn=pd.concat([Toprois,sToprois,sc],axis=1)\n",
    "sn.columns=['Fullname','ROIs short name', ' Feature score'] # sn: score and roi\n",
    "# ddd=pd.DataFrame(bb[0:16,0],sToprois)\n",
    "sn"
   ]
  },
  {
   "cell_type": "code",
   "execution_count": 47,
   "metadata": {},
   "outputs": [
    {
     "data": {
      "text/html": [
       "<div>\n",
       "<style scoped>\n",
       "    .dataframe tbody tr th:only-of-type {\n",
       "        vertical-align: middle;\n",
       "    }\n",
       "\n",
       "    .dataframe tbody tr th {\n",
       "        vertical-align: top;\n",
       "    }\n",
       "\n",
       "    .dataframe thead th {\n",
       "        text-align: right;\n",
       "    }\n",
       "</style>\n",
       "<table border=\"1\" class=\"dataframe\">\n",
       "  <thead>\n",
       "    <tr style=\"text-align: right;\">\n",
       "      <th></th>\n",
       "      <th>0</th>\n",
       "      <th>1</th>\n",
       "      <th>2</th>\n",
       "    </tr>\n",
       "  </thead>\n",
       "  <tbody>\n",
       "    <tr>\n",
       "      <th>0</th>\n",
       "      <td>bankssts L</td>\n",
       "      <td>lBKS</td>\n",
       "      <td>0.865</td>\n",
       "    </tr>\n",
       "    <tr>\n",
       "      <th>1</th>\n",
       "      <td>lateraloccipital R</td>\n",
       "      <td>rLO</td>\n",
       "      <td>0.805</td>\n",
       "    </tr>\n",
       "    <tr>\n",
       "      <th>2</th>\n",
       "      <td>parsopercularis L</td>\n",
       "      <td>lPOP</td>\n",
       "      <td>0.785</td>\n",
       "    </tr>\n",
       "    <tr>\n",
       "      <th>3</th>\n",
       "      <td>posteriorcingulate L</td>\n",
       "      <td>lPCG</td>\n",
       "      <td>0.76</td>\n",
       "    </tr>\n",
       "    <tr>\n",
       "      <th>4</th>\n",
       "      <td>lateralorbitofrontal R</td>\n",
       "      <td>rLOF</td>\n",
       "      <td>0.755</td>\n",
       "    </tr>\n",
       "    <tr>\n",
       "      <th>5</th>\n",
       "      <td>superiorparietal R</td>\n",
       "      <td>rSP</td>\n",
       "      <td>0.74</td>\n",
       "    </tr>\n",
       "    <tr>\n",
       "      <th>6</th>\n",
       "      <td>caudalmiddlefrontal R</td>\n",
       "      <td>rCMF</td>\n",
       "      <td>0.74</td>\n",
       "    </tr>\n",
       "    <tr>\n",
       "      <th>7</th>\n",
       "      <td>inferiorparietal L</td>\n",
       "      <td>lIP</td>\n",
       "      <td>0.73</td>\n",
       "    </tr>\n",
       "    <tr>\n",
       "      <th>8</th>\n",
       "      <td>caudalanteriorcingulate R</td>\n",
       "      <td>rCAC</td>\n",
       "      <td>0.72</td>\n",
       "    </tr>\n",
       "    <tr>\n",
       "      <th>9</th>\n",
       "      <td>cuneus R</td>\n",
       "      <td>rCUN</td>\n",
       "      <td>0.675</td>\n",
       "    </tr>\n",
       "    <tr>\n",
       "      <th>10</th>\n",
       "      <td>precentral L</td>\n",
       "      <td>lPRC</td>\n",
       "      <td>0.64</td>\n",
       "    </tr>\n",
       "    <tr>\n",
       "      <th>11</th>\n",
       "      <td>lateralorbitofrontal L</td>\n",
       "      <td>lLOF</td>\n",
       "      <td>0.625</td>\n",
       "    </tr>\n",
       "    <tr>\n",
       "      <th>12</th>\n",
       "      <td>transversetemporal R</td>\n",
       "      <td>rTRANS</td>\n",
       "      <td>0.62</td>\n",
       "    </tr>\n",
       "    <tr>\n",
       "      <th>13</th>\n",
       "      <td>rostralanteriorcingulate L</td>\n",
       "      <td>lRAC</td>\n",
       "      <td>0.605</td>\n",
       "    </tr>\n",
       "    <tr>\n",
       "      <th>14</th>\n",
       "      <td>paracentral L</td>\n",
       "      <td>lPARA</td>\n",
       "      <td>0.59</td>\n",
       "    </tr>\n",
       "    <tr>\n",
       "      <th>15</th>\n",
       "      <td>superiortemporal R</td>\n",
       "      <td>rST</td>\n",
       "      <td>0.525</td>\n",
       "    </tr>\n",
       "    <tr>\n",
       "      <th>16</th>\n",
       "      <td>frontalpole R</td>\n",
       "      <td>rFP</td>\n",
       "      <td>0.525</td>\n",
       "    </tr>\n",
       "    <tr>\n",
       "      <th>17</th>\n",
       "      <td>entorhinal L</td>\n",
       "      <td>lENT</td>\n",
       "      <td>0.515</td>\n",
       "    </tr>\n",
       "    <tr>\n",
       "      <th>18</th>\n",
       "      <td>superiortemporal L</td>\n",
       "      <td>lST</td>\n",
       "      <td>0.51</td>\n",
       "    </tr>\n",
       "    <tr>\n",
       "      <th>19</th>\n",
       "      <td>supramarginal R</td>\n",
       "      <td>rSUPRA</td>\n",
       "      <td>0.5</td>\n",
       "    </tr>\n",
       "    <tr>\n",
       "      <th>20</th>\n",
       "      <td>transversetemporal L</td>\n",
       "      <td>lTRANS</td>\n",
       "      <td>0.5</td>\n",
       "    </tr>\n",
       "    <tr>\n",
       "      <th>21</th>\n",
       "      <td>NaN</td>\n",
       "      <td>NaN</td>\n",
       "      <td>0.495</td>\n",
       "    </tr>\n",
       "  </tbody>\n",
       "</table>\n",
       "</div>"
      ],
      "text/plain": [
       "                             0       1      2\n",
       "0                   bankssts L    lBKS  0.865\n",
       "1           lateraloccipital R     rLO  0.805\n",
       "2            parsopercularis L    lPOP  0.785\n",
       "3         posteriorcingulate L    lPCG   0.76\n",
       "4       lateralorbitofrontal R    rLOF  0.755\n",
       "5           superiorparietal R     rSP   0.74\n",
       "6        caudalmiddlefrontal R    rCMF   0.74\n",
       "7           inferiorparietal L     lIP   0.73\n",
       "8    caudalanteriorcingulate R    rCAC   0.72\n",
       "9                     cuneus R    rCUN  0.675\n",
       "10                precentral L    lPRC   0.64\n",
       "11      lateralorbitofrontal L    lLOF  0.625\n",
       "12        transversetemporal R  rTRANS   0.62\n",
       "13  rostralanteriorcingulate L    lRAC  0.605\n",
       "14               paracentral L   lPARA   0.59\n",
       "15          superiortemporal R     rST  0.525\n",
       "16               frontalpole R     rFP  0.525\n",
       "17                entorhinal L    lENT  0.515\n",
       "18          superiortemporal L     lST   0.51\n",
       "19             supramarginal R  rSUPRA    0.5\n",
       "20        transversetemporal L  lTRANS    0.5\n",
       "21                         NaN     NaN  0.495"
      ]
     },
     "execution_count": 47,
     "metadata": {},
     "output_type": "execute_result"
    }
   ],
   "source": [
    "allrois=sn.drop_duplicates(subset=['Fullname']) # Drop the duplicate name \n",
    "alluR=pd.DataFrame(allrois.values) #alluR is the unique ROIs\n",
    "alluR"
   ]
  },
  {
   "cell_type": "code",
   "execution_count": 48,
   "metadata": {},
   "outputs": [],
   "source": [
    "# alluR.to_csv('Induced_30_sam_rs18.csv')"
   ]
  },
  {
   "cell_type": "code",
   "execution_count": 49,
   "metadata": {},
   "outputs": [],
   "source": [
    "# wpath=\"/home/sultan/EEG/Baseline_correction/Stability_results/\"\n",
    "# dall=alluR\n",
    "# dall.to_csv(wpath+'Baseline_noise_top_rois_0.5_stability.csv')"
   ]
  },
  {
   "cell_type": "code",
   "execution_count": 50,
   "metadata": {},
   "outputs": [
    {
     "data": {
      "text/plain": [
       "272"
      ]
     },
     "execution_count": 50,
     "metadata": {},
     "output_type": "execute_result"
    }
   ],
   "source": [
    "len(clf.scores_)"
   ]
  },
  {
   "cell_type": "code",
   "execution_count": null,
   "metadata": {},
   "outputs": [],
   "source": []
  },
  {
   "cell_type": "markdown",
   "metadata": {},
   "source": [
    "# AllROIs_stability selection_score"
   ]
  },
  {
   "cell_type": "markdown",
   "metadata": {},
   "source": [
    "# Top score selected ROIs"
   ]
  },
  {
   "cell_type": "code",
   "execution_count": 51,
   "metadata": {},
   "outputs": [],
   "source": [
    "# ROIs"
   ]
  },
  {
   "cell_type": "code",
   "execution_count": 52,
   "metadata": {},
   "outputs": [
    {
     "name": "stdout",
     "output_type": "stream",
     "text": [
      "272\n",
      "109\n",
      "86\n",
      "65\n",
      "54\n",
      "25\n",
      "17\n",
      "9\n",
      "2\n",
      "[68, 52, 47, 40, 37, 21, 14, 9, 2]\n"
     ]
    }
   ],
   "source": [
    "urois=[];\n",
    "names=range(0,X.shape[1]) # Feature names used as 1-1428 features\n",
    "cn=np.asarray(names) # converted as numpy.ndarray\n",
    "# print \"Features sorted by their score:\"\n",
    "b= sorted(zip(map(lambda x: round(x, 4), clf.scores_), cn), reverse=True)\n",
    "# print b\n",
    "bb=np.asarray(b)\n",
    "for i in range(0,9):\n",
    "    rakfe=bb[bb[:,0]>=Th_2_Bins[i]]\n",
    "    # rakfe=bb[bb[:,0]>=.50]\n",
    "    ROIs=rakfe[:,1]%68\n",
    "#     print ROIs\n",
    "    print len(ROIs)\n",
    "    un= len(np.unique(ROIs));\n",
    "    urois.append(un)\n",
    "print urois "
   ]
  },
  {
   "cell_type": "code",
   "execution_count": 53,
   "metadata": {},
   "outputs": [
    {
     "name": "stdout",
     "output_type": "stream",
     "text": [
      "0.00 0.98 0.98 272\n",
      "0.10 0.97 0.97 109\n",
      "0.20 0.97 0.97 86\n",
      "0.30 0.96 0.96 65\n",
      "0.40 0.96 0.96 54\n",
      "0.50 0.93 0.93 25\n",
      "0.60 0.86 0.86 17\n",
      "0.70 0.77 0.77 9\n",
      "0.80 0.61 0.61 2\n"
     ]
    },
    {
     "data": {
      "text/html": [
       "<div>\n",
       "<style scoped>\n",
       "    .dataframe tbody tr th:only-of-type {\n",
       "        vertical-align: middle;\n",
       "    }\n",
       "\n",
       "    .dataframe tbody tr th {\n",
       "        vertical-align: top;\n",
       "    }\n",
       "\n",
       "    .dataframe thead th {\n",
       "        text-align: right;\n",
       "    }\n",
       "</style>\n",
       "<table border=\"1\" class=\"dataframe\">\n",
       "  <thead>\n",
       "    <tr style=\"text-align: right;\">\n",
       "      <th></th>\n",
       "      <th>Threshold</th>\n",
       "      <th>ACC</th>\n",
       "      <th>AUC</th>\n",
       "      <th>NoEle</th>\n",
       "      <th>UR</th>\n",
       "    </tr>\n",
       "  </thead>\n",
       "  <tbody>\n",
       "    <tr>\n",
       "      <th>0</th>\n",
       "      <td>0.000</td>\n",
       "      <td>0.976</td>\n",
       "      <td>0.976</td>\n",
       "      <td>272</td>\n",
       "      <td>68.000</td>\n",
       "    </tr>\n",
       "    <tr>\n",
       "      <th>1</th>\n",
       "      <td>0.100</td>\n",
       "      <td>0.972</td>\n",
       "      <td>0.972</td>\n",
       "      <td>109</td>\n",
       "      <td>52.000</td>\n",
       "    </tr>\n",
       "    <tr>\n",
       "      <th>2</th>\n",
       "      <td>0.200</td>\n",
       "      <td>0.969</td>\n",
       "      <td>0.969</td>\n",
       "      <td>86</td>\n",
       "      <td>47.000</td>\n",
       "    </tr>\n",
       "    <tr>\n",
       "      <th>3</th>\n",
       "      <td>0.300</td>\n",
       "      <td>0.960</td>\n",
       "      <td>0.960</td>\n",
       "      <td>65</td>\n",
       "      <td>40.000</td>\n",
       "    </tr>\n",
       "    <tr>\n",
       "      <th>4</th>\n",
       "      <td>0.400</td>\n",
       "      <td>0.957</td>\n",
       "      <td>0.957</td>\n",
       "      <td>54</td>\n",
       "      <td>37.000</td>\n",
       "    </tr>\n",
       "    <tr>\n",
       "      <th>5</th>\n",
       "      <td>0.500</td>\n",
       "      <td>0.927</td>\n",
       "      <td>0.927</td>\n",
       "      <td>25</td>\n",
       "      <td>21.000</td>\n",
       "    </tr>\n",
       "    <tr>\n",
       "      <th>6</th>\n",
       "      <td>0.600</td>\n",
       "      <td>0.865</td>\n",
       "      <td>0.865</td>\n",
       "      <td>17</td>\n",
       "      <td>14.000</td>\n",
       "    </tr>\n",
       "    <tr>\n",
       "      <th>7</th>\n",
       "      <td>0.700</td>\n",
       "      <td>0.773</td>\n",
       "      <td>0.773</td>\n",
       "      <td>9</td>\n",
       "      <td>9.000</td>\n",
       "    </tr>\n",
       "    <tr>\n",
       "      <th>8</th>\n",
       "      <td>0.800</td>\n",
       "      <td>0.606</td>\n",
       "      <td>0.606</td>\n",
       "      <td>2</td>\n",
       "      <td>2.000</td>\n",
       "    </tr>\n",
       "  </tbody>\n",
       "</table>\n",
       "</div>"
      ],
      "text/plain": [
       "  Threshold    ACC    AUC  NoEle      UR\n",
       "0     0.000  0.976  0.976    272  68.000\n",
       "1     0.100  0.972  0.972    109  52.000\n",
       "2     0.200  0.969  0.969     86  47.000\n",
       "3     0.300  0.960  0.960     65  40.000\n",
       "4     0.400  0.957  0.957     54  37.000\n",
       "5     0.500  0.927  0.927     25  21.000\n",
       "6     0.600  0.865  0.865     17  14.000\n",
       "7     0.700  0.773  0.773      9   9.000\n",
       "8     0.800  0.606  0.606      2   2.000"
      ]
     },
     "execution_count": 53,
     "metadata": {},
     "output_type": "execute_result"
    }
   ],
   "source": [
    "All_ACC=[]\n",
    "All_AUC=[]\n",
    "ALL_Bins=[]\n",
    "All_SV=[]\n",
    "All_UR=[];\n",
    "NumberofElement=[]\n",
    "for i,j,k,l,m in zip(Th_2_Bins,ACC_Th2,AUC_Th2, SV,urois):\n",
    "    Th2Index=np.squeeze(np.asarray(np.where(clf.scores_>=i)))\n",
    "#     print (\"{0:.2f}\".format(i)),(\"{0:.2f}\".format(j)),(\"{0:.2f}\".format(k)),len(Th2Index),(\"{0:.2f}\".format(l))\n",
    "#     NumberofElement.append(len(Th2Index))\n",
    "    print (\"{0:.2f}\".format(i)),(\"{0:.2f}\".format(j)),(\"{0:.2f}\".format(k)),len(Th2Index)\n",
    "    NumberofElement.append(len(Th2Index))\n",
    "    ALL_Bins.append(\"{0:.3f}\".format(i))\n",
    "    All_ACC.append(\"{0:.3f}\".format(j))\n",
    "    All_AUC.append(\"{0:.3f}\".format(k))\n",
    "    All_SV.append(\"{0:.3f}\".format(l))\n",
    "    All_UR.append(\"{0:.3f}\".format(m))\n",
    "\n",
    "# Selected_Feature_Result=pd.concat([pd.DataFrame(ALL_Bins),pd.DataFrame(All_ACC),\n",
    "#            pd.DataFrame(All_AUC),pd.DataFrame(NumberofElement),pd.DataFrame(All_SV)],axis=1)\n",
    "# Selected_Feature_Result.columns=['Threshold','ACC','AUC','NoEle','SV']\n",
    "Selected_Feature_Result=pd.concat([pd.DataFrame(ALL_Bins),pd.DataFrame(All_ACC),\n",
    "           pd.DataFrame(All_AUC),pd.DataFrame(NumberofElement),pd.DataFrame(All_UR)],axis=1)\n",
    "Selected_Feature_Result.columns=['Threshold','ACC','AUC','NoEle','UR']\n",
    "Selected_Feature_Result"
   ]
  },
  {
   "cell_type": "code",
   "execution_count": 54,
   "metadata": {},
   "outputs": [
    {
     "data": {
      "text/plain": [
       "18"
      ]
     },
     "execution_count": 54,
     "metadata": {},
     "output_type": "execute_result"
    }
   ],
   "source": [
    "rs"
   ]
  },
  {
   "cell_type": "code",
   "execution_count": 55,
   "metadata": {},
   "outputs": [],
   "source": [
    "# ss=np.asarray(np.where(clf.scores_>=0.6))\n",
    "# ss%68"
   ]
  },
  {
   "cell_type": "code",
   "execution_count": 56,
   "metadata": {},
   "outputs": [],
   "source": [
    "# wpath=\"/home/sultan/EEG/Baseline_correction/Stability_results/\"\n",
    "# dall=alluR\n",
    "# dall.to_csv(wpath+'Clear_top_rois_0.4_stability.csv')"
   ]
  },
  {
   "cell_type": "code",
   "execution_count": 57,
   "metadata": {},
   "outputs": [
    {
     "data": {
      "text/html": [
       "<div>\n",
       "<style scoped>\n",
       "    .dataframe tbody tr th:only-of-type {\n",
       "        vertical-align: middle;\n",
       "    }\n",
       "\n",
       "    .dataframe tbody tr th {\n",
       "        vertical-align: top;\n",
       "    }\n",
       "\n",
       "    .dataframe thead th {\n",
       "        text-align: right;\n",
       "    }\n",
       "</style>\n",
       "<table border=\"1\" class=\"dataframe\">\n",
       "  <thead>\n",
       "    <tr style=\"text-align: right;\">\n",
       "      <th></th>\n",
       "      <th>0</th>\n",
       "      <th>1</th>\n",
       "      <th>2</th>\n",
       "    </tr>\n",
       "  </thead>\n",
       "  <tbody>\n",
       "    <tr>\n",
       "      <th>0</th>\n",
       "      <td>bankssts L</td>\n",
       "      <td>lBKS</td>\n",
       "      <td>0.865</td>\n",
       "    </tr>\n",
       "    <tr>\n",
       "      <th>1</th>\n",
       "      <td>lateraloccipital R</td>\n",
       "      <td>rLO</td>\n",
       "      <td>0.805</td>\n",
       "    </tr>\n",
       "    <tr>\n",
       "      <th>2</th>\n",
       "      <td>parsopercularis L</td>\n",
       "      <td>lPOP</td>\n",
       "      <td>0.785</td>\n",
       "    </tr>\n",
       "    <tr>\n",
       "      <th>3</th>\n",
       "      <td>posteriorcingulate L</td>\n",
       "      <td>lPCG</td>\n",
       "      <td>0.76</td>\n",
       "    </tr>\n",
       "    <tr>\n",
       "      <th>4</th>\n",
       "      <td>lateralorbitofrontal R</td>\n",
       "      <td>rLOF</td>\n",
       "      <td>0.755</td>\n",
       "    </tr>\n",
       "    <tr>\n",
       "      <th>5</th>\n",
       "      <td>superiorparietal R</td>\n",
       "      <td>rSP</td>\n",
       "      <td>0.74</td>\n",
       "    </tr>\n",
       "    <tr>\n",
       "      <th>6</th>\n",
       "      <td>caudalmiddlefrontal R</td>\n",
       "      <td>rCMF</td>\n",
       "      <td>0.74</td>\n",
       "    </tr>\n",
       "    <tr>\n",
       "      <th>7</th>\n",
       "      <td>inferiorparietal L</td>\n",
       "      <td>lIP</td>\n",
       "      <td>0.73</td>\n",
       "    </tr>\n",
       "    <tr>\n",
       "      <th>8</th>\n",
       "      <td>caudalanteriorcingulate R</td>\n",
       "      <td>rCAC</td>\n",
       "      <td>0.72</td>\n",
       "    </tr>\n",
       "    <tr>\n",
       "      <th>9</th>\n",
       "      <td>cuneus R</td>\n",
       "      <td>rCUN</td>\n",
       "      <td>0.675</td>\n",
       "    </tr>\n",
       "    <tr>\n",
       "      <th>10</th>\n",
       "      <td>precentral L</td>\n",
       "      <td>lPRC</td>\n",
       "      <td>0.64</td>\n",
       "    </tr>\n",
       "    <tr>\n",
       "      <th>11</th>\n",
       "      <td>lateralorbitofrontal L</td>\n",
       "      <td>lLOF</td>\n",
       "      <td>0.625</td>\n",
       "    </tr>\n",
       "    <tr>\n",
       "      <th>12</th>\n",
       "      <td>transversetemporal R</td>\n",
       "      <td>rTRANS</td>\n",
       "      <td>0.62</td>\n",
       "    </tr>\n",
       "    <tr>\n",
       "      <th>13</th>\n",
       "      <td>rostralanteriorcingulate L</td>\n",
       "      <td>lRAC</td>\n",
       "      <td>0.605</td>\n",
       "    </tr>\n",
       "    <tr>\n",
       "      <th>14</th>\n",
       "      <td>paracentral L</td>\n",
       "      <td>lPARA</td>\n",
       "      <td>0.59</td>\n",
       "    </tr>\n",
       "    <tr>\n",
       "      <th>15</th>\n",
       "      <td>superiortemporal R</td>\n",
       "      <td>rST</td>\n",
       "      <td>0.525</td>\n",
       "    </tr>\n",
       "    <tr>\n",
       "      <th>16</th>\n",
       "      <td>frontalpole R</td>\n",
       "      <td>rFP</td>\n",
       "      <td>0.525</td>\n",
       "    </tr>\n",
       "    <tr>\n",
       "      <th>17</th>\n",
       "      <td>entorhinal L</td>\n",
       "      <td>lENT</td>\n",
       "      <td>0.515</td>\n",
       "    </tr>\n",
       "    <tr>\n",
       "      <th>18</th>\n",
       "      <td>superiortemporal L</td>\n",
       "      <td>lST</td>\n",
       "      <td>0.51</td>\n",
       "    </tr>\n",
       "    <tr>\n",
       "      <th>19</th>\n",
       "      <td>supramarginal R</td>\n",
       "      <td>rSUPRA</td>\n",
       "      <td>0.5</td>\n",
       "    </tr>\n",
       "    <tr>\n",
       "      <th>20</th>\n",
       "      <td>transversetemporal L</td>\n",
       "      <td>lTRANS</td>\n",
       "      <td>0.5</td>\n",
       "    </tr>\n",
       "    <tr>\n",
       "      <th>21</th>\n",
       "      <td>NaN</td>\n",
       "      <td>NaN</td>\n",
       "      <td>0.495</td>\n",
       "    </tr>\n",
       "  </tbody>\n",
       "</table>\n",
       "</div>"
      ],
      "text/plain": [
       "                             0       1      2\n",
       "0                   bankssts L    lBKS  0.865\n",
       "1           lateraloccipital R     rLO  0.805\n",
       "2            parsopercularis L    lPOP  0.785\n",
       "3         posteriorcingulate L    lPCG   0.76\n",
       "4       lateralorbitofrontal R    rLOF  0.755\n",
       "5           superiorparietal R     rSP   0.74\n",
       "6        caudalmiddlefrontal R    rCMF   0.74\n",
       "7           inferiorparietal L     lIP   0.73\n",
       "8    caudalanteriorcingulate R    rCAC   0.72\n",
       "9                     cuneus R    rCUN  0.675\n",
       "10                precentral L    lPRC   0.64\n",
       "11      lateralorbitofrontal L    lLOF  0.625\n",
       "12        transversetemporal R  rTRANS   0.62\n",
       "13  rostralanteriorcingulate L    lRAC  0.605\n",
       "14               paracentral L   lPARA   0.59\n",
       "15          superiortemporal R     rST  0.525\n",
       "16               frontalpole R     rFP  0.525\n",
       "17                entorhinal L    lENT  0.515\n",
       "18          superiortemporal L     lST   0.51\n",
       "19             supramarginal R  rSUPRA    0.5\n",
       "20        transversetemporal L  lTRANS    0.5\n",
       "21                         NaN     NaN  0.495"
      ]
     },
     "execution_count": 57,
     "metadata": {},
     "output_type": "execute_result"
    }
   ],
   "source": [
    "allrois=sn.drop_duplicates(subset=['Fullname']) # Drop the duplicate name \n",
    "alluR=pd.DataFrame(allrois.values) #alluR is the unique ROIs\n",
    "alluR"
   ]
  },
  {
   "cell_type": "code",
   "execution_count": 58,
   "metadata": {},
   "outputs": [],
   "source": [
    "# rs"
   ]
  },
  {
   "cell_type": "code",
   "execution_count": 59,
   "metadata": {},
   "outputs": [],
   "source": [
    "## Figure inside the boundary with actual ROIS"
   ]
  },
  {
   "cell_type": "code",
   "execution_count": 60,
   "metadata": {},
   "outputs": [
    {
     "data": {
      "text/plain": [
       "[68, 52, 47, 40, 37, 21, 14, 9, 2]"
      ]
     },
     "execution_count": 60,
     "metadata": {},
     "output_type": "execute_result"
    }
   ],
   "source": [
    "ur=[int(float(i)) for i in All_UR]\n",
    "ur"
   ]
  },
  {
   "cell_type": "code",
   "execution_count": 61,
   "metadata": {},
   "outputs": [
    {
     "data": {
      "image/png": "[encoded data removed]",
      "text/plain": [
       "<Figure size 576x432 with 3 Axes>"
      ]
     },
     "metadata": {
      "needs_background": "light"
     },
     "output_type": "display_data"
    },
    {
     "name": "stdout",
     "output_type": "stream",
     "text": [
      "18\n"
     ]
    },
    {
     "data": {
      "text/html": [
       "<div>\n",
       "<style scoped>\n",
       "    .dataframe tbody tr th:only-of-type {\n",
       "        vertical-align: middle;\n",
       "    }\n",
       "\n",
       "    .dataframe tbody tr th {\n",
       "        vertical-align: top;\n",
       "    }\n",
       "\n",
       "    .dataframe thead th {\n",
       "        text-align: right;\n",
       "    }\n",
       "</style>\n",
       "<table border=\"1\" class=\"dataframe\">\n",
       "  <thead>\n",
       "    <tr style=\"text-align: right;\">\n",
       "      <th></th>\n",
       "      <th>0</th>\n",
       "      <th>1</th>\n",
       "      <th>2</th>\n",
       "    </tr>\n",
       "  </thead>\n",
       "  <tbody>\n",
       "    <tr>\n",
       "      <th>0</th>\n",
       "      <td>bankssts L</td>\n",
       "      <td>lBKS</td>\n",
       "      <td>0.865</td>\n",
       "    </tr>\n",
       "    <tr>\n",
       "      <th>1</th>\n",
       "      <td>lateraloccipital R</td>\n",
       "      <td>rLO</td>\n",
       "      <td>0.805</td>\n",
       "    </tr>\n",
       "    <tr>\n",
       "      <th>2</th>\n",
       "      <td>parsopercularis L</td>\n",
       "      <td>lPOP</td>\n",
       "      <td>0.785</td>\n",
       "    </tr>\n",
       "    <tr>\n",
       "      <th>3</th>\n",
       "      <td>posteriorcingulate L</td>\n",
       "      <td>lPCG</td>\n",
       "      <td>0.76</td>\n",
       "    </tr>\n",
       "    <tr>\n",
       "      <th>4</th>\n",
       "      <td>lateralorbitofrontal R</td>\n",
       "      <td>rLOF</td>\n",
       "      <td>0.755</td>\n",
       "    </tr>\n",
       "    <tr>\n",
       "      <th>5</th>\n",
       "      <td>superiorparietal R</td>\n",
       "      <td>rSP</td>\n",
       "      <td>0.74</td>\n",
       "    </tr>\n",
       "    <tr>\n",
       "      <th>6</th>\n",
       "      <td>caudalmiddlefrontal R</td>\n",
       "      <td>rCMF</td>\n",
       "      <td>0.74</td>\n",
       "    </tr>\n",
       "    <tr>\n",
       "      <th>7</th>\n",
       "      <td>inferiorparietal L</td>\n",
       "      <td>lIP</td>\n",
       "      <td>0.73</td>\n",
       "    </tr>\n",
       "    <tr>\n",
       "      <th>8</th>\n",
       "      <td>caudalanteriorcingulate R</td>\n",
       "      <td>rCAC</td>\n",
       "      <td>0.72</td>\n",
       "    </tr>\n",
       "    <tr>\n",
       "      <th>9</th>\n",
       "      <td>cuneus R</td>\n",
       "      <td>rCUN</td>\n",
       "      <td>0.675</td>\n",
       "    </tr>\n",
       "    <tr>\n",
       "      <th>10</th>\n",
       "      <td>precentral L</td>\n",
       "      <td>lPRC</td>\n",
       "      <td>0.64</td>\n",
       "    </tr>\n",
       "    <tr>\n",
       "      <th>11</th>\n",
       "      <td>lateralorbitofrontal L</td>\n",
       "      <td>lLOF</td>\n",
       "      <td>0.625</td>\n",
       "    </tr>\n",
       "    <tr>\n",
       "      <th>12</th>\n",
       "      <td>transversetemporal R</td>\n",
       "      <td>rTRANS</td>\n",
       "      <td>0.62</td>\n",
       "    </tr>\n",
       "    <tr>\n",
       "      <th>13</th>\n",
       "      <td>rostralanteriorcingulate L</td>\n",
       "      <td>lRAC</td>\n",
       "      <td>0.605</td>\n",
       "    </tr>\n",
       "    <tr>\n",
       "      <th>14</th>\n",
       "      <td>paracentral L</td>\n",
       "      <td>lPARA</td>\n",
       "      <td>0.59</td>\n",
       "    </tr>\n",
       "    <tr>\n",
       "      <th>15</th>\n",
       "      <td>superiortemporal R</td>\n",
       "      <td>rST</td>\n",
       "      <td>0.525</td>\n",
       "    </tr>\n",
       "    <tr>\n",
       "      <th>16</th>\n",
       "      <td>frontalpole R</td>\n",
       "      <td>rFP</td>\n",
       "      <td>0.525</td>\n",
       "    </tr>\n",
       "    <tr>\n",
       "      <th>17</th>\n",
       "      <td>entorhinal L</td>\n",
       "      <td>lENT</td>\n",
       "      <td>0.515</td>\n",
       "    </tr>\n",
       "    <tr>\n",
       "      <th>18</th>\n",
       "      <td>superiortemporal L</td>\n",
       "      <td>lST</td>\n",
       "      <td>0.51</td>\n",
       "    </tr>\n",
       "    <tr>\n",
       "      <th>19</th>\n",
       "      <td>supramarginal R</td>\n",
       "      <td>rSUPRA</td>\n",
       "      <td>0.5</td>\n",
       "    </tr>\n",
       "    <tr>\n",
       "      <th>20</th>\n",
       "      <td>transversetemporal L</td>\n",
       "      <td>lTRANS</td>\n",
       "      <td>0.5</td>\n",
       "    </tr>\n",
       "    <tr>\n",
       "      <th>21</th>\n",
       "      <td>NaN</td>\n",
       "      <td>NaN</td>\n",
       "      <td>0.495</td>\n",
       "    </tr>\n",
       "  </tbody>\n",
       "</table>\n",
       "</div>"
      ],
      "text/plain": [
       "                             0       1      2\n",
       "0                   bankssts L    lBKS  0.865\n",
       "1           lateraloccipital R     rLO  0.805\n",
       "2            parsopercularis L    lPOP  0.785\n",
       "3         posteriorcingulate L    lPCG   0.76\n",
       "4       lateralorbitofrontal R    rLOF  0.755\n",
       "5           superiorparietal R     rSP   0.74\n",
       "6        caudalmiddlefrontal R    rCMF   0.74\n",
       "7           inferiorparietal L     lIP   0.73\n",
       "8    caudalanteriorcingulate R    rCAC   0.72\n",
       "9                     cuneus R    rCUN  0.675\n",
       "10                precentral L    lPRC   0.64\n",
       "11      lateralorbitofrontal L    lLOF  0.625\n",
       "12        transversetemporal R  rTRANS   0.62\n",
       "13  rostralanteriorcingulate L    lRAC  0.605\n",
       "14               paracentral L   lPARA   0.59\n",
       "15          superiortemporal R     rST  0.525\n",
       "16               frontalpole R     rFP  0.525\n",
       "17                entorhinal L    lENT  0.515\n",
       "18          superiortemporal L     lST   0.51\n",
       "19             supramarginal R  rSUPRA    0.5\n",
       "20        transversetemporal L  lTRANS    0.5\n",
       "21                         NaN     NaN  0.495"
      ]
     },
     "execution_count": 61,
     "metadata": {},
     "output_type": "execute_result"
    }
   ],
   "source": [
    "roisc=ur\n",
    "from matplotlib.ticker import FormatStrFormatter\n",
    "Th_2_Bins=np.asarray(Bins)\n",
    "data=clf.scores_\n",
    "fig, ax = plt.subplots(figsize=(8,6))\n",
    "fig.subplots_adjust(right=0.75)\n",
    "#counts, bins, patches = ax.hist(data,10 ,edgecolor='gray')\n",
    "counts, bins, patches = ax.hist(data,bins=np.round(0.1*np.arange(0,10),2),facecolor=\"None\",edgecolor='blue', lw=1)\n",
    "# Set the ticks to be at the edges of the bins.\n",
    "ax.set_xticks(bins)\n",
    "# Set the xaxis's tick labels to be formatted with 1 decimal place...\n",
    "ax.xaxis.set_major_formatter(FormatStrFormatter('%0.1f'))\n",
    "for tick in ax.xaxis.get_major_ticks():\n",
    "                tick.label.set_fontsize(14) \n",
    "bin_centers = 0.5 * np.diff(bins) + bins[:-1]\n",
    "\n",
    "#show % value\n",
    "for count, x,rois in zip(counts, bin_centers,roisc):\n",
    "    # Label the raw counts\n",
    "    ax.annotate(int(count), xy=(x, 0), xycoords=('data', 'axes fraction'),\n",
    "        xytext=(0, -20), fontsize=14,textcoords='offset points', va='top', ha='center')\n",
    "\n",
    "    # Label the percentages\n",
    "    percent = '%0.0f%%' % (100 * float(count) / counts.sum())\n",
    "    ax.annotate(percent, xy=(x, 0), xycoords=('data', 'axes fraction'),\n",
    "        xytext=(0, -40), fontsize=14,textcoords='offset points', va='top', ha='center')\n",
    "    # ROIs\n",
    "    ax.annotate(rois, xy=(x, 0), xycoords=('data', 'axes fraction'),\n",
    "    xytext=(0, -60),fontsize=14, textcoords='offset points', va='top', ha='center')\n",
    "    \n",
    "    # Give ourselves some more room at the bottom of the plot\n",
    "\n",
    "ax2 = ax.twinx()\n",
    "ax2.plot(Th_2_Bins,AUC_Th2, color='red',ls='dashed',alpha=0.5)#,THbin,CCC_Per)\n",
    "ax2.set_frame_on(False)\n",
    "ax2.set_ylabel('AUC', color='red',fontsize=17)\n",
    "ax2.patch.set_visible(False)\n",
    "for i,j in zip(Th_2_Bins,AUC_Th2):\n",
    "    #ax2.annotate((\"%.2f\" % j),xy=(i+0.04,j-0.01), color ='red') ##############################\n",
    "    ax2.annotate((\"%.3f\" % j),xy=(i,j-0.012), color ='red',fontsize=12) ##############################\n",
    "    ax2.plot(i,j, marker='o', markersize=7, color=\"red\")\n",
    "\n",
    "    \n",
    "ax3 = ax.twinx()\n",
    "ax3.plot(Th_2_Bins,ACC_Th2, color='black')#,THbin,CCC_Per)\n",
    "ax3.set_frame_on(False)\n",
    "ax3.set_ylabel('Accuracy', color='black',fontsize=17)\n",
    "\n",
    "\n",
    "\n",
    "for i,j in zip(Th_2_Bins,ACC_Th2):\n",
    "     #ax3.annotate((\"%0.2f\" % j),xy=(i-0.05,j), color='black')\n",
    "    #ax3.annotate((\"%0.2f\" % j),xy=(i-0.1,j), color='black')##################################\n",
    "    ax3.annotate((\"%0.3f\" % j),xy=(i,j+0.002), color='black',fontsize=12)##################################\n",
    "    ax3.plot(i,j, marker='*', markersize=10, color=\"black\",alpha=0.5)\n",
    "    #ax3.annotate((\"%0.2f,%0.2f\" % (i,j)),xy=(i-0.05,j), color='green')\n",
    "    #ax3.annotate((\"%0.3f\" %j),xy=(i,j), color='green')\n",
    "    \n",
    "    \n",
    "# Move the last y-axis spine over to the right by 20% of the width of the axes\n",
    "ax3.spines['right'].set_position(('axes', 1.15))\n",
    "ax3.spines['right'].set_visible(True)\n",
    "\n",
    "# To make the border of the right-most axis visible, we need to turn the frame\n",
    "# on. This hides the other plots, however, so we need to turn its fill off.\n",
    "ax3.set_frame_on(True)\n",
    "ax3.patch.set_visible(False)\n",
    "\n",
    "#ax.plot(bins,np.linspace(0,1,11))\n",
    "plt.subplots_adjust(bottom=.15)\n",
    "plt.grid(False,which='both')\n",
    "ax.set_ylabel('Frequency',fontsize=17)\n",
    "ax.yaxis.label.set_color('Blue')\n",
    "# plt.title(\"Induced\", fontsize=20)\n",
    "plt.title(\"Induced_\"+str(rs), fontsize=17)\n",
    "plt.tight_layout()\n",
    "# #Save the image\n",
    "for tick in ax.yaxis.get_major_ticks():\n",
    "                tick.label.set_fontsize(12)\n",
    "filename='StabilitySelection_clear'\n",
    "save_format='png'\n",
    "#print filename+'.'+save_format\n",
    "#pp='home/ralfahad/Pictures'\n",
    "#plt.savefig(filename+'.'+save_format,dpi=100)\n",
    "# plt.savefig(filename+'.'+save_format,dpi=300, bbox_inches='tight')\n",
    "plt.show()\n",
    "print (rs)\n",
    "alluR"
   ]
  },
  {
   "cell_type": "markdown",
   "metadata": {},
   "source": [
    "## The enddddddddddddddddddddddddddddddddddddddd"
   ]
  },
  {
   "cell_type": "code",
   "execution_count": 62,
   "metadata": {},
   "outputs": [
    {
     "data": {
      "text/plain": [
       "18"
      ]
     },
     "execution_count": 62,
     "metadata": {},
     "output_type": "execute_result"
    }
   ],
   "source": [
    "rs"
   ]
  },
  {
   "cell_type": "markdown",
   "metadata": {},
   "source": [
    "## For finding the selected ROIs"
   ]
  },
  {
   "cell_type": "code",
   "execution_count": 63,
   "metadata": {},
   "outputs": [
    {
     "name": "stdout",
     "output_type": "stream",
     "text": [
      "('Actual index:', array([ 68., 227.,  36.,  46., 229., 263., 209.,  82.,   3., 211., 150.,\n",
      "       141., 116., 228., 218., 203., 188.]))\n",
      "[ 0. 23. 36. 46. 25. 59.  5. 14.  3.  7. 14.  5. 48. 24. 14. 67. 52.]\n",
      "('Features:', 17)\n",
      "('uniq ROI:', 14)\n"
     ]
    }
   ],
   "source": [
    "# Rank the Features according to the importance\n",
    "names=range(0,X.shape[1]) # Feature names used as 1-1428 features\n",
    "cn=np.asarray(names) # converted as numpy.ndarray\n",
    "# print \"Features sorted by their score:\"\n",
    "b= sorted(zip(map(lambda x: round(x, 4), clf.scores_), cn), reverse=True)\n",
    "# print b\n",
    "bb=np.asarray(b)\n",
    "rakfe=bb[bb[:,0]>=Th_2_Bins[6]]\n",
    "# rakfe=bb[bb[:,0]>=.50]\n",
    "ranksl=rakfe[:,1]; #This is the actual index of the sorted data\n",
    "ROIs=rakfe[:,1]%68\n",
    "print(\"Actual index:\",ranksl)\n",
    "print ROIs\n",
    "print ('Features:',len(ROIs))\n",
    "print ('uniq ROI:',len(np.unique(ROIs)))"
   ]
  },
  {
   "cell_type": "code",
   "execution_count": 64,
   "metadata": {},
   "outputs": [
    {
     "name": "stdout",
     "output_type": "stream",
     "text": [
      "(0.0, (array([0]),))\n",
      "(23.0, (array([1]),))\n",
      "(36.0, (array([2]),))\n",
      "(46.0, (array([3]),))\n",
      "(25.0, (array([4]),))\n",
      "(59.0, (array([5]),))\n",
      "(5.0, (array([ 6, 11]),))\n",
      "(14.0, (array([ 7, 10, 14]),))\n",
      "(3.0, (array([8]),))\n",
      "(7.0, (array([9]),))\n",
      "(14.0, (array([ 7, 10, 14]),))\n",
      "(5.0, (array([ 6, 11]),))\n",
      "(48.0, (array([12]),))\n",
      "(24.0, (array([13]),))\n",
      "(14.0, (array([ 7, 10, 14]),))\n",
      "(67.0, (array([15]),))\n",
      "(52.0, (array([16]),))\n"
     ]
    }
   ],
   "source": [
    "for i in ROIs:\n",
    "    print (i,np.where(ROIs==i)) "
   ]
  },
  {
   "cell_type": "markdown",
   "metadata": {},
   "source": [
    "## Delete the repeated ROIs and find the unique ROIs"
   ]
  },
  {
   "cell_type": "code",
   "execution_count": 65,
   "metadata": {},
   "outputs": [
    {
     "data": {
      "text/plain": [
       "array([ 68., 227.,  36.,  46., 229., 263., 209.,  82.,   3., 211., 116.,\n",
       "       228., 203., 188.])"
      ]
     },
     "execution_count": 65,
     "metadata": {},
     "output_type": "execute_result"
    }
   ],
   "source": [
    "unqorg1=ranksl\n",
    "unr_ss=np.delete(unqorg1,[10,11,14])\n",
    "unr_ss"
   ]
  },
  {
   "cell_type": "code",
   "execution_count": 66,
   "metadata": {},
   "outputs": [
    {
     "data": {
      "text/html": [
       "<div>\n",
       "<style scoped>\n",
       "    .dataframe tbody tr th:only-of-type {\n",
       "        vertical-align: middle;\n",
       "    }\n",
       "\n",
       "    .dataframe tbody tr th {\n",
       "        vertical-align: top;\n",
       "    }\n",
       "\n",
       "    .dataframe thead th {\n",
       "        text-align: right;\n",
       "    }\n",
       "</style>\n",
       "<table border=\"1\" class=\"dataframe\">\n",
       "  <thead>\n",
       "    <tr style=\"text-align: right;\">\n",
       "      <th></th>\n",
       "      <th>0</th>\n",
       "    </tr>\n",
       "  </thead>\n",
       "  <tbody>\n",
       "    <tr>\n",
       "      <th>0</th>\n",
       "      <td>bankssts L</td>\n",
       "    </tr>\n",
       "    <tr>\n",
       "      <th>1</th>\n",
       "      <td>lateraloccipital R</td>\n",
       "    </tr>\n",
       "    <tr>\n",
       "      <th>2</th>\n",
       "      <td>parsopercularis L</td>\n",
       "    </tr>\n",
       "    <tr>\n",
       "      <th>3</th>\n",
       "      <td>posteriorcingulate L</td>\n",
       "    </tr>\n",
       "    <tr>\n",
       "      <th>4</th>\n",
       "      <td>lateralorbitofrontal R</td>\n",
       "    </tr>\n",
       "    <tr>\n",
       "      <th>5</th>\n",
       "      <td>superiorparietal R</td>\n",
       "    </tr>\n",
       "    <tr>\n",
       "      <th>6</th>\n",
       "      <td>caudalmiddlefrontal R</td>\n",
       "    </tr>\n",
       "    <tr>\n",
       "      <th>7</th>\n",
       "      <td>inferiorparietal L</td>\n",
       "    </tr>\n",
       "    <tr>\n",
       "      <th>8</th>\n",
       "      <td>caudalanteriorcingulate R</td>\n",
       "    </tr>\n",
       "    <tr>\n",
       "      <th>9</th>\n",
       "      <td>cuneus R</td>\n",
       "    </tr>\n",
       "    <tr>\n",
       "      <th>10</th>\n",
       "      <td>precentral L</td>\n",
       "    </tr>\n",
       "    <tr>\n",
       "      <th>11</th>\n",
       "      <td>lateralorbitofrontal L</td>\n",
       "    </tr>\n",
       "    <tr>\n",
       "      <th>12</th>\n",
       "      <td>transversetemporal R</td>\n",
       "    </tr>\n",
       "    <tr>\n",
       "      <th>13</th>\n",
       "      <td>rostralanteriorcingulate L</td>\n",
       "    </tr>\n",
       "  </tbody>\n",
       "</table>\n",
       "</div>"
      ],
      "text/plain": [
       "                             0\n",
       "0                   bankssts L\n",
       "1           lateraloccipital R\n",
       "2            parsopercularis L\n",
       "3         posteriorcingulate L\n",
       "4       lateralorbitofrontal R\n",
       "5           superiorparietal R\n",
       "6        caudalmiddlefrontal R\n",
       "7           inferiorparietal L\n",
       "8    caudalanteriorcingulate R\n",
       "9                     cuneus R\n",
       "10                precentral L\n",
       "11      lateralorbitofrontal L\n",
       "12        transversetemporal R\n",
       "13  rostralanteriorcingulate L"
      ]
     },
     "execution_count": 66,
     "metadata": {},
     "output_type": "execute_result"
    }
   ],
   "source": [
    "ROIs=unr_ss%68\n",
    "rss=dkfull[ROIs]\n",
    "pd.DataFrame(rss.values)"
   ]
  },
  {
   "cell_type": "code",
   "execution_count": 67,
   "metadata": {},
   "outputs": [
    {
     "data": {
      "text/plain": [
       "14"
      ]
     },
     "execution_count": 67,
     "metadata": {},
     "output_type": "execute_result"
    }
   ],
   "source": [
    "len(ROIs)"
   ]
  },
  {
   "cell_type": "code",
   "execution_count": 68,
   "metadata": {},
   "outputs": [],
   "source": [
    "# len(ranksl[np.where(ranksl>68*3-1)])"
   ]
  },
  {
   "cell_type": "code",
   "execution_count": 69,
   "metadata": {},
   "outputs": [
    {
     "name": "stdout",
     "output_type": "stream",
     "text": [
      "('acctual:', array([227., 229., 263., 209., 211., 141.]))\n",
      "[23. 25. 59.  5.  7.  5.]\n"
     ]
    }
   ],
   "source": [
    "# [ranksl>68]\n",
    "rrs=ranksl[np.where(unr_ss>68*3-1)]\n",
    "# len(ranksl[np.where(ranksl<((68*1-1) and (68*2-1)))])\n",
    "roisf=rrs%68\n",
    "print ('acctual:',rrs)\n",
    "print (roisf)"
   ]
  },
  {
   "cell_type": "code",
   "execution_count": 70,
   "metadata": {},
   "outputs": [],
   "source": [
    "# r=np.arange(0,16)\n",
    "# # r[r>(5 and 8)]"
   ]
  },
  {
   "cell_type": "code",
   "execution_count": 71,
   "metadata": {},
   "outputs": [
    {
     "name": "stdout",
     "output_type": "stream",
     "text": [
      "23.0        lateraloccipital R\n",
      "25.0    lateralorbitofrontal R\n",
      "59.0        superiorparietal R\n",
      "5.0      caudalmiddlefrontal R\n",
      "7.0                   cuneus R\n",
      "5.0      caudalmiddlefrontal R\n",
      "Name: BrainMesh_ICBM152.nv, dtype: object\n"
     ]
    }
   ],
   "source": [
    "dk1=dkfull[roisf]\n",
    "print dk1.head(10)\n",
    "dk11=pd.DataFrame(dk1)"
   ]
  },
  {
   "cell_type": "code",
   "execution_count": 72,
   "metadata": {},
   "outputs": [],
   "source": [
    "# alluR"
   ]
  },
  {
   "cell_type": "code",
   "execution_count": 73,
   "metadata": {},
   "outputs": [],
   "source": [
    "# reg=68\n",
    "# r=np.arange(0,68*4)\n",
    "# the=r[r<=reg*1-1]\n",
    "# alp=r[np.bitwise_and(r>reg*1-1,r<=reg*2-1)]\n",
    "# bet=r[np.bitwise_and(r>reg*2-1,r<=reg*3-1)]\n",
    "# gam=r[r>=reg*3]\n",
    "# print (the,alp,bet,gam)\n",
    "# # r[np.bitwise_and(r>12,r<12)]\n",
    "# # r[r>(5 and 8)]"
   ]
  },
  {
   "cell_type": "code",
   "execution_count": 74,
   "metadata": {},
   "outputs": [],
   "source": [
    "# unr_ss is the unique ROIs\n",
    "r=unr_ss"
   ]
  },
  {
   "cell_type": "code",
   "execution_count": 75,
   "metadata": {},
   "outputs": [
    {
     "name": "stdout",
     "output_type": "stream",
     "text": [
      "(array([36., 46.,  3.]), array([ 68.,  82., 116.]), array([203., 188.]), array([227., 229., 263., 209., 211., 228.]))\n",
      "(3, 3, 2, 6)\n"
     ]
    }
   ],
   "source": [
    "reg=68\n",
    "# r=np.arange(0,68*4)\n",
    "the=r[r<=reg*1-1]\n",
    "alp=r[np.bitwise_and(r>reg*1-1,r<=reg*2-1)]\n",
    "bet=r[np.bitwise_and(r>reg*2-1,r<=reg*3-1)]\n",
    "gam=r[r>=reg*3]\n",
    "print (the,alp,bet,gam)\n",
    "# print (len(the%68),len(alp%68),len(bet),len(gam))\n",
    "print (len(the),len(alp),len(bet),len(gam))\n",
    "# r[np.bitwise_and(r>12,r<12)]\n",
    "# r[r>(5 and 8)]"
   ]
  },
  {
   "cell_type": "code",
   "execution_count": 76,
   "metadata": {},
   "outputs": [
    {
     "name": "stdout",
     "output_type": "stream",
     "text": [
      "(36.0            parsopercularis L\n",
      "46.0         posteriorcingulate L\n",
      "3.0     caudalanteriorcingulate R\n",
      "Name: BrainMesh_ICBM152.nv, dtype: object, 0.0             bankssts L\n",
      "14.0    inferiorparietal L\n",
      "48.0          precentral L\n",
      "Name: BrainMesh_ICBM152.nv, dtype: object, 67.0          transversetemporal R\n",
      "52.0    rostralanteriorcingulate L\n",
      "Name: BrainMesh_ICBM152.nv, dtype: object, 23.0        lateraloccipital R\n",
      "25.0    lateralorbitofrontal R\n",
      "59.0        superiorparietal R\n",
      "5.0      caudalmiddlefrontal R\n",
      "7.0                   cuneus R\n",
      "24.0    lateralorbitofrontal L\n",
      "Name: BrainMesh_ICBM152.nv, dtype: object)\n"
     ]
    }
   ],
   "source": [
    "print (dkfull[the%68], dkfull[alp%68], dkfull[bet%68] ,dkfull[gam%68])"
   ]
  },
  {
   "cell_type": "code",
   "execution_count": 77,
   "metadata": {},
   "outputs": [
    {
     "data": {
      "text/html": [
       "<div>\n",
       "<style scoped>\n",
       "    .dataframe tbody tr th:only-of-type {\n",
       "        vertical-align: middle;\n",
       "    }\n",
       "\n",
       "    .dataframe tbody tr th {\n",
       "        vertical-align: top;\n",
       "    }\n",
       "\n",
       "    .dataframe thead th {\n",
       "        text-align: right;\n",
       "    }\n",
       "</style>\n",
       "<table border=\"1\" class=\"dataframe\">\n",
       "  <thead>\n",
       "    <tr style=\"text-align: right;\">\n",
       "      <th></th>\n",
       "      <th>0</th>\n",
       "      <th>1</th>\n",
       "      <th>2</th>\n",
       "    </tr>\n",
       "  </thead>\n",
       "  <tbody>\n",
       "    <tr>\n",
       "      <th>0</th>\n",
       "      <td>bankssts L</td>\n",
       "      <td>lBKS</td>\n",
       "      <td>0.865</td>\n",
       "    </tr>\n",
       "    <tr>\n",
       "      <th>1</th>\n",
       "      <td>lateraloccipital R</td>\n",
       "      <td>rLO</td>\n",
       "      <td>0.805</td>\n",
       "    </tr>\n",
       "    <tr>\n",
       "      <th>2</th>\n",
       "      <td>parsopercularis L</td>\n",
       "      <td>lPOP</td>\n",
       "      <td>0.785</td>\n",
       "    </tr>\n",
       "    <tr>\n",
       "      <th>3</th>\n",
       "      <td>posteriorcingulate L</td>\n",
       "      <td>lPCG</td>\n",
       "      <td>0.76</td>\n",
       "    </tr>\n",
       "    <tr>\n",
       "      <th>4</th>\n",
       "      <td>lateralorbitofrontal R</td>\n",
       "      <td>rLOF</td>\n",
       "      <td>0.755</td>\n",
       "    </tr>\n",
       "    <tr>\n",
       "      <th>5</th>\n",
       "      <td>superiorparietal R</td>\n",
       "      <td>rSP</td>\n",
       "      <td>0.74</td>\n",
       "    </tr>\n",
       "    <tr>\n",
       "      <th>6</th>\n",
       "      <td>caudalmiddlefrontal R</td>\n",
       "      <td>rCMF</td>\n",
       "      <td>0.74</td>\n",
       "    </tr>\n",
       "    <tr>\n",
       "      <th>7</th>\n",
       "      <td>inferiorparietal L</td>\n",
       "      <td>lIP</td>\n",
       "      <td>0.73</td>\n",
       "    </tr>\n",
       "    <tr>\n",
       "      <th>8</th>\n",
       "      <td>caudalanteriorcingulate R</td>\n",
       "      <td>rCAC</td>\n",
       "      <td>0.72</td>\n",
       "    </tr>\n",
       "    <tr>\n",
       "      <th>9</th>\n",
       "      <td>cuneus R</td>\n",
       "      <td>rCUN</td>\n",
       "      <td>0.675</td>\n",
       "    </tr>\n",
       "    <tr>\n",
       "      <th>10</th>\n",
       "      <td>precentral L</td>\n",
       "      <td>lPRC</td>\n",
       "      <td>0.64</td>\n",
       "    </tr>\n",
       "    <tr>\n",
       "      <th>11</th>\n",
       "      <td>lateralorbitofrontal L</td>\n",
       "      <td>lLOF</td>\n",
       "      <td>0.625</td>\n",
       "    </tr>\n",
       "    <tr>\n",
       "      <th>12</th>\n",
       "      <td>transversetemporal R</td>\n",
       "      <td>rTRANS</td>\n",
       "      <td>0.62</td>\n",
       "    </tr>\n",
       "    <tr>\n",
       "      <th>13</th>\n",
       "      <td>rostralanteriorcingulate L</td>\n",
       "      <td>lRAC</td>\n",
       "      <td>0.605</td>\n",
       "    </tr>\n",
       "  </tbody>\n",
       "</table>\n",
       "</div>"
      ],
      "text/plain": [
       "                             0       1      2\n",
       "0                   bankssts L    lBKS  0.865\n",
       "1           lateraloccipital R     rLO  0.805\n",
       "2            parsopercularis L    lPOP  0.785\n",
       "3         posteriorcingulate L    lPCG   0.76\n",
       "4       lateralorbitofrontal R    rLOF  0.755\n",
       "5           superiorparietal R     rSP   0.74\n",
       "6        caudalmiddlefrontal R    rCMF   0.74\n",
       "7           inferiorparietal L     lIP   0.73\n",
       "8    caudalanteriorcingulate R    rCAC   0.72\n",
       "9                     cuneus R    rCUN  0.675\n",
       "10                precentral L    lPRC   0.64\n",
       "11      lateralorbitofrontal L    lLOF  0.625\n",
       "12        transversetemporal R  rTRANS   0.62\n",
       "13  rostralanteriorcingulate L    lRAC  0.605"
      ]
     },
     "execution_count": 77,
     "metadata": {},
     "output_type": "execute_result"
    }
   ],
   "source": [
    "# sn.iloc[0:17,:]\n",
    "alluR.iloc[0:14,:]"
   ]
  },
  {
   "cell_type": "markdown",
   "metadata": {},
   "source": [
    "## Behavioral analysisstart from here"
   ]
  },
  {
   "cell_type": "code",
   "execution_count": 78,
   "metadata": {},
   "outputs": [],
   "source": [
    "from scipy.stats import pearsonr\n",
    "from scipy.stats import spearmanr\n",
    "import statsmodels.api as sm"
   ]
  },
  {
   "cell_type": "code",
   "execution_count": 79,
   "metadata": {},
   "outputs": [
    {
     "data": {
      "text/html": [
       "<div>\n",
       "<style scoped>\n",
       "    .dataframe tbody tr th:only-of-type {\n",
       "        vertical-align: middle;\n",
       "    }\n",
       "\n",
       "    .dataframe tbody tr th {\n",
       "        vertical-align: top;\n",
       "    }\n",
       "\n",
       "    .dataframe thead th {\n",
       "        text-align: right;\n",
       "    }\n",
       "</style>\n",
       "<table border=\"1\" class=\"dataframe\">\n",
       "  <thead>\n",
       "    <tr style=\"text-align: right;\">\n",
       "      <th></th>\n",
       "      <th>0</th>\n",
       "      <th>1</th>\n",
       "      <th>2</th>\n",
       "      <th>3</th>\n",
       "      <th>4</th>\n",
       "      <th>5</th>\n",
       "      <th>6</th>\n",
       "      <th>7</th>\n",
       "      <th>8</th>\n",
       "      <th>9</th>\n",
       "      <th>...</th>\n",
       "      <th>263</th>\n",
       "      <th>264</th>\n",
       "      <th>265</th>\n",
       "      <th>266</th>\n",
       "      <th>267</th>\n",
       "      <th>268</th>\n",
       "      <th>269</th>\n",
       "      <th>270</th>\n",
       "      <th>271</th>\n",
       "      <th>272</th>\n",
       "    </tr>\n",
       "  </thead>\n",
       "  <tbody>\n",
       "    <tr>\n",
       "      <th>0</th>\n",
       "      <td>3.497053</td>\n",
       "      <td>2.616760e-10</td>\n",
       "      <td>2.332298e-10</td>\n",
       "      <td>4.943851e-10</td>\n",
       "      <td>5.813167e-10</td>\n",
       "      <td>1.145732e-10</td>\n",
       "      <td>8.177037e-10</td>\n",
       "      <td>1.731854e-10</td>\n",
       "      <td>1.809210e-10</td>\n",
       "      <td>9.220449e-10</td>\n",
       "      <td>...</td>\n",
       "      <td>1.278519e-11</td>\n",
       "      <td>2.486241e-11</td>\n",
       "      <td>1.001228e-10</td>\n",
       "      <td>1.389097e-10</td>\n",
       "      <td>2.852974e-11</td>\n",
       "      <td>6.205560e-11</td>\n",
       "      <td>2.436889e-10</td>\n",
       "      <td>2.566658e-10</td>\n",
       "      <td>9.647540e-11</td>\n",
       "      <td>1.362878e-10</td>\n",
       "    </tr>\n",
       "    <tr>\n",
       "      <th>1</th>\n",
       "      <td>3.734621</td>\n",
       "      <td>6.011649e-10</td>\n",
       "      <td>1.466887e-09</td>\n",
       "      <td>8.015002e-10</td>\n",
       "      <td>8.911338e-10</td>\n",
       "      <td>6.554139e-10</td>\n",
       "      <td>9.983100e-10</td>\n",
       "      <td>6.079106e-10</td>\n",
       "      <td>4.024843e-10</td>\n",
       "      <td>3.828943e-09</td>\n",
       "      <td>...</td>\n",
       "      <td>2.468937e-11</td>\n",
       "      <td>3.618688e-11</td>\n",
       "      <td>2.099646e-10</td>\n",
       "      <td>4.205829e-10</td>\n",
       "      <td>4.166388e-11</td>\n",
       "      <td>1.262459e-10</td>\n",
       "      <td>6.648568e-10</td>\n",
       "      <td>9.725904e-10</td>\n",
       "      <td>2.518486e-10</td>\n",
       "      <td>3.766805e-10</td>\n",
       "    </tr>\n",
       "    <tr>\n",
       "      <th>2</th>\n",
       "      <td>2.866396</td>\n",
       "      <td>9.976802e-10</td>\n",
       "      <td>1.075942e-09</td>\n",
       "      <td>7.459019e-10</td>\n",
       "      <td>8.260322e-10</td>\n",
       "      <td>3.288374e-10</td>\n",
       "      <td>4.210073e-10</td>\n",
       "      <td>8.669916e-10</td>\n",
       "      <td>7.745771e-10</td>\n",
       "      <td>2.123558e-09</td>\n",
       "      <td>...</td>\n",
       "      <td>1.339596e-10</td>\n",
       "      <td>1.774123e-10</td>\n",
       "      <td>1.664857e-10</td>\n",
       "      <td>2.772665e-10</td>\n",
       "      <td>1.186471e-10</td>\n",
       "      <td>6.444655e-11</td>\n",
       "      <td>4.502527e-10</td>\n",
       "      <td>3.949738e-10</td>\n",
       "      <td>1.235222e-10</td>\n",
       "      <td>1.992414e-10</td>\n",
       "    </tr>\n",
       "  </tbody>\n",
       "</table>\n",
       "<p>3 rows × 273 columns</p>\n",
       "</div>"
      ],
      "text/plain": [
       "          0             1             2             3             4  \\\n",
       "0  3.497053  2.616760e-10  2.332298e-10  4.943851e-10  5.813167e-10   \n",
       "1  3.734621  6.011649e-10  1.466887e-09  8.015002e-10  8.911338e-10   \n",
       "2  2.866396  9.976802e-10  1.075942e-09  7.459019e-10  8.260322e-10   \n",
       "\n",
       "              5             6             7             8             9  \\\n",
       "0  1.145732e-10  8.177037e-10  1.731854e-10  1.809210e-10  9.220449e-10   \n",
       "1  6.554139e-10  9.983100e-10  6.079106e-10  4.024843e-10  3.828943e-09   \n",
       "2  3.288374e-10  4.210073e-10  8.669916e-10  7.745771e-10  2.123558e-09   \n",
       "\n",
       "       ...                263           264           265           266  \\\n",
       "0      ...       1.278519e-11  2.486241e-11  1.001228e-10  1.389097e-10   \n",
       "1      ...       2.468937e-11  3.618688e-11  2.099646e-10  4.205829e-10   \n",
       "2      ...       1.339596e-10  1.774123e-10  1.664857e-10  2.772665e-10   \n",
       "\n",
       "            267           268           269           270           271  \\\n",
       "0  2.852974e-11  6.205560e-11  2.436889e-10  2.566658e-10  9.647540e-11   \n",
       "1  4.166388e-11  1.262459e-10  6.648568e-10  9.725904e-10  2.518486e-10   \n",
       "2  1.186471e-10  6.444655e-11  4.502527e-10  3.949738e-10  1.235222e-10   \n",
       "\n",
       "            272  \n",
       "0  1.362878e-10  \n",
       "1  3.766805e-10  \n",
       "2  1.992414e-10  \n",
       "\n",
       "[3 rows x 273 columns]"
      ]
     },
     "execution_count": 79,
     "metadata": {},
     "output_type": "execute_result"
    }
   ],
   "source": [
    "dbeh_path=\"/home/sultan/EEG_CP/WAVELET_SPECTROGRAM/Behavioral_Analysis_Evk_Ind/ind_spectral_beh_allfreq_ex_S16_25.csv\"\n",
    "# dpath=\"/home/sultan/EEG_CP/Behavioral_Analysis/Fianl_raw_erp_beh_data.csv\"\n",
    "# dpath=\"/home/sultan/EEG_CP/Behavioral_Analysis/Fianl_erp_beh_data1.csv\"\n",
    "data= pd.read_csv(dbeh_path)\n",
    "corel=data.corr(method='pearson')\n",
    "data.head(3)"
   ]
  },
  {
   "cell_type": "code",
   "execution_count": 80,
   "metadata": {},
   "outputs": [
    {
     "data": {
      "text/plain": [
       "0    3.497053\n",
       "1    3.734621\n",
       "Name: 0, dtype: float64"
      ]
     },
     "execution_count": 80,
     "metadata": {},
     "output_type": "execute_result"
    }
   ],
   "source": [
    "rrc=data.iloc[:,0]\n",
    "# rrc=data.iloc[:,ranksl+1]\n",
    "rrc.head(2)"
   ]
  },
  {
   "cell_type": "code",
   "execution_count": 81,
   "metadata": {},
   "outputs": [
    {
     "data": {
      "text/plain": [
       "'0'"
      ]
     },
     "execution_count": 81,
     "metadata": {},
     "output_type": "execute_result"
    }
   ],
   "source": [
    "min(data)"
   ]
  },
  {
   "cell_type": "code",
   "execution_count": 82,
   "metadata": {},
   "outputs": [],
   "source": [
    "# dk1=dkfull[roisf]"
   ]
  },
  {
   "cell_type": "code",
   "execution_count": 83,
   "metadata": {},
   "outputs": [],
   "source": [
    "# dkfull[gam%68]"
   ]
  },
  {
   "cell_type": "code",
   "execution_count": 84,
   "metadata": {},
   "outputs": [],
   "source": [
    "# dk_ss=dkfull[ROIs]\n",
    "# dk_ss"
   ]
  },
  {
   "cell_type": "code",
   "execution_count": 85,
   "metadata": {},
   "outputs": [],
   "source": [
    "# dk_ss1=dkfull[(ranksl)%68]\n",
    "# dk_ss1"
   ]
  },
  {
   "cell_type": "code",
   "execution_count": 86,
   "metadata": {},
   "outputs": [
    {
     "data": {
      "text/plain": [
       "(48, 15)"
      ]
     },
     "execution_count": 86,
     "metadata": {},
     "output_type": "execute_result"
    }
   ],
   "source": [
    "beh_roi_sc=np.append(0,unr_ss+1)\n",
    "data_beh_roisc=data.iloc[:,beh_roi_sc]\n",
    "data_beh_roisc.shape"
   ]
  },
  {
   "cell_type": "code",
   "execution_count": 87,
   "metadata": {},
   "outputs": [],
   "source": [
    "# dk_ss=dkfull[ROIs]\n",
    "# list(dk_ss)"
   ]
  },
  {
   "cell_type": "markdown",
   "metadata": {},
   "source": [
    "### ROIs and Slope label adding"
   ]
  },
  {
   "cell_type": "code",
   "execution_count": 88,
   "metadata": {},
   "outputs": [
    {
     "data": {
      "text/plain": [
       "['Beha. slope',\n",
       " '       bankssts L',\n",
       " 'lateraloccipital R',\n",
       " 'parsopercularis L',\n",
       " 'posteriorcingulate L',\n",
       " 'lateralorbitofrontal R',\n",
       " 'superiorparietal R',\n",
       " 'caudalmiddlefrontal R',\n",
       " 'inferiorparietal L',\n",
       " 'caudalanteriorcingulate R',\n",
       " '         cuneus R',\n",
       " '     precentral L',\n",
       " 'lateralorbitofrontal L',\n",
       " 'transversetemporal R',\n",
       " 'rostralanteriorcingulate L']"
      ]
     },
     "execution_count": 88,
     "metadata": {},
     "output_type": "execute_result"
    }
   ],
   "source": [
    "# data=pd.read_csv(dpath);\n",
    "data=data_beh_roisc\n",
    "datacolum=data; ## Takinhg the main data \n",
    "## For addixng the column name we make it list\n",
    "dk_ss=dkfull[ROIs]; ## Taking the selected brain ROIs\n",
    "clname=list(dk_ss); ##v making it into list\n",
    "clname.insert(0,'Beha. slope'); ## Addinxg the behav. slop at the first index\n",
    "len(clname)\n",
    "clname"
   ]
  },
  {
   "cell_type": "code",
   "execution_count": 89,
   "metadata": {},
   "outputs": [
    {
     "data": {
      "text/html": [
       "<div>\n",
       "<style scoped>\n",
       "    .dataframe tbody tr th:only-of-type {\n",
       "        vertical-align: middle;\n",
       "    }\n",
       "\n",
       "    .dataframe tbody tr th {\n",
       "        vertical-align: top;\n",
       "    }\n",
       "\n",
       "    .dataframe thead th {\n",
       "        text-align: right;\n",
       "    }\n",
       "</style>\n",
       "<table border=\"1\" class=\"dataframe\">\n",
       "  <thead>\n",
       "    <tr style=\"text-align: right;\">\n",
       "      <th></th>\n",
       "      <th>0</th>\n",
       "      <th>69</th>\n",
       "      <th>228</th>\n",
       "      <th>37</th>\n",
       "      <th>47</th>\n",
       "      <th>230</th>\n",
       "      <th>264</th>\n",
       "      <th>210</th>\n",
       "      <th>83</th>\n",
       "      <th>4</th>\n",
       "      <th>212</th>\n",
       "      <th>117</th>\n",
       "      <th>229</th>\n",
       "      <th>204</th>\n",
       "      <th>189</th>\n",
       "    </tr>\n",
       "  </thead>\n",
       "  <tbody>\n",
       "    <tr>\n",
       "      <th>0</th>\n",
       "      <td>3.497053</td>\n",
       "      <td>2.171247e-10</td>\n",
       "      <td>3.281356e-11</td>\n",
       "      <td>1.859475e-10</td>\n",
       "      <td>3.883698e-10</td>\n",
       "      <td>1.708311e-10</td>\n",
       "      <td>2.486241e-11</td>\n",
       "      <td>1.253636e-10</td>\n",
       "      <td>7.001352e-11</td>\n",
       "      <td>5.813167e-10</td>\n",
       "      <td>3.046734e-11</td>\n",
       "      <td>1.276535e-10</td>\n",
       "      <td>2.326437e-10</td>\n",
       "      <td>2.988473e-10</td>\n",
       "      <td>4.638290e-10</td>\n",
       "    </tr>\n",
       "    <tr>\n",
       "      <th>1</th>\n",
       "      <td>3.734621</td>\n",
       "      <td>4.579277e-10</td>\n",
       "      <td>6.122221e-11</td>\n",
       "      <td>1.437187e-09</td>\n",
       "      <td>7.721816e-10</td>\n",
       "      <td>5.112485e-10</td>\n",
       "      <td>3.618688e-11</td>\n",
       "      <td>1.852360e-10</td>\n",
       "      <td>2.284847e-10</td>\n",
       "      <td>8.911338e-10</td>\n",
       "      <td>5.369026e-11</td>\n",
       "      <td>7.669481e-10</td>\n",
       "      <td>3.117271e-10</td>\n",
       "      <td>8.410269e-10</td>\n",
       "      <td>6.724634e-10</td>\n",
       "    </tr>\n",
       "  </tbody>\n",
       "</table>\n",
       "</div>"
      ],
      "text/plain": [
       "          0            69           228            37            47  \\\n",
       "0  3.497053  2.171247e-10  3.281356e-11  1.859475e-10  3.883698e-10   \n",
       "1  3.734621  4.579277e-10  6.122221e-11  1.437187e-09  7.721816e-10   \n",
       "\n",
       "            230           264           210            83             4  \\\n",
       "0  1.708311e-10  2.486241e-11  1.253636e-10  7.001352e-11  5.813167e-10   \n",
       "1  5.112485e-10  3.618688e-11  1.852360e-10  2.284847e-10  8.911338e-10   \n",
       "\n",
       "            212           117           229           204           189  \n",
       "0  3.046734e-11  1.276535e-10  2.326437e-10  2.988473e-10  4.638290e-10  \n",
       "1  5.369026e-11  7.669481e-10  3.117271e-10  8.410269e-10  6.724634e-10  "
      ]
     },
     "execution_count": 89,
     "metadata": {},
     "output_type": "execute_result"
    }
   ],
   "source": [
    "ddtest=data\n",
    "ddtest.head(2)"
   ]
  },
  {
   "cell_type": "code",
   "execution_count": 90,
   "metadata": {},
   "outputs": [
    {
     "data": {
      "text/html": [
       "<div>\n",
       "<style scoped>\n",
       "    .dataframe tbody tr th:only-of-type {\n",
       "        vertical-align: middle;\n",
       "    }\n",
       "\n",
       "    .dataframe tbody tr th {\n",
       "        vertical-align: top;\n",
       "    }\n",
       "\n",
       "    .dataframe thead th {\n",
       "        text-align: right;\n",
       "    }\n",
       "</style>\n",
       "<table border=\"1\" class=\"dataframe\">\n",
       "  <thead>\n",
       "    <tr style=\"text-align: right;\">\n",
       "      <th></th>\n",
       "      <th>Beha. slope</th>\n",
       "      <th>bankssts L</th>\n",
       "      <th>lateraloccipital R</th>\n",
       "      <th>parsopercularis L</th>\n",
       "      <th>posteriorcingulate L</th>\n",
       "      <th>lateralorbitofrontal R</th>\n",
       "      <th>superiorparietal R</th>\n",
       "      <th>caudalmiddlefrontal R</th>\n",
       "      <th>inferiorparietal L</th>\n",
       "      <th>caudalanteriorcingulate R</th>\n",
       "      <th>cuneus R</th>\n",
       "      <th>precentral L</th>\n",
       "      <th>lateralorbitofrontal L</th>\n",
       "      <th>transversetemporal R</th>\n",
       "      <th>rostralanteriorcingulate L</th>\n",
       "    </tr>\n",
       "  </thead>\n",
       "  <tbody>\n",
       "    <tr>\n",
       "      <th>0</th>\n",
       "      <td>3.497053</td>\n",
       "      <td>2.171247e-10</td>\n",
       "      <td>3.281356e-11</td>\n",
       "      <td>1.859475e-10</td>\n",
       "      <td>3.883698e-10</td>\n",
       "      <td>1.708311e-10</td>\n",
       "      <td>2.486241e-11</td>\n",
       "      <td>1.253636e-10</td>\n",
       "      <td>7.001352e-11</td>\n",
       "      <td>5.813167e-10</td>\n",
       "      <td>3.046734e-11</td>\n",
       "      <td>1.276535e-10</td>\n",
       "      <td>2.326437e-10</td>\n",
       "      <td>2.988473e-10</td>\n",
       "      <td>4.638290e-10</td>\n",
       "    </tr>\n",
       "    <tr>\n",
       "      <th>1</th>\n",
       "      <td>3.734621</td>\n",
       "      <td>4.579277e-10</td>\n",
       "      <td>6.122221e-11</td>\n",
       "      <td>1.437187e-09</td>\n",
       "      <td>7.721816e-10</td>\n",
       "      <td>5.112485e-10</td>\n",
       "      <td>3.618688e-11</td>\n",
       "      <td>1.852360e-10</td>\n",
       "      <td>2.284847e-10</td>\n",
       "      <td>8.911338e-10</td>\n",
       "      <td>5.369026e-11</td>\n",
       "      <td>7.669481e-10</td>\n",
       "      <td>3.117271e-10</td>\n",
       "      <td>8.410269e-10</td>\n",
       "      <td>6.724634e-10</td>\n",
       "    </tr>\n",
       "    <tr>\n",
       "      <th>2</th>\n",
       "      <td>2.866396</td>\n",
       "      <td>7.757514e-10</td>\n",
       "      <td>1.280618e-10</td>\n",
       "      <td>3.095912e-10</td>\n",
       "      <td>1.086266e-09</td>\n",
       "      <td>5.009364e-10</td>\n",
       "      <td>1.774123e-10</td>\n",
       "      <td>6.872571e-11</td>\n",
       "      <td>1.094463e-09</td>\n",
       "      <td>8.260322e-10</td>\n",
       "      <td>1.595771e-10</td>\n",
       "      <td>7.203327e-10</td>\n",
       "      <td>2.302279e-10</td>\n",
       "      <td>4.952630e-10</td>\n",
       "      <td>6.448233e-10</td>\n",
       "    </tr>\n",
       "  </tbody>\n",
       "</table>\n",
       "</div>"
      ],
      "text/plain": [
       "   Beha. slope         bankssts L  lateraloccipital R  parsopercularis L  \\\n",
       "0     3.497053       2.171247e-10        3.281356e-11       1.859475e-10   \n",
       "1     3.734621       4.579277e-10        6.122221e-11       1.437187e-09   \n",
       "2     2.866396       7.757514e-10        1.280618e-10       3.095912e-10   \n",
       "\n",
       "   posteriorcingulate L  lateralorbitofrontal R  superiorparietal R  \\\n",
       "0          3.883698e-10            1.708311e-10        2.486241e-11   \n",
       "1          7.721816e-10            5.112485e-10        3.618688e-11   \n",
       "2          1.086266e-09            5.009364e-10        1.774123e-10   \n",
       "\n",
       "   caudalmiddlefrontal R  inferiorparietal L  caudalanteriorcingulate R  \\\n",
       "0           1.253636e-10        7.001352e-11               5.813167e-10   \n",
       "1           1.852360e-10        2.284847e-10               8.911338e-10   \n",
       "2           6.872571e-11        1.094463e-09               8.260322e-10   \n",
       "\n",
       "            cuneus R       precentral L  lateralorbitofrontal L  \\\n",
       "0       3.046734e-11       1.276535e-10            2.326437e-10   \n",
       "1       5.369026e-11       7.669481e-10            3.117271e-10   \n",
       "2       1.595771e-10       7.203327e-10            2.302279e-10   \n",
       "\n",
       "   transversetemporal R  rostralanteriorcingulate L  \n",
       "0          2.988473e-10                4.638290e-10  \n",
       "1          8.410269e-10                6.724634e-10  \n",
       "2          4.952630e-10                6.448233e-10  "
      ]
     },
     "execution_count": 90,
     "metadata": {},
     "output_type": "execute_result"
    }
   ],
   "source": [
    "ddtest.columns=clname\n",
    "ddtest.head(3)"
   ]
  },
  {
   "cell_type": "markdown",
   "metadata": {},
   "source": [
    "## Simply ordinary rdinary least squares"
   ]
  },
  {
   "cell_type": "code",
   "execution_count": 91,
   "metadata": {},
   "outputs": [
    {
     "data": {
      "text/html": [
       "<table class=\"simpletable\">\n",
       "<caption>OLS Regression Results</caption>\n",
       "<tr>\n",
       "  <th>Dep. Variable:</th>       <td>Beha. slope</td>   <th>  R-squared:         </th> <td>   0.555</td>\n",
       "</tr>\n",
       "<tr>\n",
       "  <th>Model:</th>                   <td>OLS</td>       <th>  Adj. R-squared:    </th> <td>   0.371</td>\n",
       "</tr>\n",
       "<tr>\n",
       "  <th>Method:</th>             <td>Least Squares</td>  <th>  F-statistic:       </th> <td>   3.025</td>\n",
       "</tr>\n",
       "<tr>\n",
       "  <th>Date:</th>             <td>Tue, 15 Sep 2020</td> <th>  Prob (F-statistic):</th>  <td>0.00418</td>\n",
       "</tr>\n",
       "<tr>\n",
       "  <th>Time:</th>                 <td>15:37:38</td>     <th>  Log-Likelihood:    </th> <td> -134.10</td>\n",
       "</tr>\n",
       "<tr>\n",
       "  <th>No. Observations:</th>      <td>    48</td>      <th>  AIC:               </th> <td>   296.2</td>\n",
       "</tr>\n",
       "<tr>\n",
       "  <th>Df Residuals:</th>          <td>    34</td>      <th>  BIC:               </th> <td>   322.4</td>\n",
       "</tr>\n",
       "<tr>\n",
       "  <th>Df Model:</th>              <td>    14</td>      <th>                     </th>     <td> </td>   \n",
       "</tr>\n",
       "<tr>\n",
       "  <th>Covariance Type:</th>      <td>nonrobust</td>    <th>                     </th>     <td> </td>   \n",
       "</tr>\n",
       "</table>\n",
       "<table class=\"simpletable\">\n",
       "<tr>\n",
       "               <td></td>                 <th>coef</th>     <th>std err</th>      <th>t</th>      <th>P>|t|</th>  <th>[0.025</th>    <th>0.975]</th>  \n",
       "</tr>\n",
       "<tr>\n",
       "  <th>       bankssts L</th>          <td>    0.0511</td> <td>    1.572</td> <td>    0.033</td> <td> 0.974</td> <td>   -3.143</td> <td>    3.245</td>\n",
       "</tr>\n",
       "<tr>\n",
       "  <th>lateraloccipital R</th>         <td>    7.6004</td> <td>    9.582</td> <td>    0.793</td> <td> 0.433</td> <td>  -11.873</td> <td>   27.074</td>\n",
       "</tr>\n",
       "<tr>\n",
       "  <th>parsopercularis L</th>          <td>    0.8557</td> <td>    1.697</td> <td>    0.504</td> <td> 0.617</td> <td>   -2.593</td> <td>    4.304</td>\n",
       "</tr>\n",
       "<tr>\n",
       "  <th>posteriorcingulate L</th>       <td>   -3.4496</td> <td>    2.001</td> <td>   -1.724</td> <td> 0.094</td> <td>   -7.516</td> <td>    0.617</td>\n",
       "</tr>\n",
       "<tr>\n",
       "  <th>lateralorbitofrontal R</th>     <td>    0.7474</td> <td>    5.133</td> <td>    0.146</td> <td> 0.885</td> <td>   -9.685</td> <td>   11.180</td>\n",
       "</tr>\n",
       "<tr>\n",
       "  <th>superiorparietal R</th>         <td>   32.3931</td> <td>   19.098</td> <td>    1.696</td> <td> 0.099</td> <td>   -6.419</td> <td>   71.205</td>\n",
       "</tr>\n",
       "<tr>\n",
       "  <th>caudalmiddlefrontal R</th>      <td>   -5.4815</td> <td>    8.898</td> <td>   -0.616</td> <td> 0.542</td> <td>  -23.564</td> <td>   12.601</td>\n",
       "</tr>\n",
       "<tr>\n",
       "  <th>inferiorparietal L</th>         <td>    0.4328</td> <td>    2.101</td> <td>    0.206</td> <td> 0.838</td> <td>   -3.838</td> <td>    4.703</td>\n",
       "</tr>\n",
       "<tr>\n",
       "  <th>caudalanteriorcingulate R</th>  <td>    3.8043</td> <td>    2.489</td> <td>    1.529</td> <td> 0.136</td> <td>   -1.253</td> <td>    8.862</td>\n",
       "</tr>\n",
       "<tr>\n",
       "  <th>         cuneus R</th>          <td>    0.1171</td> <td>   15.187</td> <td>    0.008</td> <td> 0.994</td> <td>  -30.747</td> <td>   30.981</td>\n",
       "</tr>\n",
       "<tr>\n",
       "  <th>     precentral L</th>          <td>   -3.6519</td> <td>    2.936</td> <td>   -1.244</td> <td> 0.222</td> <td>   -9.618</td> <td>    2.314</td>\n",
       "</tr>\n",
       "<tr>\n",
       "  <th>lateralorbitofrontal L</th>     <td>   -0.2964</td> <td>    6.292</td> <td>   -0.047</td> <td> 0.963</td> <td>  -13.082</td> <td>   12.490</td>\n",
       "</tr>\n",
       "<tr>\n",
       "  <th>transversetemporal R</th>       <td>    0.4913</td> <td>    2.081</td> <td>    0.236</td> <td> 0.815</td> <td>   -3.738</td> <td>    4.720</td>\n",
       "</tr>\n",
       "<tr>\n",
       "  <th>rostralanteriorcingulate L</th> <td>    1.0031</td> <td>    3.619</td> <td>    0.277</td> <td> 0.783</td> <td>   -6.352</td> <td>    8.359</td>\n",
       "</tr>\n",
       "</table>\n",
       "<table class=\"simpletable\">\n",
       "<tr>\n",
       "  <th>Omnibus:</th>       <td>64.145</td> <th>  Durbin-Watson:     </th> <td>   1.784</td> \n",
       "</tr>\n",
       "<tr>\n",
       "  <th>Prob(Omnibus):</th> <td> 0.000</td> <th>  Jarque-Bera (JB):  </th> <td> 596.279</td> \n",
       "</tr>\n",
       "<tr>\n",
       "  <th>Skew:</th>          <td> 3.337</td> <th>  Prob(JB):          </th> <td>3.31e-130</td>\n",
       "</tr>\n",
       "<tr>\n",
       "  <th>Kurtosis:</th>      <td>18.925</td> <th>  Cond. No.          </th> <td>    123.</td> \n",
       "</tr>\n",
       "</table><br/><br/>Warnings:<br/>[1] Standard Errors assume that the covariance matrix of the errors is correctly specified."
      ],
      "text/plain": [
       "<class 'statsmodels.iolib.summary.Summary'>\n",
       "\"\"\"\n",
       "                            OLS Regression Results                            \n",
       "==============================================================================\n",
       "Dep. Variable:            Beha. slope   R-squared:                       0.555\n",
       "Model:                            OLS   Adj. R-squared:                  0.371\n",
       "Method:                 Least Squares   F-statistic:                     3.025\n",
       "Date:                Tue, 15 Sep 2020   Prob (F-statistic):            0.00418\n",
       "Time:                        15:37:38   Log-Likelihood:                -134.10\n",
       "No. Observations:                  48   AIC:                             296.2\n",
       "Df Residuals:                      34   BIC:                             322.4\n",
       "Df Model:                          14                                         \n",
       "Covariance Type:            nonrobust                                         \n",
       "==============================================================================================\n",
       "                                 coef    std err          t      P>|t|      [0.025      0.975]\n",
       "----------------------------------------------------------------------------------------------\n",
       "       bankssts L              0.0511      1.572      0.033      0.974      -3.143       3.245\n",
       "lateraloccipital R             7.6004      9.582      0.793      0.433     -11.873      27.074\n",
       "parsopercularis L              0.8557      1.697      0.504      0.617      -2.593       4.304\n",
       "posteriorcingulate L          -3.4496      2.001     -1.724      0.094      -7.516       0.617\n",
       "lateralorbitofrontal R         0.7474      5.133      0.146      0.885      -9.685      11.180\n",
       "superiorparietal R            32.3931     19.098      1.696      0.099      -6.419      71.205\n",
       "caudalmiddlefrontal R         -5.4815      8.898     -0.616      0.542     -23.564      12.601\n",
       "inferiorparietal L             0.4328      2.101      0.206      0.838      -3.838       4.703\n",
       "caudalanteriorcingulate R      3.8043      2.489      1.529      0.136      -1.253       8.862\n",
       "         cuneus R              0.1171     15.187      0.008      0.994     -30.747      30.981\n",
       "     precentral L             -3.6519      2.936     -1.244      0.222      -9.618       2.314\n",
       "lateralorbitofrontal L        -0.2964      6.292     -0.047      0.963     -13.082      12.490\n",
       "transversetemporal R           0.4913      2.081      0.236      0.815      -3.738       4.720\n",
       "rostralanteriorcingulate L     1.0031      3.619      0.277      0.783      -6.352       8.359\n",
       "==============================================================================\n",
       "Omnibus:                       64.145   Durbin-Watson:                   1.784\n",
       "Prob(Omnibus):                  0.000   Jarque-Bera (JB):              596.279\n",
       "Skew:                           3.337   Prob(JB):                    3.31e-130\n",
       "Kurtosis:                      18.925   Cond. No.                         123.\n",
       "==============================================================================\n",
       "\n",
       "Warnings:\n",
       "[1] Standard Errors assume that the covariance matrix of the errors is correctly specified.\n",
       "\"\"\""
      ]
     },
     "execution_count": 91,
     "metadata": {},
     "output_type": "execute_result"
    }
   ],
   "source": [
    "y=ddtest.iloc[:,0]\n",
    "variable=ddtest.iloc[:,1:]*1e9\n",
    "variable\n",
    "model = sm.OLS(y, variable).fit()\n",
    "predictions = model.predict(variable) # make the predictions by the model\n",
    "# Print out the statistics\n",
    "model.summary()"
   ]
  },
  {
   "cell_type": "markdown",
   "metadata": {},
   "source": [
    "### WLS"
   ]
  },
  {
   "cell_type": "code",
   "execution_count": 92,
   "metadata": {},
   "outputs": [
    {
     "data": {
      "text/html": [
       "<table class=\"simpletable\">\n",
       "<caption>WLS Regression Results</caption>\n",
       "<tr>\n",
       "  <th>Dep. Variable:</th>       <td>Beha. slope</td>   <th>  R-squared:         </th> <td>   0.959</td>\n",
       "</tr>\n",
       "<tr>\n",
       "  <th>Model:</th>                   <td>WLS</td>       <th>  Adj. R-squared:    </th> <td>   0.941</td>\n",
       "</tr>\n",
       "<tr>\n",
       "  <th>Method:</th>             <td>Least Squares</td>  <th>  F-statistic:       </th> <td>   56.17</td>\n",
       "</tr>\n",
       "<tr>\n",
       "  <th>Date:</th>             <td>Tue, 15 Sep 2020</td> <th>  Prob (F-statistic):</th> <td>2.49e-19</td>\n",
       "</tr>\n",
       "<tr>\n",
       "  <th>Time:</th>                 <td>15:37:38</td>     <th>  Log-Likelihood:    </th> <td> -93.523</td>\n",
       "</tr>\n",
       "<tr>\n",
       "  <th>No. Observations:</th>      <td>    48</td>      <th>  AIC:               </th> <td>   215.0</td>\n",
       "</tr>\n",
       "<tr>\n",
       "  <th>Df Residuals:</th>          <td>    34</td>      <th>  BIC:               </th> <td>   241.2</td>\n",
       "</tr>\n",
       "<tr>\n",
       "  <th>Df Model:</th>              <td>    14</td>      <th>                     </th>     <td> </td>   \n",
       "</tr>\n",
       "<tr>\n",
       "  <th>Covariance Type:</th>      <td>nonrobust</td>    <th>                     </th>     <td> </td>   \n",
       "</tr>\n",
       "</table>\n",
       "<table class=\"simpletable\">\n",
       "<tr>\n",
       "               <td></td>                 <th>coef</th>     <th>std err</th>      <th>t</th>      <th>P>|t|</th>  <th>[0.025</th>    <th>0.975]</th>  \n",
       "</tr>\n",
       "<tr>\n",
       "  <th>       bankssts L</th>          <td>    0.2617</td> <td>    0.665</td> <td>    0.394</td> <td> 0.696</td> <td>   -1.089</td> <td>    1.612</td>\n",
       "</tr>\n",
       "<tr>\n",
       "  <th>lateraloccipital R</th>         <td>    6.2996</td> <td>    4.402</td> <td>    1.431</td> <td> 0.162</td> <td>   -2.647</td> <td>   15.246</td>\n",
       "</tr>\n",
       "<tr>\n",
       "  <th>parsopercularis L</th>          <td>    0.5960</td> <td>    0.592</td> <td>    1.007</td> <td> 0.321</td> <td>   -0.607</td> <td>    1.799</td>\n",
       "</tr>\n",
       "<tr>\n",
       "  <th>posteriorcingulate L</th>       <td>   -2.8525</td> <td>    0.798</td> <td>   -3.575</td> <td> 0.001</td> <td>   -4.474</td> <td>   -1.231</td>\n",
       "</tr>\n",
       "<tr>\n",
       "  <th>lateralorbitofrontal R</th>     <td>    1.0819</td> <td>    1.796</td> <td>    0.602</td> <td> 0.551</td> <td>   -2.569</td> <td>    4.733</td>\n",
       "</tr>\n",
       "<tr>\n",
       "  <th>superiorparietal R</th>         <td>   21.2269</td> <td>    9.046</td> <td>    2.347</td> <td> 0.025</td> <td>    2.843</td> <td>   39.610</td>\n",
       "</tr>\n",
       "<tr>\n",
       "  <th>caudalmiddlefrontal R</th>      <td>   -6.3994</td> <td>    3.782</td> <td>   -1.692</td> <td> 0.100</td> <td>  -14.085</td> <td>    1.286</td>\n",
       "</tr>\n",
       "<tr>\n",
       "  <th>inferiorparietal L</th>         <td>    0.6016</td> <td>    0.915</td> <td>    0.658</td> <td> 0.515</td> <td>   -1.257</td> <td>    2.461</td>\n",
       "</tr>\n",
       "<tr>\n",
       "  <th>caudalanteriorcingulate R</th>  <td>    3.3409</td> <td>    0.991</td> <td>    3.370</td> <td> 0.002</td> <td>    1.326</td> <td>    5.356</td>\n",
       "</tr>\n",
       "<tr>\n",
       "  <th>         cuneus R</th>          <td>    3.7221</td> <td>    5.121</td> <td>    0.727</td> <td> 0.472</td> <td>   -6.685</td> <td>   14.129</td>\n",
       "</tr>\n",
       "<tr>\n",
       "  <th>     precentral L</th>          <td>   -3.5882</td> <td>    1.200</td> <td>   -2.991</td> <td> 0.005</td> <td>   -6.026</td> <td>   -1.150</td>\n",
       "</tr>\n",
       "<tr>\n",
       "  <th>lateralorbitofrontal L</th>     <td>   -1.4324</td> <td>    2.966</td> <td>   -0.483</td> <td> 0.632</td> <td>   -7.459</td> <td>    4.594</td>\n",
       "</tr>\n",
       "<tr>\n",
       "  <th>transversetemporal R</th>       <td>    0.1056</td> <td>    0.731</td> <td>    0.144</td> <td> 0.886</td> <td>   -1.381</td> <td>    1.592</td>\n",
       "</tr>\n",
       "<tr>\n",
       "  <th>rostralanteriorcingulate L</th> <td>    1.9560</td> <td>    1.305</td> <td>    1.499</td> <td> 0.143</td> <td>   -0.696</td> <td>    4.608</td>\n",
       "</tr>\n",
       "</table>\n",
       "<table class=\"simpletable\">\n",
       "<tr>\n",
       "  <th>Omnibus:</th>       <td> 4.822</td> <th>  Durbin-Watson:     </th> <td>   1.469</td>\n",
       "</tr>\n",
       "<tr>\n",
       "  <th>Prob(Omnibus):</th> <td> 0.090</td> <th>  Jarque-Bera (JB):  </th> <td>   4.012</td>\n",
       "</tr>\n",
       "<tr>\n",
       "  <th>Skew:</th>          <td> 0.701</td> <th>  Prob(JB):          </th> <td>   0.135</td>\n",
       "</tr>\n",
       "<tr>\n",
       "  <th>Kurtosis:</th>      <td> 3.205</td> <th>  Cond. No.          </th> <td>    276.</td>\n",
       "</tr>\n",
       "</table><br/><br/>Warnings:<br/>[1] Standard Errors assume that the covariance matrix of the errors is correctly specified."
      ],
      "text/plain": [
       "<class 'statsmodels.iolib.summary.Summary'>\n",
       "\"\"\"\n",
       "                            WLS Regression Results                            \n",
       "==============================================================================\n",
       "Dep. Variable:            Beha. slope   R-squared:                       0.959\n",
       "Model:                            WLS   Adj. R-squared:                  0.941\n",
       "Method:                 Least Squares   F-statistic:                     56.17\n",
       "Date:                Tue, 15 Sep 2020   Prob (F-statistic):           2.49e-19\n",
       "Time:                        15:37:38   Log-Likelihood:                -93.523\n",
       "No. Observations:                  48   AIC:                             215.0\n",
       "Df Residuals:                      34   BIC:                             241.2\n",
       "Df Model:                          14                                         \n",
       "Covariance Type:            nonrobust                                         \n",
       "==============================================================================================\n",
       "                                 coef    std err          t      P>|t|      [0.025      0.975]\n",
       "----------------------------------------------------------------------------------------------\n",
       "       bankssts L              0.2617      0.665      0.394      0.696      -1.089       1.612\n",
       "lateraloccipital R             6.2996      4.402      1.431      0.162      -2.647      15.246\n",
       "parsopercularis L              0.5960      0.592      1.007      0.321      -0.607       1.799\n",
       "posteriorcingulate L          -2.8525      0.798     -3.575      0.001      -4.474      -1.231\n",
       "lateralorbitofrontal R         1.0819      1.796      0.602      0.551      -2.569       4.733\n",
       "superiorparietal R            21.2269      9.046      2.347      0.025       2.843      39.610\n",
       "caudalmiddlefrontal R         -6.3994      3.782     -1.692      0.100     -14.085       1.286\n",
       "inferiorparietal L             0.6016      0.915      0.658      0.515      -1.257       2.461\n",
       "caudalanteriorcingulate R      3.3409      0.991      3.370      0.002       1.326       5.356\n",
       "         cuneus R              3.7221      5.121      0.727      0.472      -6.685      14.129\n",
       "     precentral L             -3.5882      1.200     -2.991      0.005      -6.026      -1.150\n",
       "lateralorbitofrontal L        -1.4324      2.966     -0.483      0.632      -7.459       4.594\n",
       "transversetemporal R           0.1056      0.731      0.144      0.886      -1.381       1.592\n",
       "rostralanteriorcingulate L     1.9560      1.305      1.499      0.143      -0.696       4.608\n",
       "==============================================================================\n",
       "Omnibus:                        4.822   Durbin-Watson:                   1.469\n",
       "Prob(Omnibus):                  0.090   Jarque-Bera (JB):                4.012\n",
       "Skew:                           0.701   Prob(JB):                        0.135\n",
       "Kurtosis:                       3.205   Cond. No.                         276.\n",
       "==============================================================================\n",
       "\n",
       "Warnings:\n",
       "[1] Standard Errors assume that the covariance matrix of the errors is correctly specified.\n",
       "\"\"\""
      ]
     },
     "execution_count": 92,
     "metadata": {},
     "output_type": "execute_result"
    }
   ],
   "source": [
    "ols_model=sm.OLS(y, variable).fit()\n",
    "# wr=ols_model.fittedvalues\n",
    "wr=ols_model.resid\n",
    "# wr=ols_model.fittedvalues\n",
    "w=np.asarray(wr)\n",
    "wls_model = sm.WLS(y,variable,weights=1/abs(w)).fit()\n",
    "# wls_model = sm.WLS(y,variable,weights=1).fit()\n",
    "# wls_model = sm.WLS(y,variable_mlr,weights=abs(w)).fit()\n",
    "# wls_model = sm.WLS(y,variable_mlr,weights=1).fit()\n",
    "# wls_model = sm.WLS(y, variable_mlr,weights=list(range(1,len(y)+1))).fit()\n",
    "predictions =wls_model.predict(variable) # make the predictions by the model\n",
    "# Print out the statistics\n",
    "# print (wls_model.summary())\n",
    "wls_model.summary()"
   ]
  },
  {
   "cell_type": "markdown",
   "metadata": {},
   "source": [
    "## for gamm band only"
   ]
  },
  {
   "cell_type": "code",
   "execution_count": 93,
   "metadata": {},
   "outputs": [],
   "source": [
    "# data= pd.read_csv(dbeh_path)\n",
    "# beh_gmroi_sc=np.append(0,gam+1)\n",
    "# data_gmbeh=data.iloc[:,beh_gmroi_sc]\n",
    "# data_gmbeh.shape"
   ]
  },
  {
   "cell_type": "code",
   "execution_count": 94,
   "metadata": {},
   "outputs": [],
   "source": [
    "## the "
   ]
  },
  {
   "cell_type": "code",
   "execution_count": 95,
   "metadata": {},
   "outputs": [],
   "source": [
    "# data=data_gmbeh\n",
    "# gm_data=data; ## Takinhg the main data \n",
    "# ## For addixng the column name we make it list\n",
    "# dk_ss=dkfull[gam%68]; ## Taking the selected brain ROIs\n",
    "# gm_clname=list(dk_ss); ##v making it into list\n",
    "# gm_clname.insert(0,'Beha. slope'); ## Addinxg the behav. slop at the first index\n",
    "# len(gm_clname)\n",
    "# gm_clname"
   ]
  },
  {
   "cell_type": "code",
   "execution_count": 96,
   "metadata": {},
   "outputs": [],
   "source": [
    "# gm_data.columns=gm_clname\n",
    "# gm_data.head(3)"
   ]
  },
  {
   "cell_type": "code",
   "execution_count": 97,
   "metadata": {},
   "outputs": [],
   "source": [
    "# y_gm=gm_data.iloc[:,0]\n",
    "# variable_gm=gm_data.iloc[:,1:]*1e9\n",
    "# variable_gm\n",
    "# model = sm.OLS(y_gm, variable_gm).fit()\n",
    "# predictions = model.predict(variable_gm) # make the predictions by the model\n",
    "# # Print out the statistics\n",
    "# model.summary()"
   ]
  },
  {
   "cell_type": "code",
   "execution_count": 98,
   "metadata": {},
   "outputs": [],
   "source": [
    "# y_gm=gm_data.iloc[:,0]\n",
    "# variable_gm=gm_data.iloc[:,1:]*1e9\n",
    "# variable_gm\n",
    "# model = sm.OLS(y_gm, variable_gm).fit()\n",
    "# predictions = model.predict(variable_gm) # make the predictions by the model\n",
    "# # Print out the statistics\n",
    "# model.summary()"
   ]
  },
  {
   "cell_type": "code",
   "execution_count": 99,
   "metadata": {},
   "outputs": [],
   "source": [
    "# ols_model=sm.OLS(y_gm, variable_gm).fit()\n",
    "# # wr=ols_model.fittedvalues\n",
    "# wr=ols_model.resid\n",
    "# # wr=ols_model.fittedvalues\n",
    "# w=np.asarray(wr)\n",
    "# wls_model = sm.WLS(y_gm,variable_gm,weights=1/abs(w)).fit()\n",
    "# # wls_model = sm.WLS(y,variable_mlr,weights=abs(w)).fit()\n",
    "# # wls_model = sm.WLS(y,variable_mlr,weights=1).fit()\n",
    "# # wls_model = sm.WLS(y, variable_mlr,weights=list(range(1,len(y)+1))).fit()\n",
    "# predictions =wls_model.predict(variable_gm) # make the predictions by the model\n",
    "# # Print out the statistics\n",
    "# print (wls_model.summary())"
   ]
  },
  {
   "cell_type": "code",
   "execution_count": 100,
   "metadata": {},
   "outputs": [],
   "source": [
    "# ols_model=sm.OLS(y, variable).fit()\n",
    "# # wr=ols_model.fittedvalues\n",
    "# wr=ols_model.resid\n",
    "# # wr=ols_model.fittedvalues\n",
    "# w=np.asarray(wr)\n",
    "# wls_model = sm.WLS(y,variable,weights=1/abs(w)).fit()\n",
    "# # wls_model = sm.WLS(y,variable_mlr,weights=abs(w)).fit()\n",
    "# # wls_model = sm.WLS(y,variable_mlr,weights=1).fit()\n",
    "# # wls_model = sm.WLS(y, variable_mlr,weights=list(range(1,len(y)+1))).fit()\n",
    "# predictions =wls_model.predict(variable) # make the predictions by the model\n",
    "# # Print out the statistics\n",
    "# print (wls_model.summary())"
   ]
  },
  {
   "cell_type": "markdown",
   "metadata": {},
   "source": [
    "### Theta"
   ]
  },
  {
   "cell_type": "code",
   "execution_count": 101,
   "metadata": {},
   "outputs": [
    {
     "data": {
      "text/plain": [
       "array([36., 46.,  3.])"
      ]
     },
     "execution_count": 101,
     "metadata": {},
     "output_type": "execute_result"
    }
   ],
   "source": [
    "the"
   ]
  },
  {
   "cell_type": "code",
   "execution_count": 102,
   "metadata": {},
   "outputs": [
    {
     "name": "stdout",
     "output_type": "stream",
     "text": [
      "                            WLS Regression Results                            \n",
      "==============================================================================\n",
      "Dep. Variable:            Beha. slope   R-squared:                       0.807\n",
      "Model:                            WLS   Adj. R-squared:                  0.794\n",
      "Method:                 Least Squares   F-statistic:                     62.64\n",
      "Date:                Tue, 15 Sep 2020   Prob (F-statistic):           4.23e-16\n",
      "Time:                        15:37:40   Log-Likelihood:                -103.19\n",
      "No. Observations:                  48   AIC:                             212.4\n",
      "Df Residuals:                      45   BIC:                             218.0\n",
      "Df Model:                           3                                         \n",
      "Covariance Type:            nonrobust                                         \n",
      "=============================================================================================\n",
      "                                coef    std err          t      P>|t|      [0.025      0.975]\n",
      "---------------------------------------------------------------------------------------------\n",
      "parsopercularis L             0.9748      0.379      2.574      0.013       0.212       1.738\n",
      "posteriorcingulate L         -1.7597      0.495     -3.558      0.001      -2.756      -0.764\n",
      "caudalanteriorcingulate R     3.1636      0.539      5.868      0.000       2.078       4.250\n",
      "==============================================================================\n",
      "Omnibus:                        0.338   Durbin-Watson:                   1.485\n",
      "Prob(Omnibus):                  0.844   Jarque-Bera (JB):                0.417\n",
      "Skew:                           0.184   Prob(JB):                        0.812\n",
      "Kurtosis:                       2.729   Cond. No.                         9.04\n",
      "==============================================================================\n",
      "\n",
      "Warnings:\n",
      "[1] Standard Errors assume that the covariance matrix of the errors is correctly specified.\n"
     ]
    }
   ],
   "source": [
    "data= pd.read_csv(dbeh_path)\n",
    "beh_the_sc=np.append(0,the+1)\n",
    "data_thebe_sc=data.iloc[:,beh_the_sc]\n",
    "data_thebe_sc.shape\n",
    "## Ading column\n",
    "dk_ss=dkfull[the%68]; ## Taking the selected brain ROIs\n",
    "th_clname=list(dk_ss); ##v making it into list\n",
    "th_clname.insert(0,'Beha. slope'); ## Addinxg the behav. slop at the first index\n",
    "len(th_clname)\n",
    "th_clname\n",
    "data_thebe_sc.columns=th_clname\n",
    "y_th=data_thebe_sc.iloc[:,0]\n",
    "variable_th=data_thebe_sc.iloc[:,1:]*1e9\n",
    "variable_th\n",
    "\n",
    "ols_model=sm.OLS(y_th, variable_th).fit()\n",
    "# wr=ols_model.fittedvalues\n",
    "wr=ols_model.resid\n",
    "# wr=ols_model.fittedvalues\n",
    "w=np.asarray(wr)\n",
    "wls_model = sm.WLS(y_th,variable_th,weights=1/abs(w)).fit()\n",
    "# wls_model = sm.WLS(y_th,variable_th,weights=1).fit()\n",
    "# wls_model = sm.WLS(y,variable_mlr,weights=abs(w)).fit()\n",
    "# wls_model = sm.WLS(y,variable_mlr,weights=1).fit()\n",
    "# wls_model = sm.WLS(y, variable_mlr,weights=list(range(1,len(y)+1))).fit()\n",
    "predictions =wls_model.predict(variable_th) # make the predictions by the model\n",
    "# Print out the statistics\n",
    "print (wls_model.summary())"
   ]
  },
  {
   "cell_type": "code",
   "execution_count": null,
   "metadata": {},
   "outputs": [],
   "source": []
  },
  {
   "cell_type": "markdown",
   "metadata": {},
   "source": [
    "## Alpha"
   ]
  },
  {
   "cell_type": "code",
   "execution_count": 103,
   "metadata": {},
   "outputs": [
    {
     "name": "stdout",
     "output_type": "stream",
     "text": [
      "                            WLS Regression Results                            \n",
      "==============================================================================\n",
      "Dep. Variable:            Beha. slope   R-squared:                       0.746\n",
      "Model:                            WLS   Adj. R-squared:                  0.729\n",
      "Method:                 Least Squares   F-statistic:                     44.13\n",
      "Date:                Tue, 15 Sep 2020   Prob (F-statistic):           1.87e-13\n",
      "Time:                        15:37:40   Log-Likelihood:                -106.27\n",
      "No. Observations:                  48   AIC:                             218.5\n",
      "Df Residuals:                      45   BIC:                             224.2\n",
      "Df Model:                           3                                         \n",
      "Covariance Type:            nonrobust                                         \n",
      "======================================================================================\n",
      "                         coef    std err          t      P>|t|      [0.025      0.975]\n",
      "--------------------------------------------------------------------------------------\n",
      "       bankssts L      0.6455      0.553      1.168      0.249      -0.467       1.759\n",
      "inferiorparietal L     1.5948      0.732      2.177      0.035       0.120       3.070\n",
      "     precentral L      1.0664      0.667      1.598      0.117      -0.278       2.411\n",
      "==============================================================================\n",
      "Omnibus:                        0.125   Durbin-Watson:                   1.347\n",
      "Prob(Omnibus):                  0.940   Jarque-Bera (JB):                0.223\n",
      "Skew:                          -0.112   Prob(JB):                        0.895\n",
      "Kurtosis:                       2.752   Cond. No.                         5.46\n",
      "==============================================================================\n",
      "\n",
      "Warnings:\n",
      "[1] Standard Errors assume that the covariance matrix of the errors is correctly specified.\n"
     ]
    }
   ],
   "source": [
    "the=alp\n",
    "data= pd.read_csv(dbeh_path)\n",
    "beh_the_sc=np.append(0,the+1)\n",
    "data_thebe_sc=data.iloc[:,beh_the_sc]\n",
    "data_thebe_sc.shape\n",
    "## Ading column\n",
    "dk_ss=dkfull[the%68]; ## Taking the selected brain ROIs\n",
    "th_clname=list(dk_ss); ##v making it into list\n",
    "th_clname.insert(0,'Beha. slope'); ## Addinxg the behav. slop at the first index\n",
    "len(th_clname)\n",
    "th_clname\n",
    "data_thebe_sc.columns=th_clname\n",
    "y_th=data_thebe_sc.iloc[:,0]\n",
    "variable_th=data_thebe_sc.iloc[:,1:]*1e9\n",
    "variable_th\n",
    "\n",
    "\n",
    "ols_model=sm.OLS(y_th, variable_th).fit()\n",
    "# wr=ols_model.fittedvalues\n",
    "wr=ols_model.resid\n",
    "# wr=ols_model.fittedvalues\n",
    "w=np.asarray(wr)\n",
    "wls_model = sm.WLS(y_th,variable_th,weights=1/abs(w)).fit()\n",
    "# wls_model = sm.WLS(y_th,variable_th,weights=1).fit()\n",
    "# wls_model = sm.WLS(y,variable_mlr,weights=abs(w)).fit()\n",
    "# wls_model = sm.WLS(y,variable_mlr,weights=1).fit()\n",
    "# wls_model = sm.WLS(y, variable_mlr,weights=list(range(1,len(y)+1))).fit()\n",
    "predictions =wls_model.predict(variable_th) # make the predictions by the model\n",
    "# Print out the statistics\n",
    "print (wls_model.summary())"
   ]
  },
  {
   "cell_type": "code",
   "execution_count": null,
   "metadata": {},
   "outputs": [],
   "source": []
  },
  {
   "cell_type": "markdown",
   "metadata": {},
   "source": [
    "### Beta"
   ]
  },
  {
   "cell_type": "code",
   "execution_count": 104,
   "metadata": {},
   "outputs": [
    {
     "name": "stdout",
     "output_type": "stream",
     "text": [
      "                            WLS Regression Results                            \n",
      "==============================================================================\n",
      "Dep. Variable:            Beha. slope   R-squared:                       0.876\n",
      "Model:                            WLS   Adj. R-squared:                  0.871\n",
      "Method:                 Least Squares   F-statistic:                     163.1\n",
      "Date:                Tue, 15 Sep 2020   Prob (F-statistic):           1.30e-21\n",
      "Time:                        15:37:40   Log-Likelihood:                -101.30\n",
      "No. Observations:                  48   AIC:                             206.6\n",
      "Df Residuals:                      46   BIC:                             210.3\n",
      "Df Model:                           2                                         \n",
      "Covariance Type:            nonrobust                                         \n",
      "==============================================================================================\n",
      "                                 coef    std err          t      P>|t|      [0.025      0.975]\n",
      "----------------------------------------------------------------------------------------------\n",
      "transversetemporal R           0.2674      0.486      0.551      0.584      -0.710       1.245\n",
      "rostralanteriorcingulate L     3.0044      0.344      8.739      0.000       2.312       3.696\n",
      "==============================================================================\n",
      "Omnibus:                        1.206   Durbin-Watson:                   1.721\n",
      "Prob(Omnibus):                  0.547   Jarque-Bera (JB):                1.197\n",
      "Skew:                           0.348   Prob(JB):                        0.550\n",
      "Kurtosis:                       2.661   Cond. No.                         3.90\n",
      "==============================================================================\n",
      "\n",
      "Warnings:\n",
      "[1] Standard Errors assume that the covariance matrix of the errors is correctly specified.\n"
     ]
    }
   ],
   "source": [
    "the=bet\n",
    "data= pd.read_csv(dbeh_path)\n",
    "beh_the_sc=np.append(0,the+1)\n",
    "data_thebe_sc=data.iloc[:,beh_the_sc]\n",
    "data_thebe_sc.shape\n",
    "## Ading column\n",
    "dk_ss=dkfull[the%68]; ## Taking the selected brain ROIs\n",
    "th_clname=list(dk_ss); ##v making it into list\n",
    "th_clname.insert(0,'Beha. slope'); ## Addinxg the behav. slop at the first index\n",
    "len(th_clname)\n",
    "th_clname\n",
    "data_thebe_sc.columns=th_clname\n",
    "y_th=data_thebe_sc.iloc[:,0]\n",
    "variable_th=data_thebe_sc.iloc[:,1:]*1e9\n",
    "variable_th\n",
    "\n",
    "\n",
    "ols_model=sm.OLS(y_th, variable_th).fit()\n",
    "# wr=ols_model.fittedvalues\n",
    "wr=ols_model.resid\n",
    "# wr=ols_model.fittedvalues\n",
    "w=np.asarray(wr)\n",
    "wls_model = sm.WLS(y_th,variable_th,weights=1/abs(w)).fit()\n",
    "# wls_model = sm.WLS(y_th,variable_th,weights=1).fit()\n",
    "# wls_model = sm.WLS(y,variable_mlr,weights=abs(w)).fit()\n",
    "# wls_model = sm.WLS(y,variable_mlr,weights=1).fit()\n",
    "# wls_model = sm.WLS(y, variable_mlr,weights=list(range(1,len(y)+1))).fit()\n",
    "predictions =wls_model.predict(variable_th) # make the predictions by the model\n",
    "# Print out the statistics\n",
    "print (wls_model.summary())"
   ]
  },
  {
   "cell_type": "markdown",
   "metadata": {},
   "source": [
    "## Gamma"
   ]
  },
  {
   "cell_type": "code",
   "execution_count": 105,
   "metadata": {},
   "outputs": [
    {
     "name": "stdout",
     "output_type": "stream",
     "text": [
      "                            WLS Regression Results                            \n",
      "==============================================================================\n",
      "Dep. Variable:            Beha. slope   R-squared:                       0.915\n",
      "Model:                            WLS   Adj. R-squared:                  0.903\n",
      "Method:                 Least Squares   F-statistic:                     75.30\n",
      "Date:                Tue, 15 Sep 2020   Prob (F-statistic):           7.13e-21\n",
      "Time:                        15:37:40   Log-Likelihood:                -97.358\n",
      "No. Observations:                  48   AIC:                             206.7\n",
      "Df Residuals:                      42   BIC:                             217.9\n",
      "Df Model:                           6                                         \n",
      "Covariance Type:            nonrobust                                         \n",
      "==========================================================================================\n",
      "                             coef    std err          t      P>|t|      [0.025      0.975]\n",
      "------------------------------------------------------------------------------------------\n",
      "lateraloccipital R         0.7688      3.079      0.250      0.804      -5.444       6.982\n",
      "lateralorbitofrontal R     5.0927      1.448      3.516      0.001       2.170       8.016\n",
      "superiorparietal R        16.4726      5.467      3.013      0.004       5.441      27.504\n",
      "caudalmiddlefrontal R     -3.2436      2.421     -1.340      0.188      -8.130       1.643\n",
      "         cuneus R         -1.7435      4.503     -0.387      0.701     -10.830       7.343\n",
      "lateralorbitofrontal L     0.7097      1.186      0.598      0.553      -1.684       3.103\n",
      "==============================================================================\n",
      "Omnibus:                        2.337   Durbin-Watson:                   1.798\n",
      "Prob(Omnibus):                  0.311   Jarque-Bera (JB):                2.083\n",
      "Skew:                           0.501   Prob(JB):                        0.353\n",
      "Kurtosis:                       2.806   Cond. No.                         24.6\n",
      "==============================================================================\n",
      "\n",
      "Warnings:\n",
      "[1] Standard Errors assume that the covariance matrix of the errors is correctly specified.\n"
     ]
    }
   ],
   "source": [
    "the=gam\n",
    "data= pd.read_csv(dbeh_path)\n",
    "beh_the_sc=np.append(0,the+1)\n",
    "data_thebe_sc=data.iloc[:,beh_the_sc]\n",
    "data_thebe_sc.shape\n",
    "## Ading column\n",
    "dk_ss=dkfull[the%68]; ## Taking the selected brain ROIs\n",
    "th_clname=list(dk_ss); ##v making it into list\n",
    "th_clname.insert(0,'Beha. slope'); ## Addinxg the behav. slop at the first index\n",
    "len(th_clname)\n",
    "th_clname\n",
    "data_thebe_sc.columns=th_clname\n",
    "y_th=data_thebe_sc.iloc[:,0]\n",
    "variable_th=data_thebe_sc.iloc[:,1:]*1e9\n",
    "variable_th\n",
    "\n",
    "\n",
    "ols_model=sm.OLS(y_th, variable_th).fit()\n",
    "# wr=ols_model.fittedvalues\n",
    "wr=ols_model.resid\n",
    "# wr=ols_model.fittedvalues\n",
    "w=np.asarray(wr)\n",
    "wls_model = sm.WLS(y_th,variable_th,weights=1/abs(w*1)).fit()\n",
    "# wls_model = sm.WLS(y_th,variable_th,weights=1).fit()\n",
    "# wls_model = sm.WLS(y,variable_mlr,weights=abs(w)).fit()\n",
    "# wls_model = sm.WLS(y,variable_mlr,weights=1).fit()\n",
    "# wls_model = sm.WLS(y, variable_mlr,weights=list(range(1,len(y)+1))).fit()\n",
    "predictions =wls_model.predict(variable_th) # make the predictions by the model\n",
    "# Print out the statistics\n",
    "print (wls_model.summary())"
   ]
  },
  {
   "cell_type": "code",
   "execution_count": null,
   "metadata": {},
   "outputs": [],
   "source": []
  }
 ],
 "metadata": {
  "kernelspec": {
   "display_name": "Python 2",
   "language": "python",
   "name": "python2"
  },
  "language_info": {
   "codemirror_mode": {
    "name": "ipython",
    "version": 2
   },
   "file_extension": ".py",
   "mimetype": "text/x-python",
   "name": "python",
   "nbconvert_exporter": "python",
   "pygments_lexer": "ipython2",
   "version": "2.7.6"
  }
 },
 "nbformat": 4,
 "nbformat_minor": 2
}
