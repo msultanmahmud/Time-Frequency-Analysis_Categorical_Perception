{
 "cells": [
  {
   "cell_type": "code",
   "execution_count": 1,
   "metadata": {},
   "outputs": [],
   "source": [
    "import numpy as np\n",
    "import pandas as pd\n",
    "from sklearn import svm, metrics,preprocessing\n",
    "from sklearn.metrics import classification_report\n",
    "#from sklearn import datasets\n",
    "from sklearn.model_selection import train_test_split, GridSearchCV\n",
    "from sklearn.metrics import accuracy_score,confusion_matrix,roc_curve, auc\n",
    "from matplotlib import pyplot as plt\n",
    "from collections import Counter\n",
    "from scipy.stats import norm\n",
    "# import seaborn as sns; sns.set(font_scale=1.2)\n",
    "%matplotlib inline"
   ]
  },
  {
   "cell_type": "code",
   "execution_count": 2,
   "metadata": {},
   "outputs": [],
   "source": [
    "### sultan-gpu-pc\n",
    "path=\"/home/sultan/EEG_CP/WAVELET_SPECTROGRAM/Features_data/Induced_100sam_all.csv\"\n",
    "#sultan localpc\n",
    "# path=\"C:/Users/sultan/Documents/CP_ALL_DATA/Final_Features_induced_evoked/Induced_100sam_all.csv\"\n",
    "dataset1 =pd.read_csv(path)"
   ]
  },
  {
   "cell_type": "code",
   "execution_count": 3,
   "metadata": {},
   "outputs": [],
   "source": [
    "# np.min(dataset1)"
   ]
  },
  {
   "cell_type": "code",
   "execution_count": 4,
   "metadata": {},
   "outputs": [],
   "source": [
    "# an=np.arange(0,100,2)\n",
    "# bn=np.arange(100,202,2)\n",
    "# rndr=np.concatenate([an,bn])\n",
    "# # dataset2=dataset1.drop([60,61,62,63,232,233],axis=0)\n",
    "# dataset2=dataset1.drop([61,63,232,233],axis=0)\n",
    "# # dataset=dataset1.drop(range(0,10),axis=0)\n",
    "# dataset=dataset2.drop(rndr,axis=0)"
   ]
  },
  {
   "cell_type": "code",
   "execution_count": 5,
   "metadata": {},
   "outputs": [],
   "source": [
    "# an=np.arange(0,100,2)\n",
    "# bn=np.arange(100,198,2)\n",
    "# rndr=np.concatenate([an,bn])\n",
    "# len(rndr)"
   ]
  },
  {
   "cell_type": "code",
   "execution_count": 6,
   "metadata": {},
   "outputs": [],
   "source": [
    "dataset=abs(dataset1)\n",
    "Xc=dataset.iloc[:,3:].values\n",
    "y=dataset.iloc[:,2].values\n",
    "scaler = preprocessing.StandardScaler()\n",
    "X = scaler.fit_transform(Xc)"
   ]
  },
  {
   "cell_type": "markdown",
   "metadata": {},
   "source": [
    "### LocalPc format"
   ]
  },
  {
   "cell_type": "code",
   "execution_count": 7,
   "metadata": {},
   "outputs": [],
   "source": [
    "### LocalPc format\n",
    "# dataset=dataset1\n",
    "# Xc=dataset.iloc[:,3:].values\n",
    "# y=dataset.iloc[:,2].values\n",
    "# scaler = preprocessing.StandardScaler()\n",
    "# X = scaler.fit_transform(Xc)"
   ]
  },
  {
   "cell_type": "code",
   "execution_count": 8,
   "metadata": {},
   "outputs": [
    {
     "data": {
      "text/plain": [
       "array([1., 1., 1., ..., 0., 0., 0.])"
      ]
     },
     "execution_count": 8,
     "metadata": {},
     "output_type": "execute_result"
    }
   ],
   "source": [
    "# y.shape\n",
    "y"
   ]
  },
  {
   "cell_type": "code",
   "execution_count": 9,
   "metadata": {},
   "outputs": [],
   "source": [
    "rs=16"
   ]
  },
  {
   "cell_type": "code",
   "execution_count": 10,
   "metadata": {},
   "outputs": [
    {
     "data": {
      "text/plain": [
       "(array([0., 1.]), array([1440, 1440]))"
      ]
     },
     "execution_count": 10,
     "metadata": {},
     "output_type": "execute_result"
    }
   ],
   "source": [
    "np.unique(y,return_counts=True)"
   ]
  },
  {
   "cell_type": "code",
   "execution_count": 11,
   "metadata": {},
   "outputs": [],
   "source": [
    "X_train, X_test, y_train, y_test = train_test_split(X,y, test_size=.20, random_state=rs) "
   ]
  },
  {
   "cell_type": "code",
   "execution_count": 12,
   "metadata": {},
   "outputs": [
    {
     "data": {
      "text/plain": [
       "((576, 272), (576,))"
      ]
     },
     "execution_count": 12,
     "metadata": {},
     "output_type": "execute_result"
    }
   ],
   "source": [
    "X_test.shape, y_test.shape"
   ]
  },
  {
   "cell_type": "code",
   "execution_count": 13,
   "metadata": {},
   "outputs": [
    {
     "data": {
      "text/plain": [
       "(array([0., 1.]), array([285, 291]))"
      ]
     },
     "execution_count": 13,
     "metadata": {},
     "output_type": "execute_result"
    }
   ],
   "source": [
    "np.unique(y_test)\n",
    "np.unique(y_test,return_counts=True)"
   ]
  },
  {
   "cell_type": "markdown",
   "metadata": {},
   "source": [
    "# Grid search"
   ]
  },
  {
   "cell_type": "markdown",
   "metadata": {},
   "source": [
    "### Whole brain accuracy and AUC"
   ]
  },
  {
   "cell_type": "code",
   "execution_count": 14,
   "metadata": {},
   "outputs": [],
   "source": [
    "# whc=pd.DataFrame([acc,roc_auc])\n",
    "# whc"
   ]
  },
  {
   "cell_type": "code",
   "execution_count": 15,
   "metadata": {},
   "outputs": [],
   "source": [
    "# cv=5\n",
    "# from sklearn.model_selection import GridSearchCV\n",
    "# parameters = {'kernel':['rbf'], 'C':[1],'gamma':[0.01 ]}\n",
    "# svc = svm.SVC()\n",
    "# clf = GridSearchCV(svc, parameters,cv=cv)\n",
    "# clf.fit(X_train, y_train)"
   ]
  },
  {
   "cell_type": "code",
   "execution_count": 16,
   "metadata": {},
   "outputs": [
    {
     "name": "stdout",
     "output_type": "stream",
     "text": [
      "Accuracy:0.8826 (+/-0.0123)\n",
      "0.9097222222222222\n",
      "(0, 68)\n",
      "             precision    recall  f1-score   support\n",
      "\n",
      "        0.0       0.89      0.93      0.91       285\n",
      "        1.0       0.93      0.89      0.91       291\n",
      "\n",
      "avg / total       0.91      0.91      0.91       576\n",
      "\n",
      "('AUC:', 0.9098932899258455)\n",
      "Accuracy:0.8739 (+/-0.0146)\n",
      "0.890625\n",
      "(68, 136)\n",
      "             precision    recall  f1-score   support\n",
      "\n",
      "        0.0       0.89      0.89      0.89       285\n",
      "        1.0       0.89      0.89      0.89       291\n",
      "\n",
      "avg / total       0.89      0.89      0.89       576\n",
      "\n",
      "('AUC:', 0.8905950443118104)\n",
      "Accuracy:0.9194 (+/-0.0118)\n",
      "0.9322916666666666\n",
      "(136, 204)\n",
      "             precision    recall  f1-score   support\n",
      "\n",
      "        0.0       0.95      0.91      0.93       285\n",
      "        1.0       0.91      0.96      0.93       291\n",
      "\n",
      "avg / total       0.93      0.93      0.93       576\n",
      "\n",
      "('AUC:', 0.9320491951528306)\n",
      "Accuracy:0.9324 (+/-0.0155)\n",
      "0.9496527777777778\n",
      "(204, 272)\n",
      "             precision    recall  f1-score   support\n",
      "\n",
      "        0.0       0.95      0.95      0.95       285\n",
      "        1.0       0.95      0.95      0.95       291\n",
      "\n",
      "avg / total       0.95      0.95      0.95       576\n",
      "\n",
      "('AUC:', 0.9496654006149393)\n"
     ]
    }
   ],
   "source": [
    "k=0;j=68; acgw=[];\n",
    "for i in range(0,4):\n",
    "    cv=5\n",
    "    from sklearn.model_selection import GridSearchCV\n",
    "#     parameters = {'kernel':['rbf'], 'C':[10],'gamma':[0.01]}\n",
    "    parameters = {'kernel':['rbf'], 'C':[1, 10,20,30, 40, 50, 60, 70, 90,100,1000],'gamma':[0.01,0.0147, 0.016, 0.019, 0.021, 2/1428.0,1/1428.0]}\n",
    "    svc = svm.SVC()\n",
    "    clf = GridSearchCV(svc, parameters,cv=cv)\n",
    "    clf.fit(X_train[:,k:j], y_train)\n",
    "    pred=clf.best_estimator_.predict(X_test[:,k:j])\n",
    "    acc=clf.score(X_test[:,k:j], y_test)\n",
    "    acgw=np.append(acgw,acc)\n",
    "    scores=clf.cv_results_['mean_test_score']\n",
    "#     print(\"Accuracy:%0.3f (+/-%0.3f)\" %(scores.mean(), scores.std()*2))\n",
    "    print(\"Accuracy:%0.4f (+/-%0.4f)\" %(scores.mean(), scores.std()))\n",
    "    print (acc)\n",
    "    print (k,j)\n",
    "    print(classification_report(y_test, pred))\n",
    "#     Sve=float(len(clf.best_estimator_.support_vectors_)/X_train.shape[0])\n",
    "#     print('Support:',Sve)\n",
    "    false_positive_rate, true_positive_rate, thresholds = roc_curve(y_test,pred)\n",
    "    roc_auc = auc(false_positive_rate, true_positive_rate)\n",
    "    print('AUC:',roc_auc)\n",
    "    k=k+68;j=j+68;"
   ]
  },
  {
   "cell_type": "code",
   "execution_count": 17,
   "metadata": {},
   "outputs": [
    {
     "data": {
      "text/plain": [
       "0.9496654006149393"
      ]
     },
     "execution_count": 17,
     "metadata": {},
     "output_type": "execute_result"
    }
   ],
   "source": [
    "###This is the for last data only\n",
    "false_positive_rate, true_positive_rate, thresholds = roc_curve(y_test,pred)\n",
    "roc_auc_rh = auc(false_positive_rate, true_positive_rate)\n",
    "roc_auc_rh"
   ]
  },
  {
   "cell_type": "code",
   "execution_count": 18,
   "metadata": {},
   "outputs": [
    {
     "data": {
      "text/plain": [
       "SVC(C=60, cache_size=200, class_weight=None, coef0=0.0,\n",
       "  decision_function_shape='ovr', degree=3, gamma=0.00140056022409,\n",
       "  kernel='rbf', max_iter=-1, probability=False, random_state=None,\n",
       "  shrinking=True, tol=0.001, verbose=False)"
      ]
     },
     "execution_count": 18,
     "metadata": {},
     "output_type": "execute_result"
    }
   ],
   "source": [
    "clf.best_estimator_"
   ]
  },
  {
   "cell_type": "code",
   "execution_count": 19,
   "metadata": {},
   "outputs": [
    {
     "data": {
      "text/plain": [
       "(576, 68)"
      ]
     },
     "execution_count": 19,
     "metadata": {},
     "output_type": "execute_result"
    }
   ],
   "source": [
    "yr=X_test[:,0:68]\n",
    "yr.shape"
   ]
  },
  {
   "cell_type": "markdown",
   "metadata": {},
   "source": [
    "# Hemisphere"
   ]
  },
  {
   "cell_type": "markdown",
   "metadata": {},
   "source": [
    "### RH"
   ]
  },
  {
   "cell_type": "code",
   "execution_count": 21,
   "metadata": {},
   "outputs": [
    {
     "name": "stdout",
     "output_type": "stream",
     "text": [
      "Accuracy:0.8135 (+/-0.0134)\n",
      "0.8472222222222222\n",
      "(0, 34)\n",
      "('AUC:', 0.847241815879906)\n",
      "Accuracy:0.7978 (+/-0.0156)\n",
      "0.8107638888888888\n",
      "(34, 68)\n",
      "('AUC:', 0.8106167480557063)\n",
      "Accuracy:0.8207 (+/-0.0116)\n",
      "0.8315972222222222\n",
      "(68, 102)\n",
      "('AUC:', 0.8315970338216676)\n",
      "Accuracy:0.8015 (+/-0.0132)\n",
      "0.8072916666666666\n",
      "(102, 136)\n",
      "('AUC:', 0.8072888406583469)\n"
     ]
    }
   ],
   "source": [
    "# only 34 features \n",
    "a=range(0,(X.shape[1]),2)\n",
    "d11=X[:,a];\n",
    "X_train, X_test, y_train, y_test = train_test_split(d11,y, test_size=.20, random_state=rs) \n",
    "# parameters = {'kernel':['rbf'], 'C':[1, 10,20,30, 40, 50, 60, 70, 90,100,1000],'gamma':[0.015,0.025, 0.029, 0.030,0.035]}\n",
    "parameters = {'kernel':['rbf'], 'C':[1, 10,20,30, 40, 50, 60, 70, 90,100,1000],'gamma':[0.015,0.025, 0.029, 0.030,0.035]}\n",
    "svc = svm.SVC()\n",
    "k=0;j=34; acgr=[];\n",
    "for i in range(0,4):\n",
    "    cv=5\n",
    "    from sklearn.model_selection import GridSearchCV\n",
    "#     parameters = {'kernel':['rbf'], 'C':[1, 10,100,1000],'gamma':[0.01,2/1428.0,1/1428.0]}\n",
    "    svc = svm.SVC()\n",
    "    clf = GridSearchCV(svc, parameters,cv=cv)\n",
    "    clf.fit(X_train[:,k:j], y_train)\n",
    "    pred=clf.best_estimator_.predict(X_test[:,k:j])\n",
    "    acc=clf.score(X_test[:,k:j], y_test)\n",
    "    acgr=np.append(acgr,acc)\n",
    "    scores=clf.cv_results_['mean_test_score']\n",
    "    print(\"Accuracy:%0.4f (+/-%0.4f)\" %(scores.mean(), scores.std()))\n",
    "    print (acc)\n",
    "    print (k,j)\n",
    "#     print(classification_report(y_test, pred))\n",
    "#     Sve=float(len(clf.best_estimator_.support_vectors_)/X_train.shape[0])\n",
    "#     print('Support:',Sve)\n",
    "    false_positive_rate, true_positive_rate, thresholds = roc_curve(y_test,pred)\n",
    "    roc_auc = auc(false_positive_rate, true_positive_rate)\n",
    "    print('AUC:',roc_auc)\n",
    "    k=k+34;j=j+34;"
   ]
  },
  {
   "cell_type": "code",
   "execution_count": null,
   "metadata": {},
   "outputs": [],
   "source": [
    "###This is the for last data only\n",
    "# false_positive_rate, true_positive_rate, thresholds = roc_curve(y_test,pred)\n",
    "# roc_auc_rh = auc(false_positive_rate, true_positive_rate)\n",
    "# roc_auc_rh"
   ]
  },
  {
   "cell_type": "markdown",
   "metadata": {},
   "source": [
    "### LH"
   ]
  },
  {
   "cell_type": "code",
   "execution_count": 22,
   "metadata": {},
   "outputs": [
    {
     "name": "stdout",
     "output_type": "stream",
     "text": [
      "Accuracy:0.7890 (+/-0.0149)\n",
      "0.8125\n",
      "(0, 34)\n",
      "             precision    recall  f1-score   support\n",
      "\n",
      "        0.0       0.78      0.86      0.82       285\n",
      "        1.0       0.85      0.77      0.81       291\n",
      "\n",
      "avg / total       0.82      0.81      0.81       576\n",
      "\n",
      "('AUC:', 0.8129499005245071)\n",
      "Accuracy:0.7468 (+/-0.0162)\n",
      "0.7690972222222222\n",
      "(34, 68)\n",
      "             precision    recall  f1-score   support\n",
      "\n",
      "        0.0       0.75      0.80      0.77       285\n",
      "        1.0       0.79      0.74      0.76       291\n",
      "\n",
      "avg / total       0.77      0.77      0.77       576\n",
      "\n",
      "('AUC:', 0.7694158075601375)\n",
      "Accuracy:0.8227 (+/-0.0134)\n",
      "0.8420138888888888\n",
      "(68, 102)\n",
      "             precision    recall  f1-score   support\n",
      "\n",
      "        0.0       0.84      0.84      0.84       285\n",
      "        1.0       0.84      0.84      0.84       291\n",
      "\n",
      "avg / total       0.84      0.84      0.84       576\n",
      "\n",
      "('AUC:', 0.8420148308916622)\n",
      "Accuracy:0.8508 (+/-0.0119)\n",
      "0.8732638888888888\n",
      "(102, 136)\n",
      "             precision    recall  f1-score   support\n",
      "\n",
      "        0.0       0.86      0.88      0.87       285\n",
      "        1.0       0.88      0.86      0.87       291\n",
      "\n",
      "avg / total       0.87      0.87      0.87       576\n",
      "\n",
      "('AUC:', 0.8733767408211249)\n"
     ]
    }
   ],
   "source": [
    "b=range(1,(X.shape[1]),2)\n",
    "d22=X[:,b];\n",
    "X_train, X_test, y_train, y_test = train_test_split(d22,y, test_size=.20, random_state=rs) \n",
    "k=0;j=34; acgl=[];\n",
    "for i in range(0,4):\n",
    "    cv=5\n",
    "    from sklearn.model_selection import GridSearchCV\n",
    "#     parameters = {'kernel':['rbf'], 'C':[1, 10,100,1000],'gamma':[0.01,2/1428.0,1/1428.0]}\n",
    "#     parameters = {'kernel':['rbf'], 'C':[1, 10,20,30, 40, 50, 60, 70, 90,100,1000],'gamma':[0.015,0.025, 0.029, 0.030,0.035]}\n",
    "    parameters = {'kernel':['rbf'], 'C':[1, 10,20,30, 40, 50, 60, 70, 90,100,1000],'gamma':[0.015,0.025, 0.029, 0.030,0.035]}\n",
    "    svc = svm.SVC()\n",
    "    clf = GridSearchCV(svc, parameters,cv=cv)\n",
    "    clf.fit(X_train[:,k:j], y_train)\n",
    "    pred=clf.best_estimator_.predict(X_test[:,k:j])\n",
    "    acc=clf.score(X_test[:,k:j], y_test)\n",
    "    acgl=np.append(acgl,acc)\n",
    "    scores=clf.cv_results_['mean_test_score']\n",
    "#     print scores\n",
    "    print(\"Accuracy:%0.4f (+/-%0.4f)\" %(scores.mean(), scores.std()))\n",
    "    print (acc)\n",
    "    print (k,j)\n",
    "    print(classification_report(y_test, pred))\n",
    "#     Sve=float(len(clf.best_estimator_.support_vectors_)/X_train.shape[0])\n",
    "#     print('Support:',Sve)\n",
    "    false_positive_rate, true_positive_rate, thresholds = roc_curve(y_test,pred)\n",
    "    roc_auc = auc(false_positive_rate, true_positive_rate)\n",
    "    print('AUC:',roc_auc)\n",
    "    k=k+34;j=j+34;"
   ]
  },
  {
   "cell_type": "code",
   "execution_count": 23,
   "metadata": {},
   "outputs": [
    {
     "data": {
      "text/plain": [
       "0.8733767408211249"
      ]
     },
     "execution_count": 23,
     "metadata": {},
     "output_type": "execute_result"
    }
   ],
   "source": [
    "###This is the for last data only\n",
    "false_positive_rate, true_positive_rate, thresholds = roc_curve(y_test,pred)\n",
    "roc_auc_rh = auc(false_positive_rate, true_positive_rate)\n",
    "roc_auc_rh"
   ]
  },
  {
   "cell_type": "code",
   "execution_count": 24,
   "metadata": {},
   "outputs": [],
   "source": [
    "t=np.linspace(0,3,4, endpoint=True)\n",
    "time=pd.DataFrame(t)\n",
    "# a=pd.concat([time,pd.DataFrame(acgw),pd.DataFrame(acgl),pd.DataFrame(acgr)],axis=1, keys=[ 'time',\"Whole\", \"LH\", \"RH\"])\n",
    "a=pd.concat([time,pd.DataFrame(acgw),pd.DataFrame(acgl),pd.DataFrame(acgr)],axis=1, keys=[ 'time',\"Whole\", \"LH\", \"RH\"])"
   ]
  },
  {
   "cell_type": "code",
   "execution_count": 25,
   "metadata": {},
   "outputs": [
    {
     "data": {
      "text/plain": [
       "0.8472222222222222"
      ]
     },
     "execution_count": 25,
     "metadata": {},
     "output_type": "execute_result"
    }
   ],
   "source": [
    "np.max(acgl)\n",
    "np.max(a.iloc[:,3])"
   ]
  },
  {
   "cell_type": "code",
   "execution_count": 26,
   "metadata": {},
   "outputs": [],
   "source": [
    "# wpath=\"/home/sultan/EEG/Source_level_frequency_analysis/Results/\"\n",
    "# dall=a\n",
    "# # dall.to_csv(wpath+'svm_res_100sam_10ms_clear_v1.csv')\n",
    "# dall.to_csv(wpath+'svm_res_band_100sam_clear_v1.csv')"
   ]
  },
  {
   "cell_type": "code",
   "execution_count": 27,
   "metadata": {},
   "outputs": [
    {
     "data": {
      "image/png": "[encoded data removed]",
      "text/plain": [
       "<Figure size 432x288 with 1 Axes>"
      ]
     },
     "metadata": {
      "needs_background": "light"
     },
     "output_type": "display_data"
    }
   ],
   "source": [
    "axis_font = {'fontname':'Arial', 'size':'15'}\n",
    "#tw1=tad.iloc[1:,0];Acdw1=tad.iloc[1:,1];\n",
    "tw1=a.iloc[0:,0];Acdw=a.iloc[0:,1];Acdlh=a.iloc[0:,2];Acdrh=a.iloc[0:,3]\n",
    "# plt.plot(tw1,Acdw1,c='g')\n",
    "plt.plot(tw1,Acdw,'g',linewidth=2,marker='*')\n",
    "plt.plot(tw1, Acdlh,'--r',linewidth=2,marker='o')\n",
    "plt.plot(tw1, Acdrh,'--b',linewidth=2,marker='x')\n",
    "plt.title('Evoked_Rs:'+str(rs))\n",
    "plt.xlim(0,4)\n",
    "plt.ylim(0.1,1)\n",
    "plt.grid(True)\n",
    "plt.tight_layout()\n",
    "plt.gca().legend(('Whole','LH','RH'),fontsize=16,loc='best')\n",
    "# plt.savefig('whole_acc_timem.eps')\n",
    "# plt.savefig('whole_acc_timem.tif')\n",
    "plt.show()"
   ]
  },
  {
   "cell_type": "code",
   "execution_count": 28,
   "metadata": {},
   "outputs": [
    {
     "data": {
      "text/plain": [
       "40.104166666666664"
      ]
     },
     "execution_count": 28,
     "metadata": {},
     "output_type": "execute_result"
    }
   ],
   "source": [
    "len(clf.best_estimator_.support_vectors_)*100.0/(X_train.shape[0])"
   ]
  },
  {
   "cell_type": "code",
   "execution_count": 29,
   "metadata": {},
   "outputs": [],
   "source": [
    "# dall"
   ]
  },
  {
   "cell_type": "code",
   "execution_count": 30,
   "metadata": {},
   "outputs": [
    {
     "data": {
      "text/html": [
       "<div>\n",
       "<style scoped>\n",
       "    .dataframe tbody tr th:only-of-type {\n",
       "        vertical-align: middle;\n",
       "    }\n",
       "\n",
       "    .dataframe tbody tr th {\n",
       "        vertical-align: top;\n",
       "    }\n",
       "\n",
       "    .dataframe thead tr th {\n",
       "        text-align: left;\n",
       "    }\n",
       "</style>\n",
       "<table border=\"1\" class=\"dataframe\">\n",
       "  <thead>\n",
       "    <tr>\n",
       "      <th></th>\n",
       "      <th>time</th>\n",
       "      <th>Whole</th>\n",
       "      <th>LH</th>\n",
       "      <th>RH</th>\n",
       "    </tr>\n",
       "    <tr>\n",
       "      <th></th>\n",
       "      <th>0</th>\n",
       "      <th>0</th>\n",
       "      <th>0</th>\n",
       "      <th>0</th>\n",
       "    </tr>\n",
       "  </thead>\n",
       "  <tbody>\n",
       "    <tr>\n",
       "      <th>0</th>\n",
       "      <td>0.0</td>\n",
       "      <td>0.909722</td>\n",
       "      <td>0.812500</td>\n",
       "      <td>0.847222</td>\n",
       "    </tr>\n",
       "    <tr>\n",
       "      <th>1</th>\n",
       "      <td>1.0</td>\n",
       "      <td>0.890625</td>\n",
       "      <td>0.769097</td>\n",
       "      <td>0.810764</td>\n",
       "    </tr>\n",
       "    <tr>\n",
       "      <th>2</th>\n",
       "      <td>2.0</td>\n",
       "      <td>0.932292</td>\n",
       "      <td>0.842014</td>\n",
       "      <td>0.831597</td>\n",
       "    </tr>\n",
       "    <tr>\n",
       "      <th>3</th>\n",
       "      <td>3.0</td>\n",
       "      <td>0.949653</td>\n",
       "      <td>0.873264</td>\n",
       "      <td>0.807292</td>\n",
       "    </tr>\n",
       "  </tbody>\n",
       "</table>\n",
       "</div>"
      ],
      "text/plain": [
       "  time     Whole        LH        RH\n",
       "     0         0         0         0\n",
       "0  0.0  0.909722  0.812500  0.847222\n",
       "1  1.0  0.890625  0.769097  0.810764\n",
       "2  2.0  0.932292  0.842014  0.831597\n",
       "3  3.0  0.949653  0.873264  0.807292"
      ]
     },
     "execution_count": 30,
     "metadata": {},
     "output_type": "execute_result"
    }
   ],
   "source": [
    "a"
   ]
  },
  {
   "cell_type": "markdown",
   "metadata": {},
   "source": [
    "### Stop here"
   ]
  },
  {
   "cell_type": "markdown",
   "metadata": {},
   "source": [
    "#### Writing into a csv file"
   ]
  },
  {
   "cell_type": "code",
   "execution_count": null,
   "metadata": {},
   "outputs": [],
   "source": [
    "# wrpath=\"/home/sultan/EEG/Source_level_frequency_analysis/Results/\"\n",
    "# bandallclean=pd.concat([Ffe*100,bb*100],axis=0)\n",
    "# # bandallclean.iloc[0:,:]\n",
    "# bandallclean\n",
    "# bandallclean.to_csv(wrpath+str(rs)+'Clear_band.csv')\n",
    "# wrpath+str(rs)+'Clear_band.cbsv'"
   ]
  },
  {
   "cell_type": "code",
   "execution_count": null,
   "metadata": {},
   "outputs": [],
   "source": [
    "rs"
   ]
  },
  {
   "cell_type": "code",
   "execution_count": 36,
   "metadata": {},
   "outputs": [
    {
     "data": {
      "text/plain": [
       "0.85078125"
      ]
     },
     "execution_count": 36,
     "metadata": {},
     "output_type": "execute_result"
    }
   ],
   "source": [
    "# clf.cv_results_\n",
    "scores.mean()"
   ]
  },
  {
   "cell_type": "code",
   "execution_count": null,
   "metadata": {},
   "outputs": [],
   "source": [
    "# abs(dataset1)"
   ]
  },
  {
   "cell_type": "code",
   "execution_count": null,
   "metadata": {},
   "outputs": [],
   "source": [
    "# dataset1"
   ]
  }
 ],
 "metadata": {
  "kernelspec": {
   "display_name": "Python 2",
   "language": "python",
   "name": "python2"
  },
  "language_info": {
   "codemirror_mode": {
    "name": "ipython",
    "version": 2
   },
   "file_extension": ".py",
   "mimetype": "text/x-python",
   "name": "python",
   "nbconvert_exporter": "python",
   "pygments_lexer": "ipython2",
   "version": "2.7.6"
  }
 },
 "nbformat": 4,
 "nbformat_minor": 2
}
